{
  "cells": [
    {
      "cell_type": "markdown",
      "metadata": {
        "id": "ApgJ-sMirHCs"
      },
      "source": [
        "# Instructions\n"
      ]
    },
    {
      "cell_type": "code",
      "execution_count": null,
      "metadata": {
        "colab": {
          "base_uri": "https://localhost:8080/",
          "height": 87
        },
        "id": "jbIaFq_lrgQw",
        "outputId": "5922bedf-050f-44e1-9e59-224ec99d1978"
      },
      "outputs": [
        {
          "output_type": "execute_result",
          "data": {
            "text/plain": [
              "'\\n\\n# Assignment\\n2.2 Collaborative Filtering\\nIn class, we have discussed matrix factorization methods for collaborative filtering. In this project, you will test this class of approaches and, if time permits, compare it to other methodologies.\\nTasks:\\n1. Implement a collaborative filtering algorithm (from scratch) on the MovieLens 1M Dataset available here.\\n2. For evaluating your method, you will use a random training set containing 90% of the available ratings and\\nwill report the Root Mean Squared Error (RMSE) on the remaining 10%.\\n3. You are encouraged to try several approaches and read the relevant recent literature on the problem.\\n'"
            ],
            "application/vnd.google.colaboratory.intrinsic+json": {
              "type": "string"
            }
          },
          "metadata": {},
          "execution_count": 1
        }
      ],
      "source": [
        "'''\n",
        "\n",
        "# Assignment\n",
        "2.2 Collaborative Filtering\n",
        "In class, we have discussed matrix factorization methods for collaborative filtering. In this project, you will test this class of approaches and, if time permits, compare it to other methodologies.\n",
        "Tasks:\n",
        "1. Implement a collaborative filtering algorithm (from scratch) on the MovieLens 1M Dataset available here.\n",
        "2. For evaluating your method, you will use a random training set containing 90% of the available ratings and\n",
        "will report the Root Mean Squared Error (RMSE) on the remaining 10%.\n",
        "3. You are encouraged to try several approaches and read the relevant recent literature on the problem.\n",
        "'''"
      ]
    },
    {
      "cell_type": "markdown",
      "metadata": {
        "id": "uUncRd7fUDS2"
      },
      "source": [
        "Group Number: 44\n",
        "\n",
        "Filename: assignment_2_44.ipynb \n",
        "\n",
        "Group Member 1: Beh Ruey Yan, A0236004W \n",
        "\n",
        "Group Member 2: Shan Shenghao, A0116327L\n",
        "\n",
        "Group Member 3: Wu Qiming, A0236022W \n",
        "\n",
        "Group Member 4: Hu Qisheng, A0235960B "
      ]
    },
    {
      "cell_type": "markdown",
      "metadata": {
        "id": "DXDIUjixStwo"
      },
      "source": [
        "https://files.grouplens.org/datasets/movielens/ml-1m.zip"
      ]
    },
    {
      "cell_type": "markdown",
      "metadata": {
        "id": "P8ZIbZUt4VB2"
      },
      "source": [
        "# First time setup\n",
        "#### Place \"ml-1m.zip\" under \"/content/drive/MyDrive/datasets/ml-1m/\"\n",
        "#### Run below to unzip"
      ]
    },
    {
      "cell_type": "code",
      "execution_count": null,
      "metadata": {
        "colab": {
          "base_uri": "https://localhost:8080/"
        },
        "id": "NExSgS3s4oL6",
        "outputId": "8ae24516-755a-49bb-9810-66708ee33968"
      },
      "outputs": [
        {
          "name": "stdout",
          "output_type": "stream",
          "text": [
            "Drive not mounted, so nothing to flush and unmount.\n",
            "Mounted at /content/drive\n"
          ]
        }
      ],
      "source": [
        "# start from fresh and unmount any drive that was mounted before\n",
        "# sometimes take a bit of time\n",
        "from google.colab import drive\n",
        "drive.flush_and_unmount()\n",
        "drive.mount(\"/content/drive\")\n",
        "!unzip /content/drive/MyDrive/datasets/ml-1m/ml-1m.zip  -d  /content/drive/MyDrive/datasets/ml-1m"
      ]
    },
    {
      "cell_type": "markdown",
      "metadata": {
        "id": "Fl_VkivqzGY_"
      },
      "source": [
        "# Load lm-1m on a Google Colab\n"
      ]
    },
    {
      "cell_type": "code",
      "execution_count": 1,
      "metadata": {
        "id": "mHfOeq2X2uCG"
      },
      "outputs": [],
      "source": [
        "import os\n",
        "import sys\n",
        "import pandas as pd\n",
        "import time\n",
        "import matplotlib.pyplot as plt\n",
        "import numpy as np\n",
        "import jax\n",
        "import jax.numpy as jnp\n",
        "from sklearn import metrics\n",
        "from sklearn.neighbors import NearestNeighbors\n",
        "from sklearn.preprocessing import LabelEncoder\n",
        "from sklearn.metrics import mean_squared_error\n",
        "from tqdm.notebook import tqdm_notebook\n",
        "import seaborn as sns\n",
        "import sklearn.preprocessing\n",
        "from jax import random\n",
        "from scipy.sparse import csr_matrix\n",
        "np.random.seed(42)\n",
        "key = random.PRNGKey(42)"
      ]
    },
    {
      "cell_type": "code",
      "execution_count": 2,
      "metadata": {
        "colab": {
          "base_uri": "https://localhost:8080/"
        },
        "id": "AWUHStifAUUI",
        "outputId": "52e75142-430d-4a89-e3a9-6c9936262f3b"
      },
      "outputs": [
        {
          "output_type": "stream",
          "name": "stdout",
          "text": [
            "Drive not mounted, so nothing to flush and unmount.\n",
            "Mounted at /content/drive\n"
          ]
        }
      ],
      "source": [
        "from google.colab import drive\n",
        "drive.flush_and_unmount()\n",
        "drive.mount(\"/content/drive\")"
      ]
    },
    {
      "cell_type": "code",
      "execution_count": 3,
      "metadata": {
        "colab": {
          "base_uri": "https://localhost:8080/"
        },
        "id": "_kzihgC4TM2G",
        "outputId": "32343342-5f4d-4ed6-8941-cf688895fd32"
      },
      "outputs": [
        {
          "output_type": "stream",
          "name": "stdout",
          "text": [
            "/content/drive/MyDrive/datasets/ml-1m\n"
          ]
        }
      ],
      "source": [
        "%cd /content/drive/MyDrive/datasets/ml-1m/"
      ]
    },
    {
      "cell_type": "code",
      "execution_count": 4,
      "metadata": {
        "colab": {
          "base_uri": "https://localhost:8080/"
        },
        "id": "YSssHpPU0NHl",
        "outputId": "22e682f6-2364-4c91-f616-72028156016e"
      },
      "outputs": [
        {
          "output_type": "stream",
          "name": "stderr",
          "text": [
            "/usr/local/lib/python3.7/dist-packages/pandas/util/_decorators.py:311: ParserWarning: Falling back to the 'python' engine because the 'c' engine does not support regex separators (separators > 1 char and different from '\\s+' are interpreted as regex); you can avoid this warning by specifying engine='python'.\n",
            "  return func(*args, **kwargs)\n"
          ]
        }
      ],
      "source": [
        "users = pd.read_csv(\"/content/drive/MyDrive/datasets/ml-1m/ml-1m/users.dat\",delimiter=\"::\",header=None, names=[\"UserID\", \"Gender\", \"Age\", \"Occupation\", \"Zip-code\"])\n",
        "\n",
        "movies = pd.read_csv(\"/content/drive/MyDrive/datasets/ml-1m/ml-1m/movies.dat\",delimiter=\"::\",header=None, names=[\"MovieID\", \"Title\", \"Genres\"],encoding='ISO-8859-1')\n",
        "\n",
        "ratings = pd.read_csv(\"/content/drive/MyDrive/datasets/ml-1m/ml-1m/ratings.dat\",delimiter=\"::\",header=None, names=[\"UserID\",\"MovieID\",\"Rating\",\"Timestamp\"])"
      ]
    },
    {
      "cell_type": "code",
      "execution_count": 5,
      "metadata": {
        "colab": {
          "base_uri": "https://localhost:8080/",
          "height": 206
        },
        "id": "N0-Y8wKtP-nF",
        "outputId": "1b644da0-268f-4cd5-f6cd-24c96fc9f1b3"
      },
      "outputs": [
        {
          "output_type": "execute_result",
          "data": {
            "text/plain": [
              "   UserID  MovieID  Rating  Timestamp                                   Title  \\\n",
              "0       1     1193       5  978300760  One Flew Over the Cuckoo's Nest (1975)   \n",
              "1       2     1193       5  978298413  One Flew Over the Cuckoo's Nest (1975)   \n",
              "2      12     1193       4  978220179  One Flew Over the Cuckoo's Nest (1975)   \n",
              "3      15     1193       4  978199279  One Flew Over the Cuckoo's Nest (1975)   \n",
              "4      17     1193       5  978158471  One Flew Over the Cuckoo's Nest (1975)   \n",
              "\n",
              "  Genres  \n",
              "0  Drama  \n",
              "1  Drama  \n",
              "2  Drama  \n",
              "3  Drama  \n",
              "4  Drama  "
            ],
            "text/html": [
              "\n",
              "  <div id=\"df-468eb911-777a-41f2-b336-9b714bb9c0d9\">\n",
              "    <div class=\"colab-df-container\">\n",
              "      <div>\n",
              "<style scoped>\n",
              "    .dataframe tbody tr th:only-of-type {\n",
              "        vertical-align: middle;\n",
              "    }\n",
              "\n",
              "    .dataframe tbody tr th {\n",
              "        vertical-align: top;\n",
              "    }\n",
              "\n",
              "    .dataframe thead th {\n",
              "        text-align: right;\n",
              "    }\n",
              "</style>\n",
              "<table border=\"1\" class=\"dataframe\">\n",
              "  <thead>\n",
              "    <tr style=\"text-align: right;\">\n",
              "      <th></th>\n",
              "      <th>UserID</th>\n",
              "      <th>MovieID</th>\n",
              "      <th>Rating</th>\n",
              "      <th>Timestamp</th>\n",
              "      <th>Title</th>\n",
              "      <th>Genres</th>\n",
              "    </tr>\n",
              "  </thead>\n",
              "  <tbody>\n",
              "    <tr>\n",
              "      <th>0</th>\n",
              "      <td>1</td>\n",
              "      <td>1193</td>\n",
              "      <td>5</td>\n",
              "      <td>978300760</td>\n",
              "      <td>One Flew Over the Cuckoo's Nest (1975)</td>\n",
              "      <td>Drama</td>\n",
              "    </tr>\n",
              "    <tr>\n",
              "      <th>1</th>\n",
              "      <td>2</td>\n",
              "      <td>1193</td>\n",
              "      <td>5</td>\n",
              "      <td>978298413</td>\n",
              "      <td>One Flew Over the Cuckoo's Nest (1975)</td>\n",
              "      <td>Drama</td>\n",
              "    </tr>\n",
              "    <tr>\n",
              "      <th>2</th>\n",
              "      <td>12</td>\n",
              "      <td>1193</td>\n",
              "      <td>4</td>\n",
              "      <td>978220179</td>\n",
              "      <td>One Flew Over the Cuckoo's Nest (1975)</td>\n",
              "      <td>Drama</td>\n",
              "    </tr>\n",
              "    <tr>\n",
              "      <th>3</th>\n",
              "      <td>15</td>\n",
              "      <td>1193</td>\n",
              "      <td>4</td>\n",
              "      <td>978199279</td>\n",
              "      <td>One Flew Over the Cuckoo's Nest (1975)</td>\n",
              "      <td>Drama</td>\n",
              "    </tr>\n",
              "    <tr>\n",
              "      <th>4</th>\n",
              "      <td>17</td>\n",
              "      <td>1193</td>\n",
              "      <td>5</td>\n",
              "      <td>978158471</td>\n",
              "      <td>One Flew Over the Cuckoo's Nest (1975)</td>\n",
              "      <td>Drama</td>\n",
              "    </tr>\n",
              "  </tbody>\n",
              "</table>\n",
              "</div>\n",
              "      <button class=\"colab-df-convert\" onclick=\"convertToInteractive('df-468eb911-777a-41f2-b336-9b714bb9c0d9')\"\n",
              "              title=\"Convert this dataframe to an interactive table.\"\n",
              "              style=\"display:none;\">\n",
              "        \n",
              "  <svg xmlns=\"http://www.w3.org/2000/svg\" height=\"24px\"viewBox=\"0 0 24 24\"\n",
              "       width=\"24px\">\n",
              "    <path d=\"M0 0h24v24H0V0z\" fill=\"none\"/>\n",
              "    <path d=\"M18.56 5.44l.94 2.06.94-2.06 2.06-.94-2.06-.94-.94-2.06-.94 2.06-2.06.94zm-11 1L8.5 8.5l.94-2.06 2.06-.94-2.06-.94L8.5 2.5l-.94 2.06-2.06.94zm10 10l.94 2.06.94-2.06 2.06-.94-2.06-.94-.94-2.06-.94 2.06-2.06.94z\"/><path d=\"M17.41 7.96l-1.37-1.37c-.4-.4-.92-.59-1.43-.59-.52 0-1.04.2-1.43.59L10.3 9.45l-7.72 7.72c-.78.78-.78 2.05 0 2.83L4 21.41c.39.39.9.59 1.41.59.51 0 1.02-.2 1.41-.59l7.78-7.78 2.81-2.81c.8-.78.8-2.07 0-2.86zM5.41 20L4 18.59l7.72-7.72 1.47 1.35L5.41 20z\"/>\n",
              "  </svg>\n",
              "      </button>\n",
              "      \n",
              "  <style>\n",
              "    .colab-df-container {\n",
              "      display:flex;\n",
              "      flex-wrap:wrap;\n",
              "      gap: 12px;\n",
              "    }\n",
              "\n",
              "    .colab-df-convert {\n",
              "      background-color: #E8F0FE;\n",
              "      border: none;\n",
              "      border-radius: 50%;\n",
              "      cursor: pointer;\n",
              "      display: none;\n",
              "      fill: #1967D2;\n",
              "      height: 32px;\n",
              "      padding: 0 0 0 0;\n",
              "      width: 32px;\n",
              "    }\n",
              "\n",
              "    .colab-df-convert:hover {\n",
              "      background-color: #E2EBFA;\n",
              "      box-shadow: 0px 1px 2px rgba(60, 64, 67, 0.3), 0px 1px 3px 1px rgba(60, 64, 67, 0.15);\n",
              "      fill: #174EA6;\n",
              "    }\n",
              "\n",
              "    [theme=dark] .colab-df-convert {\n",
              "      background-color: #3B4455;\n",
              "      fill: #D2E3FC;\n",
              "    }\n",
              "\n",
              "    [theme=dark] .colab-df-convert:hover {\n",
              "      background-color: #434B5C;\n",
              "      box-shadow: 0px 1px 3px 1px rgba(0, 0, 0, 0.15);\n",
              "      filter: drop-shadow(0px 1px 2px rgba(0, 0, 0, 0.3));\n",
              "      fill: #FFFFFF;\n",
              "    }\n",
              "  </style>\n",
              "\n",
              "      <script>\n",
              "        const buttonEl =\n",
              "          document.querySelector('#df-468eb911-777a-41f2-b336-9b714bb9c0d9 button.colab-df-convert');\n",
              "        buttonEl.style.display =\n",
              "          google.colab.kernel.accessAllowed ? 'block' : 'none';\n",
              "\n",
              "        async function convertToInteractive(key) {\n",
              "          const element = document.querySelector('#df-468eb911-777a-41f2-b336-9b714bb9c0d9');\n",
              "          const dataTable =\n",
              "            await google.colab.kernel.invokeFunction('convertToInteractive',\n",
              "                                                     [key], {});\n",
              "          if (!dataTable) return;\n",
              "\n",
              "          const docLinkHtml = 'Like what you see? Visit the ' +\n",
              "            '<a target=\"_blank\" href=https://colab.research.google.com/notebooks/data_table.ipynb>data table notebook</a>'\n",
              "            + ' to learn more about interactive tables.';\n",
              "          element.innerHTML = '';\n",
              "          dataTable['output_type'] = 'display_data';\n",
              "          await google.colab.output.renderOutput(dataTable, element);\n",
              "          const docLink = document.createElement('div');\n",
              "          docLink.innerHTML = docLinkHtml;\n",
              "          element.appendChild(docLink);\n",
              "        }\n",
              "      </script>\n",
              "    </div>\n",
              "  </div>\n",
              "  "
            ]
          },
          "metadata": {},
          "execution_count": 5
        }
      ],
      "source": [
        "# Merge two datasets to have better picture\n",
        "df = pd.merge(ratings, movies, on=\"MovieID\")\n",
        "df.head()"
      ]
    },
    {
      "cell_type": "code",
      "execution_count": 6,
      "metadata": {
        "id": "ZWZuEK34QMBf"
      },
      "outputs": [],
      "source": [
        "# Create a dataset to explore\n",
        "eda_rating = pd.DataFrame(df.groupby('Title')['Rating'].mean())"
      ]
    },
    {
      "cell_type": "code",
      "execution_count": 7,
      "metadata": {
        "id": "K64Hlq-rQfvL"
      },
      "outputs": [],
      "source": [
        "# Add number of ratings to the dataset\n",
        "eda_rating['count of ratings'] = pd.DataFrame(df.groupby('Title')['Rating'].count())"
      ]
    },
    {
      "cell_type": "code",
      "execution_count": 8,
      "metadata": {
        "colab": {
          "base_uri": "https://localhost:8080/",
          "height": 394
        },
        "id": "Eumh7zFaQSd8",
        "outputId": "576036d9-3b63-4fe4-eb92-b099a4d4c59c"
      },
      "outputs": [
        {
          "output_type": "execute_result",
          "data": {
            "text/plain": [
              "                                                      Rating  count of ratings\n",
              "Title                                                                         \n",
              "American Beauty (1999)                              4.317386              3428\n",
              "Star Wars: Episode IV - A New Hope (1977)           4.453694              2991\n",
              "Star Wars: Episode V - The Empire Strikes Back ...  4.292977              2990\n",
              "Star Wars: Episode VI - Return of the Jedi (1983)   4.022893              2883\n",
              "Jurassic Park (1993)                                3.763847              2672\n",
              "Saving Private Ryan (1998)                          4.337354              2653\n",
              "Terminator 2: Judgment Day (1991)                   4.058513              2649\n",
              "Matrix, The (1999)                                  4.315830              2590\n",
              "Back to the Future (1985)                           3.990321              2583\n",
              "Silence of the Lambs, The (1991)                    4.351823              2578"
            ],
            "text/html": [
              "\n",
              "  <div id=\"df-3351fb6f-edd6-49eb-b78d-c806ab51672c\">\n",
              "    <div class=\"colab-df-container\">\n",
              "      <div>\n",
              "<style scoped>\n",
              "    .dataframe tbody tr th:only-of-type {\n",
              "        vertical-align: middle;\n",
              "    }\n",
              "\n",
              "    .dataframe tbody tr th {\n",
              "        vertical-align: top;\n",
              "    }\n",
              "\n",
              "    .dataframe thead th {\n",
              "        text-align: right;\n",
              "    }\n",
              "</style>\n",
              "<table border=\"1\" class=\"dataframe\">\n",
              "  <thead>\n",
              "    <tr style=\"text-align: right;\">\n",
              "      <th></th>\n",
              "      <th>Rating</th>\n",
              "      <th>count of ratings</th>\n",
              "    </tr>\n",
              "    <tr>\n",
              "      <th>Title</th>\n",
              "      <th></th>\n",
              "      <th></th>\n",
              "    </tr>\n",
              "  </thead>\n",
              "  <tbody>\n",
              "    <tr>\n",
              "      <th>American Beauty (1999)</th>\n",
              "      <td>4.317386</td>\n",
              "      <td>3428</td>\n",
              "    </tr>\n",
              "    <tr>\n",
              "      <th>Star Wars: Episode IV - A New Hope (1977)</th>\n",
              "      <td>4.453694</td>\n",
              "      <td>2991</td>\n",
              "    </tr>\n",
              "    <tr>\n",
              "      <th>Star Wars: Episode V - The Empire Strikes Back (1980)</th>\n",
              "      <td>4.292977</td>\n",
              "      <td>2990</td>\n",
              "    </tr>\n",
              "    <tr>\n",
              "      <th>Star Wars: Episode VI - Return of the Jedi (1983)</th>\n",
              "      <td>4.022893</td>\n",
              "      <td>2883</td>\n",
              "    </tr>\n",
              "    <tr>\n",
              "      <th>Jurassic Park (1993)</th>\n",
              "      <td>3.763847</td>\n",
              "      <td>2672</td>\n",
              "    </tr>\n",
              "    <tr>\n",
              "      <th>Saving Private Ryan (1998)</th>\n",
              "      <td>4.337354</td>\n",
              "      <td>2653</td>\n",
              "    </tr>\n",
              "    <tr>\n",
              "      <th>Terminator 2: Judgment Day (1991)</th>\n",
              "      <td>4.058513</td>\n",
              "      <td>2649</td>\n",
              "    </tr>\n",
              "    <tr>\n",
              "      <th>Matrix, The (1999)</th>\n",
              "      <td>4.315830</td>\n",
              "      <td>2590</td>\n",
              "    </tr>\n",
              "    <tr>\n",
              "      <th>Back to the Future (1985)</th>\n",
              "      <td>3.990321</td>\n",
              "      <td>2583</td>\n",
              "    </tr>\n",
              "    <tr>\n",
              "      <th>Silence of the Lambs, The (1991)</th>\n",
              "      <td>4.351823</td>\n",
              "      <td>2578</td>\n",
              "    </tr>\n",
              "  </tbody>\n",
              "</table>\n",
              "</div>\n",
              "      <button class=\"colab-df-convert\" onclick=\"convertToInteractive('df-3351fb6f-edd6-49eb-b78d-c806ab51672c')\"\n",
              "              title=\"Convert this dataframe to an interactive table.\"\n",
              "              style=\"display:none;\">\n",
              "        \n",
              "  <svg xmlns=\"http://www.w3.org/2000/svg\" height=\"24px\"viewBox=\"0 0 24 24\"\n",
              "       width=\"24px\">\n",
              "    <path d=\"M0 0h24v24H0V0z\" fill=\"none\"/>\n",
              "    <path d=\"M18.56 5.44l.94 2.06.94-2.06 2.06-.94-2.06-.94-.94-2.06-.94 2.06-2.06.94zm-11 1L8.5 8.5l.94-2.06 2.06-.94-2.06-.94L8.5 2.5l-.94 2.06-2.06.94zm10 10l.94 2.06.94-2.06 2.06-.94-2.06-.94-.94-2.06-.94 2.06-2.06.94z\"/><path d=\"M17.41 7.96l-1.37-1.37c-.4-.4-.92-.59-1.43-.59-.52 0-1.04.2-1.43.59L10.3 9.45l-7.72 7.72c-.78.78-.78 2.05 0 2.83L4 21.41c.39.39.9.59 1.41.59.51 0 1.02-.2 1.41-.59l7.78-7.78 2.81-2.81c.8-.78.8-2.07 0-2.86zM5.41 20L4 18.59l7.72-7.72 1.47 1.35L5.41 20z\"/>\n",
              "  </svg>\n",
              "      </button>\n",
              "      \n",
              "  <style>\n",
              "    .colab-df-container {\n",
              "      display:flex;\n",
              "      flex-wrap:wrap;\n",
              "      gap: 12px;\n",
              "    }\n",
              "\n",
              "    .colab-df-convert {\n",
              "      background-color: #E8F0FE;\n",
              "      border: none;\n",
              "      border-radius: 50%;\n",
              "      cursor: pointer;\n",
              "      display: none;\n",
              "      fill: #1967D2;\n",
              "      height: 32px;\n",
              "      padding: 0 0 0 0;\n",
              "      width: 32px;\n",
              "    }\n",
              "\n",
              "    .colab-df-convert:hover {\n",
              "      background-color: #E2EBFA;\n",
              "      box-shadow: 0px 1px 2px rgba(60, 64, 67, 0.3), 0px 1px 3px 1px rgba(60, 64, 67, 0.15);\n",
              "      fill: #174EA6;\n",
              "    }\n",
              "\n",
              "    [theme=dark] .colab-df-convert {\n",
              "      background-color: #3B4455;\n",
              "      fill: #D2E3FC;\n",
              "    }\n",
              "\n",
              "    [theme=dark] .colab-df-convert:hover {\n",
              "      background-color: #434B5C;\n",
              "      box-shadow: 0px 1px 3px 1px rgba(0, 0, 0, 0.15);\n",
              "      filter: drop-shadow(0px 1px 2px rgba(0, 0, 0, 0.3));\n",
              "      fill: #FFFFFF;\n",
              "    }\n",
              "  </style>\n",
              "\n",
              "      <script>\n",
              "        const buttonEl =\n",
              "          document.querySelector('#df-3351fb6f-edd6-49eb-b78d-c806ab51672c button.colab-df-convert');\n",
              "        buttonEl.style.display =\n",
              "          google.colab.kernel.accessAllowed ? 'block' : 'none';\n",
              "\n",
              "        async function convertToInteractive(key) {\n",
              "          const element = document.querySelector('#df-3351fb6f-edd6-49eb-b78d-c806ab51672c');\n",
              "          const dataTable =\n",
              "            await google.colab.kernel.invokeFunction('convertToInteractive',\n",
              "                                                     [key], {});\n",
              "          if (!dataTable) return;\n",
              "\n",
              "          const docLinkHtml = 'Like what you see? Visit the ' +\n",
              "            '<a target=\"_blank\" href=https://colab.research.google.com/notebooks/data_table.ipynb>data table notebook</a>'\n",
              "            + ' to learn more about interactive tables.';\n",
              "          element.innerHTML = '';\n",
              "          dataTable['output_type'] = 'display_data';\n",
              "          await google.colab.output.renderOutput(dataTable, element);\n",
              "          const docLink = document.createElement('div');\n",
              "          docLink.innerHTML = docLinkHtml;\n",
              "          element.appendChild(docLink);\n",
              "        }\n",
              "      </script>\n",
              "    </div>\n",
              "  </div>\n",
              "  "
            ]
          },
          "metadata": {},
          "execution_count": 8
        }
      ],
      "source": [
        "# Top 10 most rated movies in our dataset\n",
        "eda_rating.sort_values('count of ratings', ascending=False).head(10)"
      ]
    },
    {
      "cell_type": "code",
      "execution_count": 9,
      "metadata": {
        "colab": {
          "base_uri": "https://localhost:8080/",
          "height": 386
        },
        "id": "Be3yjUCJQlwQ",
        "outputId": "2b14b64c-3209-435d-b785-d3d97b4146eb"
      },
      "outputs": [
        {
          "output_type": "execute_result",
          "data": {
            "text/plain": [
              "<seaborn.axisgrid.FacetGrid at 0x7fc721935b90>"
            ]
          },
          "metadata": {},
          "execution_count": 9
        },
        {
          "output_type": "display_data",
          "data": {
            "text/plain": [
              "<Figure size 360x360 with 1 Axes>"
            ],
            "image/png": "[encoded data removed]"
          },
          "metadata": {
            "needs_background": "light"
          }
        }
      ],
      "source": [
        "# Check the ratings count distribution in our dataset\n",
        "sns.displot(data=eda_rating, x='count of ratings', bins=50)"
      ]
    },
    {
      "cell_type": "code",
      "execution_count": 10,
      "metadata": {
        "colab": {
          "base_uri": "https://localhost:8080/",
          "height": 386
        },
        "id": "hvOkMSngQulV",
        "outputId": "e3e8463f-898b-49e8-cfb3-4285746a95af"
      },
      "outputs": [
        {
          "output_type": "execute_result",
          "data": {
            "text/plain": [
              "<seaborn.axisgrid.FacetGrid at 0x7fc739b6de50>"
            ]
          },
          "metadata": {},
          "execution_count": 10
        },
        {
          "output_type": "display_data",
          "data": {
            "text/plain": [
              "<Figure size 360x360 with 1 Axes>"
            ],
            "image/png": "[encoded data removed]"
          },
          "metadata": {
            "needs_background": "light"
          }
        }
      ],
      "source": [
        "# How do peaple rate movies?\n",
        "sns.displot(data=eda_rating, x='Rating', bins=50)"
      ]
    },
    {
      "cell_type": "code",
      "execution_count": 11,
      "metadata": {
        "colab": {
          "base_uri": "https://localhost:8080/",
          "height": 458
        },
        "id": "3oNXOcZUQ76B",
        "outputId": "968bf0bf-e9eb-4322-8773-4d68b3c69be0"
      },
      "outputs": [
        {
          "output_type": "execute_result",
          "data": {
            "text/plain": [
              "<seaborn.axisgrid.JointGrid at 0x7fc720317110>"
            ]
          },
          "metadata": {},
          "execution_count": 11
        },
        {
          "output_type": "display_data",
          "data": {
            "text/plain": [
              "<Figure size 432x432 with 3 Axes>"
            ],
            "image/png": "[encoded data removed]"
          },
          "metadata": {
            "needs_background": "light"
          }
        }
      ],
      "source": [
        "# Overview in one picture\n",
        "sns.jointplot(x='Rating',y='count of ratings',data=eda_rating,alpha=0.5)"
      ]
    },
    {
      "cell_type": "code",
      "execution_count": 12,
      "metadata": {
        "colab": {
          "base_uri": "https://localhost:8080/",
          "height": 206
        },
        "id": "aQeXNjbc1W0T",
        "outputId": "16065b43-509f-4b75-c5ab-5c3ca94c1bd0"
      },
      "outputs": [
        {
          "output_type": "execute_result",
          "data": {
            "text/plain": [
              "   UserID Gender  Age  Occupation Zip-code\n",
              "0       1      F    1          10    48067\n",
              "1       2      M   56          16    70072\n",
              "2       3      M   25          15    55117\n",
              "3       4      M   45           7    02460\n",
              "4       5      M   25          20    55455"
            ],
            "text/html": [
              "\n",
              "  <div id=\"df-7484cb51-3b1f-44ab-8825-bebb3a559f1f\">\n",
              "    <div class=\"colab-df-container\">\n",
              "      <div>\n",
              "<style scoped>\n",
              "    .dataframe tbody tr th:only-of-type {\n",
              "        vertical-align: middle;\n",
              "    }\n",
              "\n",
              "    .dataframe tbody tr th {\n",
              "        vertical-align: top;\n",
              "    }\n",
              "\n",
              "    .dataframe thead th {\n",
              "        text-align: right;\n",
              "    }\n",
              "</style>\n",
              "<table border=\"1\" class=\"dataframe\">\n",
              "  <thead>\n",
              "    <tr style=\"text-align: right;\">\n",
              "      <th></th>\n",
              "      <th>UserID</th>\n",
              "      <th>Gender</th>\n",
              "      <th>Age</th>\n",
              "      <th>Occupation</th>\n",
              "      <th>Zip-code</th>\n",
              "    </tr>\n",
              "  </thead>\n",
              "  <tbody>\n",
              "    <tr>\n",
              "      <th>0</th>\n",
              "      <td>1</td>\n",
              "      <td>F</td>\n",
              "      <td>1</td>\n",
              "      <td>10</td>\n",
              "      <td>48067</td>\n",
              "    </tr>\n",
              "    <tr>\n",
              "      <th>1</th>\n",
              "      <td>2</td>\n",
              "      <td>M</td>\n",
              "      <td>56</td>\n",
              "      <td>16</td>\n",
              "      <td>70072</td>\n",
              "    </tr>\n",
              "    <tr>\n",
              "      <th>2</th>\n",
              "      <td>3</td>\n",
              "      <td>M</td>\n",
              "      <td>25</td>\n",
              "      <td>15</td>\n",
              "      <td>55117</td>\n",
              "    </tr>\n",
              "    <tr>\n",
              "      <th>3</th>\n",
              "      <td>4</td>\n",
              "      <td>M</td>\n",
              "      <td>45</td>\n",
              "      <td>7</td>\n",
              "      <td>02460</td>\n",
              "    </tr>\n",
              "    <tr>\n",
              "      <th>4</th>\n",
              "      <td>5</td>\n",
              "      <td>M</td>\n",
              "      <td>25</td>\n",
              "      <td>20</td>\n",
              "      <td>55455</td>\n",
              "    </tr>\n",
              "  </tbody>\n",
              "</table>\n",
              "</div>\n",
              "      <button class=\"colab-df-convert\" onclick=\"convertToInteractive('df-7484cb51-3b1f-44ab-8825-bebb3a559f1f')\"\n",
              "              title=\"Convert this dataframe to an interactive table.\"\n",
              "              style=\"display:none;\">\n",
              "        \n",
              "  <svg xmlns=\"http://www.w3.org/2000/svg\" height=\"24px\"viewBox=\"0 0 24 24\"\n",
              "       width=\"24px\">\n",
              "    <path d=\"M0 0h24v24H0V0z\" fill=\"none\"/>\n",
              "    <path d=\"M18.56 5.44l.94 2.06.94-2.06 2.06-.94-2.06-.94-.94-2.06-.94 2.06-2.06.94zm-11 1L8.5 8.5l.94-2.06 2.06-.94-2.06-.94L8.5 2.5l-.94 2.06-2.06.94zm10 10l.94 2.06.94-2.06 2.06-.94-2.06-.94-.94-2.06-.94 2.06-2.06.94z\"/><path d=\"M17.41 7.96l-1.37-1.37c-.4-.4-.92-.59-1.43-.59-.52 0-1.04.2-1.43.59L10.3 9.45l-7.72 7.72c-.78.78-.78 2.05 0 2.83L4 21.41c.39.39.9.59 1.41.59.51 0 1.02-.2 1.41-.59l7.78-7.78 2.81-2.81c.8-.78.8-2.07 0-2.86zM5.41 20L4 18.59l7.72-7.72 1.47 1.35L5.41 20z\"/>\n",
              "  </svg>\n",
              "      </button>\n",
              "      \n",
              "  <style>\n",
              "    .colab-df-container {\n",
              "      display:flex;\n",
              "      flex-wrap:wrap;\n",
              "      gap: 12px;\n",
              "    }\n",
              "\n",
              "    .colab-df-convert {\n",
              "      background-color: #E8F0FE;\n",
              "      border: none;\n",
              "      border-radius: 50%;\n",
              "      cursor: pointer;\n",
              "      display: none;\n",
              "      fill: #1967D2;\n",
              "      height: 32px;\n",
              "      padding: 0 0 0 0;\n",
              "      width: 32px;\n",
              "    }\n",
              "\n",
              "    .colab-df-convert:hover {\n",
              "      background-color: #E2EBFA;\n",
              "      box-shadow: 0px 1px 2px rgba(60, 64, 67, 0.3), 0px 1px 3px 1px rgba(60, 64, 67, 0.15);\n",
              "      fill: #174EA6;\n",
              "    }\n",
              "\n",
              "    [theme=dark] .colab-df-convert {\n",
              "      background-color: #3B4455;\n",
              "      fill: #D2E3FC;\n",
              "    }\n",
              "\n",
              "    [theme=dark] .colab-df-convert:hover {\n",
              "      background-color: #434B5C;\n",
              "      box-shadow: 0px 1px 3px 1px rgba(0, 0, 0, 0.15);\n",
              "      filter: drop-shadow(0px 1px 2px rgba(0, 0, 0, 0.3));\n",
              "      fill: #FFFFFF;\n",
              "    }\n",
              "  </style>\n",
              "\n",
              "      <script>\n",
              "        const buttonEl =\n",
              "          document.querySelector('#df-7484cb51-3b1f-44ab-8825-bebb3a559f1f button.colab-df-convert');\n",
              "        buttonEl.style.display =\n",
              "          google.colab.kernel.accessAllowed ? 'block' : 'none';\n",
              "\n",
              "        async function convertToInteractive(key) {\n",
              "          const element = document.querySelector('#df-7484cb51-3b1f-44ab-8825-bebb3a559f1f');\n",
              "          const dataTable =\n",
              "            await google.colab.kernel.invokeFunction('convertToInteractive',\n",
              "                                                     [key], {});\n",
              "          if (!dataTable) return;\n",
              "\n",
              "          const docLinkHtml = 'Like what you see? Visit the ' +\n",
              "            '<a target=\"_blank\" href=https://colab.research.google.com/notebooks/data_table.ipynb>data table notebook</a>'\n",
              "            + ' to learn more about interactive tables.';\n",
              "          element.innerHTML = '';\n",
              "          dataTable['output_type'] = 'display_data';\n",
              "          await google.colab.output.renderOutput(dataTable, element);\n",
              "          const docLink = document.createElement('div');\n",
              "          docLink.innerHTML = docLinkHtml;\n",
              "          element.appendChild(docLink);\n",
              "        }\n",
              "      </script>\n",
              "    </div>\n",
              "  </div>\n",
              "  "
            ]
          },
          "metadata": {},
          "execution_count": 12
        }
      ],
      "source": [
        "users.head()"
      ]
    },
    {
      "cell_type": "code",
      "execution_count": 13,
      "metadata": {
        "colab": {
          "base_uri": "https://localhost:8080/"
        },
        "id": "nppeoQpmhGUz",
        "outputId": "f69434ca-6a79-4673-f8c7-751718e01ba4"
      },
      "outputs": [
        {
          "output_type": "execute_result",
          "data": {
            "text/plain": [
              "6040"
            ]
          },
          "metadata": {},
          "execution_count": 13
        }
      ],
      "source": [
        "users_count = users['UserID'].max()\n",
        "users_count"
      ]
    },
    {
      "cell_type": "code",
      "execution_count": 14,
      "metadata": {
        "colab": {
          "base_uri": "https://localhost:8080/",
          "height": 206
        },
        "id": "m6tuA7I2Tz6m",
        "outputId": "2f524436-06ee-4de9-c27b-07481f5987c1"
      },
      "outputs": [
        {
          "output_type": "execute_result",
          "data": {
            "text/plain": [
              "   MovieID                               Title                        Genres\n",
              "0        1                    Toy Story (1995)   Animation|Children's|Comedy\n",
              "1        2                      Jumanji (1995)  Adventure|Children's|Fantasy\n",
              "2        3             Grumpier Old Men (1995)                Comedy|Romance\n",
              "3        4            Waiting to Exhale (1995)                  Comedy|Drama\n",
              "4        5  Father of the Bride Part II (1995)                        Comedy"
            ],
            "text/html": [
              "\n",
              "  <div id=\"df-eaebd905-733a-4f5b-9847-00a929e3cc71\">\n",
              "    <div class=\"colab-df-container\">\n",
              "      <div>\n",
              "<style scoped>\n",
              "    .dataframe tbody tr th:only-of-type {\n",
              "        vertical-align: middle;\n",
              "    }\n",
              "\n",
              "    .dataframe tbody tr th {\n",
              "        vertical-align: top;\n",
              "    }\n",
              "\n",
              "    .dataframe thead th {\n",
              "        text-align: right;\n",
              "    }\n",
              "</style>\n",
              "<table border=\"1\" class=\"dataframe\">\n",
              "  <thead>\n",
              "    <tr style=\"text-align: right;\">\n",
              "      <th></th>\n",
              "      <th>MovieID</th>\n",
              "      <th>Title</th>\n",
              "      <th>Genres</th>\n",
              "    </tr>\n",
              "  </thead>\n",
              "  <tbody>\n",
              "    <tr>\n",
              "      <th>0</th>\n",
              "      <td>1</td>\n",
              "      <td>Toy Story (1995)</td>\n",
              "      <td>Animation|Children's|Comedy</td>\n",
              "    </tr>\n",
              "    <tr>\n",
              "      <th>1</th>\n",
              "      <td>2</td>\n",
              "      <td>Jumanji (1995)</td>\n",
              "      <td>Adventure|Children's|Fantasy</td>\n",
              "    </tr>\n",
              "    <tr>\n",
              "      <th>2</th>\n",
              "      <td>3</td>\n",
              "      <td>Grumpier Old Men (1995)</td>\n",
              "      <td>Comedy|Romance</td>\n",
              "    </tr>\n",
              "    <tr>\n",
              "      <th>3</th>\n",
              "      <td>4</td>\n",
              "      <td>Waiting to Exhale (1995)</td>\n",
              "      <td>Comedy|Drama</td>\n",
              "    </tr>\n",
              "    <tr>\n",
              "      <th>4</th>\n",
              "      <td>5</td>\n",
              "      <td>Father of the Bride Part II (1995)</td>\n",
              "      <td>Comedy</td>\n",
              "    </tr>\n",
              "  </tbody>\n",
              "</table>\n",
              "</div>\n",
              "      <button class=\"colab-df-convert\" onclick=\"convertToInteractive('df-eaebd905-733a-4f5b-9847-00a929e3cc71')\"\n",
              "              title=\"Convert this dataframe to an interactive table.\"\n",
              "              style=\"display:none;\">\n",
              "        \n",
              "  <svg xmlns=\"http://www.w3.org/2000/svg\" height=\"24px\"viewBox=\"0 0 24 24\"\n",
              "       width=\"24px\">\n",
              "    <path d=\"M0 0h24v24H0V0z\" fill=\"none\"/>\n",
              "    <path d=\"M18.56 5.44l.94 2.06.94-2.06 2.06-.94-2.06-.94-.94-2.06-.94 2.06-2.06.94zm-11 1L8.5 8.5l.94-2.06 2.06-.94-2.06-.94L8.5 2.5l-.94 2.06-2.06.94zm10 10l.94 2.06.94-2.06 2.06-.94-2.06-.94-.94-2.06-.94 2.06-2.06.94z\"/><path d=\"M17.41 7.96l-1.37-1.37c-.4-.4-.92-.59-1.43-.59-.52 0-1.04.2-1.43.59L10.3 9.45l-7.72 7.72c-.78.78-.78 2.05 0 2.83L4 21.41c.39.39.9.59 1.41.59.51 0 1.02-.2 1.41-.59l7.78-7.78 2.81-2.81c.8-.78.8-2.07 0-2.86zM5.41 20L4 18.59l7.72-7.72 1.47 1.35L5.41 20z\"/>\n",
              "  </svg>\n",
              "      </button>\n",
              "      \n",
              "  <style>\n",
              "    .colab-df-container {\n",
              "      display:flex;\n",
              "      flex-wrap:wrap;\n",
              "      gap: 12px;\n",
              "    }\n",
              "\n",
              "    .colab-df-convert {\n",
              "      background-color: #E8F0FE;\n",
              "      border: none;\n",
              "      border-radius: 50%;\n",
              "      cursor: pointer;\n",
              "      display: none;\n",
              "      fill: #1967D2;\n",
              "      height: 32px;\n",
              "      padding: 0 0 0 0;\n",
              "      width: 32px;\n",
              "    }\n",
              "\n",
              "    .colab-df-convert:hover {\n",
              "      background-color: #E2EBFA;\n",
              "      box-shadow: 0px 1px 2px rgba(60, 64, 67, 0.3), 0px 1px 3px 1px rgba(60, 64, 67, 0.15);\n",
              "      fill: #174EA6;\n",
              "    }\n",
              "\n",
              "    [theme=dark] .colab-df-convert {\n",
              "      background-color: #3B4455;\n",
              "      fill: #D2E3FC;\n",
              "    }\n",
              "\n",
              "    [theme=dark] .colab-df-convert:hover {\n",
              "      background-color: #434B5C;\n",
              "      box-shadow: 0px 1px 3px 1px rgba(0, 0, 0, 0.15);\n",
              "      filter: drop-shadow(0px 1px 2px rgba(0, 0, 0, 0.3));\n",
              "      fill: #FFFFFF;\n",
              "    }\n",
              "  </style>\n",
              "\n",
              "      <script>\n",
              "        const buttonEl =\n",
              "          document.querySelector('#df-eaebd905-733a-4f5b-9847-00a929e3cc71 button.colab-df-convert');\n",
              "        buttonEl.style.display =\n",
              "          google.colab.kernel.accessAllowed ? 'block' : 'none';\n",
              "\n",
              "        async function convertToInteractive(key) {\n",
              "          const element = document.querySelector('#df-eaebd905-733a-4f5b-9847-00a929e3cc71');\n",
              "          const dataTable =\n",
              "            await google.colab.kernel.invokeFunction('convertToInteractive',\n",
              "                                                     [key], {});\n",
              "          if (!dataTable) return;\n",
              "\n",
              "          const docLinkHtml = 'Like what you see? Visit the ' +\n",
              "            '<a target=\"_blank\" href=https://colab.research.google.com/notebooks/data_table.ipynb>data table notebook</a>'\n",
              "            + ' to learn more about interactive tables.';\n",
              "          element.innerHTML = '';\n",
              "          dataTable['output_type'] = 'display_data';\n",
              "          await google.colab.output.renderOutput(dataTable, element);\n",
              "          const docLink = document.createElement('div');\n",
              "          docLink.innerHTML = docLinkHtml;\n",
              "          element.appendChild(docLink);\n",
              "        }\n",
              "      </script>\n",
              "    </div>\n",
              "  </div>\n",
              "  "
            ]
          },
          "metadata": {},
          "execution_count": 14
        }
      ],
      "source": [
        "movies.head()"
      ]
    },
    {
      "cell_type": "code",
      "execution_count": 15,
      "metadata": {
        "colab": {
          "base_uri": "https://localhost:8080/"
        },
        "id": "aswxvdzlhJUw",
        "outputId": "615636f2-0174-49b5-acbb-410024a3eeef"
      },
      "outputs": [
        {
          "output_type": "execute_result",
          "data": {
            "text/plain": [
              "3952"
            ]
          },
          "metadata": {},
          "execution_count": 15
        }
      ],
      "source": [
        "movies_count = movies['MovieID'].max()\n",
        "movies_count"
      ]
    },
    {
      "cell_type": "code",
      "execution_count": 16,
      "metadata": {
        "colab": {
          "base_uri": "https://localhost:8080/",
          "height": 206
        },
        "id": "pFukFH_TT4Nb",
        "outputId": "67c0d510-bc8d-48bf-8dbd-96446e3ab8dc"
      },
      "outputs": [
        {
          "output_type": "execute_result",
          "data": {
            "text/plain": [
              "   UserID  MovieID  Rating  Timestamp\n",
              "0       1     1193       5  978300760\n",
              "1       1      661       3  978302109\n",
              "2       1      914       3  978301968\n",
              "3       1     3408       4  978300275\n",
              "4       1     2355       5  978824291"
            ],
            "text/html": [
              "\n",
              "  <div id=\"df-ecdfa2ec-e78b-4224-b4f5-d98387226b5a\">\n",
              "    <div class=\"colab-df-container\">\n",
              "      <div>\n",
              "<style scoped>\n",
              "    .dataframe tbody tr th:only-of-type {\n",
              "        vertical-align: middle;\n",
              "    }\n",
              "\n",
              "    .dataframe tbody tr th {\n",
              "        vertical-align: top;\n",
              "    }\n",
              "\n",
              "    .dataframe thead th {\n",
              "        text-align: right;\n",
              "    }\n",
              "</style>\n",
              "<table border=\"1\" class=\"dataframe\">\n",
              "  <thead>\n",
              "    <tr style=\"text-align: right;\">\n",
              "      <th></th>\n",
              "      <th>UserID</th>\n",
              "      <th>MovieID</th>\n",
              "      <th>Rating</th>\n",
              "      <th>Timestamp</th>\n",
              "    </tr>\n",
              "  </thead>\n",
              "  <tbody>\n",
              "    <tr>\n",
              "      <th>0</th>\n",
              "      <td>1</td>\n",
              "      <td>1193</td>\n",
              "      <td>5</td>\n",
              "      <td>978300760</td>\n",
              "    </tr>\n",
              "    <tr>\n",
              "      <th>1</th>\n",
              "      <td>1</td>\n",
              "      <td>661</td>\n",
              "      <td>3</td>\n",
              "      <td>978302109</td>\n",
              "    </tr>\n",
              "    <tr>\n",
              "      <th>2</th>\n",
              "      <td>1</td>\n",
              "      <td>914</td>\n",
              "      <td>3</td>\n",
              "      <td>978301968</td>\n",
              "    </tr>\n",
              "    <tr>\n",
              "      <th>3</th>\n",
              "      <td>1</td>\n",
              "      <td>3408</td>\n",
              "      <td>4</td>\n",
              "      <td>978300275</td>\n",
              "    </tr>\n",
              "    <tr>\n",
              "      <th>4</th>\n",
              "      <td>1</td>\n",
              "      <td>2355</td>\n",
              "      <td>5</td>\n",
              "      <td>978824291</td>\n",
              "    </tr>\n",
              "  </tbody>\n",
              "</table>\n",
              "</div>\n",
              "      <button class=\"colab-df-convert\" onclick=\"convertToInteractive('df-ecdfa2ec-e78b-4224-b4f5-d98387226b5a')\"\n",
              "              title=\"Convert this dataframe to an interactive table.\"\n",
              "              style=\"display:none;\">\n",
              "        \n",
              "  <svg xmlns=\"http://www.w3.org/2000/svg\" height=\"24px\"viewBox=\"0 0 24 24\"\n",
              "       width=\"24px\">\n",
              "    <path d=\"M0 0h24v24H0V0z\" fill=\"none\"/>\n",
              "    <path d=\"M18.56 5.44l.94 2.06.94-2.06 2.06-.94-2.06-.94-.94-2.06-.94 2.06-2.06.94zm-11 1L8.5 8.5l.94-2.06 2.06-.94-2.06-.94L8.5 2.5l-.94 2.06-2.06.94zm10 10l.94 2.06.94-2.06 2.06-.94-2.06-.94-.94-2.06-.94 2.06-2.06.94z\"/><path d=\"M17.41 7.96l-1.37-1.37c-.4-.4-.92-.59-1.43-.59-.52 0-1.04.2-1.43.59L10.3 9.45l-7.72 7.72c-.78.78-.78 2.05 0 2.83L4 21.41c.39.39.9.59 1.41.59.51 0 1.02-.2 1.41-.59l7.78-7.78 2.81-2.81c.8-.78.8-2.07 0-2.86zM5.41 20L4 18.59l7.72-7.72 1.47 1.35L5.41 20z\"/>\n",
              "  </svg>\n",
              "      </button>\n",
              "      \n",
              "  <style>\n",
              "    .colab-df-container {\n",
              "      display:flex;\n",
              "      flex-wrap:wrap;\n",
              "      gap: 12px;\n",
              "    }\n",
              "\n",
              "    .colab-df-convert {\n",
              "      background-color: #E8F0FE;\n",
              "      border: none;\n",
              "      border-radius: 50%;\n",
              "      cursor: pointer;\n",
              "      display: none;\n",
              "      fill: #1967D2;\n",
              "      height: 32px;\n",
              "      padding: 0 0 0 0;\n",
              "      width: 32px;\n",
              "    }\n",
              "\n",
              "    .colab-df-convert:hover {\n",
              "      background-color: #E2EBFA;\n",
              "      box-shadow: 0px 1px 2px rgba(60, 64, 67, 0.3), 0px 1px 3px 1px rgba(60, 64, 67, 0.15);\n",
              "      fill: #174EA6;\n",
              "    }\n",
              "\n",
              "    [theme=dark] .colab-df-convert {\n",
              "      background-color: #3B4455;\n",
              "      fill: #D2E3FC;\n",
              "    }\n",
              "\n",
              "    [theme=dark] .colab-df-convert:hover {\n",
              "      background-color: #434B5C;\n",
              "      box-shadow: 0px 1px 3px 1px rgba(0, 0, 0, 0.15);\n",
              "      filter: drop-shadow(0px 1px 2px rgba(0, 0, 0, 0.3));\n",
              "      fill: #FFFFFF;\n",
              "    }\n",
              "  </style>\n",
              "\n",
              "      <script>\n",
              "        const buttonEl =\n",
              "          document.querySelector('#df-ecdfa2ec-e78b-4224-b4f5-d98387226b5a button.colab-df-convert');\n",
              "        buttonEl.style.display =\n",
              "          google.colab.kernel.accessAllowed ? 'block' : 'none';\n",
              "\n",
              "        async function convertToInteractive(key) {\n",
              "          const element = document.querySelector('#df-ecdfa2ec-e78b-4224-b4f5-d98387226b5a');\n",
              "          const dataTable =\n",
              "            await google.colab.kernel.invokeFunction('convertToInteractive',\n",
              "                                                     [key], {});\n",
              "          if (!dataTable) return;\n",
              "\n",
              "          const docLinkHtml = 'Like what you see? Visit the ' +\n",
              "            '<a target=\"_blank\" href=https://colab.research.google.com/notebooks/data_table.ipynb>data table notebook</a>'\n",
              "            + ' to learn more about interactive tables.';\n",
              "          element.innerHTML = '';\n",
              "          dataTable['output_type'] = 'display_data';\n",
              "          await google.colab.output.renderOutput(dataTable, element);\n",
              "          const docLink = document.createElement('div');\n",
              "          docLink.innerHTML = docLinkHtml;\n",
              "          element.appendChild(docLink);\n",
              "        }\n",
              "      </script>\n",
              "    </div>\n",
              "  </div>\n",
              "  "
            ]
          },
          "metadata": {},
          "execution_count": 16
        }
      ],
      "source": [
        "ratings.head()"
      ]
    },
    {
      "cell_type": "code",
      "execution_count": 17,
      "metadata": {
        "colab": {
          "base_uri": "https://localhost:8080/",
          "height": 296
        },
        "id": "rmecIcoGco6h",
        "outputId": "99d7c985-fd92-4cd2-9b0d-661792338c28"
      },
      "outputs": [
        {
          "output_type": "execute_result",
          "data": {
            "text/plain": [
              "<matplotlib.axes._subplots.AxesSubplot at 0x7fc720399e10>"
            ]
          },
          "metadata": {},
          "execution_count": 17
        },
        {
          "output_type": "display_data",
          "data": {
            "text/plain": [
              "<Figure size 432x288 with 1 Axes>"
            ],
            "image/png": "[encoded data removed]"
          },
          "metadata": {
            "needs_background": "light"
          }
        }
      ],
      "source": [
        "sns.histplot(data=ratings,x='Rating',discrete=True,)"
      ]
    },
    {
      "cell_type": "code",
      "execution_count": 18,
      "metadata": {
        "colab": {
          "base_uri": "https://localhost:8080/",
          "height": 267
        },
        "id": "zKofrsH91khs",
        "outputId": "bd6c8d8e-cfb0-47d8-acc8-d3f8acee36eb"
      },
      "outputs": [
        {
          "output_type": "execute_result",
          "data": {
            "text/plain": [
              "MovieID  1     2     3     4     5     6     7     8     9     10    ...  \\\n",
              "UserID                                                               ...   \n",
              "1         5.0   NaN   NaN   NaN   NaN   NaN   NaN   NaN   NaN   NaN  ...   \n",
              "2         NaN   NaN   NaN   NaN   NaN   NaN   NaN   NaN   NaN   NaN  ...   \n",
              "3         NaN   NaN   NaN   NaN   NaN   NaN   NaN   NaN   NaN   NaN  ...   \n",
              "4         NaN   NaN   NaN   NaN   NaN   NaN   NaN   NaN   NaN   NaN  ...   \n",
              "5         NaN   NaN   NaN   NaN   NaN   2.0   NaN   NaN   NaN   NaN  ...   \n",
              "\n",
              "MovieID  3943  3944  3945  3946  3947  3948  3949  3950  3951  3952  \n",
              "UserID                                                               \n",
              "1         NaN   NaN   NaN   NaN   NaN   NaN   NaN   NaN   NaN   NaN  \n",
              "2         NaN   NaN   NaN   NaN   NaN   NaN   NaN   NaN   NaN   NaN  \n",
              "3         NaN   NaN   NaN   NaN   NaN   NaN   NaN   NaN   NaN   NaN  \n",
              "4         NaN   NaN   NaN   NaN   NaN   NaN   NaN   NaN   NaN   NaN  \n",
              "5         NaN   NaN   NaN   NaN   NaN   NaN   NaN   NaN   NaN   NaN  \n",
              "\n",
              "[5 rows x 3706 columns]"
            ],
            "text/html": [
              "\n",
              "  <div id=\"df-f74c2fa4-f4f3-4c39-9e67-3152c01a3892\">\n",
              "    <div class=\"colab-df-container\">\n",
              "      <div>\n",
              "<style scoped>\n",
              "    .dataframe tbody tr th:only-of-type {\n",
              "        vertical-align: middle;\n",
              "    }\n",
              "\n",
              "    .dataframe tbody tr th {\n",
              "        vertical-align: top;\n",
              "    }\n",
              "\n",
              "    .dataframe thead th {\n",
              "        text-align: right;\n",
              "    }\n",
              "</style>\n",
              "<table border=\"1\" class=\"dataframe\">\n",
              "  <thead>\n",
              "    <tr style=\"text-align: right;\">\n",
              "      <th>MovieID</th>\n",
              "      <th>1</th>\n",
              "      <th>2</th>\n",
              "      <th>3</th>\n",
              "      <th>4</th>\n",
              "      <th>5</th>\n",
              "      <th>6</th>\n",
              "      <th>7</th>\n",
              "      <th>8</th>\n",
              "      <th>9</th>\n",
              "      <th>10</th>\n",
              "      <th>...</th>\n",
              "      <th>3943</th>\n",
              "      <th>3944</th>\n",
              "      <th>3945</th>\n",
              "      <th>3946</th>\n",
              "      <th>3947</th>\n",
              "      <th>3948</th>\n",
              "      <th>3949</th>\n",
              "      <th>3950</th>\n",
              "      <th>3951</th>\n",
              "      <th>3952</th>\n",
              "    </tr>\n",
              "    <tr>\n",
              "      <th>UserID</th>\n",
              "      <th></th>\n",
              "      <th></th>\n",
              "      <th></th>\n",
              "      <th></th>\n",
              "      <th></th>\n",
              "      <th></th>\n",
              "      <th></th>\n",
              "      <th></th>\n",
              "      <th></th>\n",
              "      <th></th>\n",
              "      <th></th>\n",
              "      <th></th>\n",
              "      <th></th>\n",
              "      <th></th>\n",
              "      <th></th>\n",
              "      <th></th>\n",
              "      <th></th>\n",
              "      <th></th>\n",
              "      <th></th>\n",
              "      <th></th>\n",
              "      <th></th>\n",
              "    </tr>\n",
              "  </thead>\n",
              "  <tbody>\n",
              "    <tr>\n",
              "      <th>1</th>\n",
              "      <td>5.0</td>\n",
              "      <td>NaN</td>\n",
              "      <td>NaN</td>\n",
              "      <td>NaN</td>\n",
              "      <td>NaN</td>\n",
              "      <td>NaN</td>\n",
              "      <td>NaN</td>\n",
              "      <td>NaN</td>\n",
              "      <td>NaN</td>\n",
              "      <td>NaN</td>\n",
              "      <td>...</td>\n",
              "      <td>NaN</td>\n",
              "      <td>NaN</td>\n",
              "      <td>NaN</td>\n",
              "      <td>NaN</td>\n",
              "      <td>NaN</td>\n",
              "      <td>NaN</td>\n",
              "      <td>NaN</td>\n",
              "      <td>NaN</td>\n",
              "      <td>NaN</td>\n",
              "      <td>NaN</td>\n",
              "    </tr>\n",
              "    <tr>\n",
              "      <th>2</th>\n",
              "      <td>NaN</td>\n",
              "      <td>NaN</td>\n",
              "      <td>NaN</td>\n",
              "      <td>NaN</td>\n",
              "      <td>NaN</td>\n",
              "      <td>NaN</td>\n",
              "      <td>NaN</td>\n",
              "      <td>NaN</td>\n",
              "      <td>NaN</td>\n",
              "      <td>NaN</td>\n",
              "      <td>...</td>\n",
              "      <td>NaN</td>\n",
              "      <td>NaN</td>\n",
              "      <td>NaN</td>\n",
              "      <td>NaN</td>\n",
              "      <td>NaN</td>\n",
              "      <td>NaN</td>\n",
              "      <td>NaN</td>\n",
              "      <td>NaN</td>\n",
              "      <td>NaN</td>\n",
              "      <td>NaN</td>\n",
              "    </tr>\n",
              "    <tr>\n",
              "      <th>3</th>\n",
              "      <td>NaN</td>\n",
              "      <td>NaN</td>\n",
              "      <td>NaN</td>\n",
              "      <td>NaN</td>\n",
              "      <td>NaN</td>\n",
              "      <td>NaN</td>\n",
              "      <td>NaN</td>\n",
              "      <td>NaN</td>\n",
              "      <td>NaN</td>\n",
              "      <td>NaN</td>\n",
              "      <td>...</td>\n",
              "      <td>NaN</td>\n",
              "      <td>NaN</td>\n",
              "      <td>NaN</td>\n",
              "      <td>NaN</td>\n",
              "      <td>NaN</td>\n",
              "      <td>NaN</td>\n",
              "      <td>NaN</td>\n",
              "      <td>NaN</td>\n",
              "      <td>NaN</td>\n",
              "      <td>NaN</td>\n",
              "    </tr>\n",
              "    <tr>\n",
              "      <th>4</th>\n",
              "      <td>NaN</td>\n",
              "      <td>NaN</td>\n",
              "      <td>NaN</td>\n",
              "      <td>NaN</td>\n",
              "      <td>NaN</td>\n",
              "      <td>NaN</td>\n",
              "      <td>NaN</td>\n",
              "      <td>NaN</td>\n",
              "      <td>NaN</td>\n",
              "      <td>NaN</td>\n",
              "      <td>...</td>\n",
              "      <td>NaN</td>\n",
              "      <td>NaN</td>\n",
              "      <td>NaN</td>\n",
              "      <td>NaN</td>\n",
              "      <td>NaN</td>\n",
              "      <td>NaN</td>\n",
              "      <td>NaN</td>\n",
              "      <td>NaN</td>\n",
              "      <td>NaN</td>\n",
              "      <td>NaN</td>\n",
              "    </tr>\n",
              "    <tr>\n",
              "      <th>5</th>\n",
              "      <td>NaN</td>\n",
              "      <td>NaN</td>\n",
              "      <td>NaN</td>\n",
              "      <td>NaN</td>\n",
              "      <td>NaN</td>\n",
              "      <td>2.0</td>\n",
              "      <td>NaN</td>\n",
              "      <td>NaN</td>\n",
              "      <td>NaN</td>\n",
              "      <td>NaN</td>\n",
              "      <td>...</td>\n",
              "      <td>NaN</td>\n",
              "      <td>NaN</td>\n",
              "      <td>NaN</td>\n",
              "      <td>NaN</td>\n",
              "      <td>NaN</td>\n",
              "      <td>NaN</td>\n",
              "      <td>NaN</td>\n",
              "      <td>NaN</td>\n",
              "      <td>NaN</td>\n",
              "      <td>NaN</td>\n",
              "    </tr>\n",
              "  </tbody>\n",
              "</table>\n",
              "<p>5 rows × 3706 columns</p>\n",
              "</div>\n",
              "      <button class=\"colab-df-convert\" onclick=\"convertToInteractive('df-f74c2fa4-f4f3-4c39-9e67-3152c01a3892')\"\n",
              "              title=\"Convert this dataframe to an interactive table.\"\n",
              "              style=\"display:none;\">\n",
              "        \n",
              "  <svg xmlns=\"http://www.w3.org/2000/svg\" height=\"24px\"viewBox=\"0 0 24 24\"\n",
              "       width=\"24px\">\n",
              "    <path d=\"M0 0h24v24H0V0z\" fill=\"none\"/>\n",
              "    <path d=\"M18.56 5.44l.94 2.06.94-2.06 2.06-.94-2.06-.94-.94-2.06-.94 2.06-2.06.94zm-11 1L8.5 8.5l.94-2.06 2.06-.94-2.06-.94L8.5 2.5l-.94 2.06-2.06.94zm10 10l.94 2.06.94-2.06 2.06-.94-2.06-.94-.94-2.06-.94 2.06-2.06.94z\"/><path d=\"M17.41 7.96l-1.37-1.37c-.4-.4-.92-.59-1.43-.59-.52 0-1.04.2-1.43.59L10.3 9.45l-7.72 7.72c-.78.78-.78 2.05 0 2.83L4 21.41c.39.39.9.59 1.41.59.51 0 1.02-.2 1.41-.59l7.78-7.78 2.81-2.81c.8-.78.8-2.07 0-2.86zM5.41 20L4 18.59l7.72-7.72 1.47 1.35L5.41 20z\"/>\n",
              "  </svg>\n",
              "      </button>\n",
              "      \n",
              "  <style>\n",
              "    .colab-df-container {\n",
              "      display:flex;\n",
              "      flex-wrap:wrap;\n",
              "      gap: 12px;\n",
              "    }\n",
              "\n",
              "    .colab-df-convert {\n",
              "      background-color: #E8F0FE;\n",
              "      border: none;\n",
              "      border-radius: 50%;\n",
              "      cursor: pointer;\n",
              "      display: none;\n",
              "      fill: #1967D2;\n",
              "      height: 32px;\n",
              "      padding: 0 0 0 0;\n",
              "      width: 32px;\n",
              "    }\n",
              "\n",
              "    .colab-df-convert:hover {\n",
              "      background-color: #E2EBFA;\n",
              "      box-shadow: 0px 1px 2px rgba(60, 64, 67, 0.3), 0px 1px 3px 1px rgba(60, 64, 67, 0.15);\n",
              "      fill: #174EA6;\n",
              "    }\n",
              "\n",
              "    [theme=dark] .colab-df-convert {\n",
              "      background-color: #3B4455;\n",
              "      fill: #D2E3FC;\n",
              "    }\n",
              "\n",
              "    [theme=dark] .colab-df-convert:hover {\n",
              "      background-color: #434B5C;\n",
              "      box-shadow: 0px 1px 3px 1px rgba(0, 0, 0, 0.15);\n",
              "      filter: drop-shadow(0px 1px 2px rgba(0, 0, 0, 0.3));\n",
              "      fill: #FFFFFF;\n",
              "    }\n",
              "  </style>\n",
              "\n",
              "      <script>\n",
              "        const buttonEl =\n",
              "          document.querySelector('#df-f74c2fa4-f4f3-4c39-9e67-3152c01a3892 button.colab-df-convert');\n",
              "        buttonEl.style.display =\n",
              "          google.colab.kernel.accessAllowed ? 'block' : 'none';\n",
              "\n",
              "        async function convertToInteractive(key) {\n",
              "          const element = document.querySelector('#df-f74c2fa4-f4f3-4c39-9e67-3152c01a3892');\n",
              "          const dataTable =\n",
              "            await google.colab.kernel.invokeFunction('convertToInteractive',\n",
              "                                                     [key], {});\n",
              "          if (!dataTable) return;\n",
              "\n",
              "          const docLinkHtml = 'Like what you see? Visit the ' +\n",
              "            '<a target=\"_blank\" href=https://colab.research.google.com/notebooks/data_table.ipynb>data table notebook</a>'\n",
              "            + ' to learn more about interactive tables.';\n",
              "          element.innerHTML = '';\n",
              "          dataTable['output_type'] = 'display_data';\n",
              "          await google.colab.output.renderOutput(dataTable, element);\n",
              "          const docLink = document.createElement('div');\n",
              "          docLink.innerHTML = docLinkHtml;\n",
              "          element.appendChild(docLink);\n",
              "        }\n",
              "      </script>\n",
              "    </div>\n",
              "  </div>\n",
              "  "
            ]
          },
          "metadata": {},
          "execution_count": 18
        }
      ],
      "source": [
        "ratings_df = pd.DataFrame(ratings.pivot(index = 'UserID', columns ='MovieID', values = 'Rating'))\n",
        "ratings_df.head()"
      ]
    },
    {
      "cell_type": "code",
      "execution_count": 19,
      "metadata": {
        "colab": {
          "base_uri": "https://localhost:8080/"
        },
        "id": "nGyx02JNS_Xo",
        "outputId": "5c27f968-40f6-4a86-eb61-99d4a42b5239"
      },
      "outputs": [
        {
          "output_type": "stream",
          "name": "stdout",
          "text": [
            "33.04%\n"
          ]
        }
      ],
      "source": [
        "# sparsity\n",
        "sparsity = sum(ratings_df.isnull())/len(ratings_df.index)/len(ratings_df.columns)\n",
        "print('{:.2f}%'.format(sparsity*100))"
      ]
    },
    {
      "cell_type": "code",
      "execution_count": 20,
      "metadata": {
        "id": "itb_HcWPWSez"
      },
      "outputs": [],
      "source": [
        "test_ratio = 0.1\n",
        "test_indices = np.random.choice(len(ratings), int((test_ratio) * len(ratings)),replace=False).tolist()\n",
        "train_indices = list(set(np.arange(len(ratings))).difference(set(test_indices)))\n",
        "\n",
        "ratings_train = pd.DataFrame(ratings.loc[train_indices].pivot(index = 'UserID', columns ='MovieID', values = 'Rating'))\n",
        "ratings_train = ratings_train.reindex(index=np.arange(1,1+users_count), columns=np.arange(1,1+movies_count))\n",
        "\n",
        "ratings_test = pd.DataFrame(ratings.loc[test_indices].pivot(index = 'UserID', columns ='MovieID', values = 'Rating'))\n",
        "ratings_test = ratings_test.reindex(index=np.arange(1,1+users_count), columns=np.arange(1,1+movies_count))\n",
        "ratings_test = jnp.array(ratings_test)"
      ]
    },
    {
      "cell_type": "code",
      "execution_count": 21,
      "metadata": {
        "colab": {
          "base_uri": "https://localhost:8080/"
        },
        "id": "3tH9OX-0Y8_C",
        "outputId": "5b26e715-dfe2-4aba-82e4-81233063c684"
      },
      "outputs": [
        {
          "output_type": "stream",
          "name": "stdout",
          "text": [
            "900189 100020\n",
            "(6040, 3952) (6040, 3952)\n"
          ]
        }
      ],
      "source": [
        "print(len(train_indices),len(test_indices))\n",
        "print(ratings_train.shape,ratings_test.shape)"
      ]
    },
    {
      "cell_type": "code",
      "execution_count": 22,
      "metadata": {
        "colab": {
          "base_uri": "https://localhost:8080/",
          "height": 455
        },
        "id": "zIrrikoLHaYv",
        "outputId": "efd4aadd-a960-44a8-c2ac-2ed1ccc237c4"
      },
      "outputs": [
        {
          "output_type": "execute_result",
          "data": {
            "text/plain": [
              "MovieID  1     2     3     4     5     6     7     8     9     10    ...  \\\n",
              "UserID                                                               ...   \n",
              "1         5.0   NaN   NaN   NaN   NaN   NaN   NaN   NaN   NaN   NaN  ...   \n",
              "2         NaN   NaN   NaN   NaN   NaN   NaN   NaN   NaN   NaN   NaN  ...   \n",
              "3         NaN   NaN   NaN   NaN   NaN   NaN   NaN   NaN   NaN   NaN  ...   \n",
              "4         NaN   NaN   NaN   NaN   NaN   NaN   NaN   NaN   NaN   NaN  ...   \n",
              "5         NaN   NaN   NaN   NaN   NaN   2.0   NaN   NaN   NaN   NaN  ...   \n",
              "...       ...   ...   ...   ...   ...   ...   ...   ...   ...   ...  ...   \n",
              "6036      NaN   NaN   NaN   NaN   NaN   3.0   NaN   NaN   NaN   NaN  ...   \n",
              "6037      NaN   NaN   NaN   NaN   NaN   NaN   NaN   NaN   NaN   NaN  ...   \n",
              "6038      NaN   NaN   NaN   NaN   NaN   NaN   NaN   NaN   NaN   NaN  ...   \n",
              "6039      NaN   NaN   NaN   NaN   NaN   NaN   NaN   NaN   NaN   NaN  ...   \n",
              "6040      3.0   NaN   NaN   NaN   NaN   NaN   NaN   NaN   NaN   NaN  ...   \n",
              "\n",
              "MovieID  3943  3944  3945  3946  3947  3948  3949  3950  3951  3952  \n",
              "UserID                                                               \n",
              "1         NaN   NaN   NaN   NaN   NaN   NaN   NaN   NaN   NaN   NaN  \n",
              "2         NaN   NaN   NaN   NaN   NaN   NaN   NaN   NaN   NaN   NaN  \n",
              "3         NaN   NaN   NaN   NaN   NaN   NaN   NaN   NaN   NaN   NaN  \n",
              "4         NaN   NaN   NaN   NaN   NaN   NaN   NaN   NaN   NaN   NaN  \n",
              "5         NaN   NaN   NaN   NaN   NaN   NaN   NaN   NaN   NaN   NaN  \n",
              "...       ...   ...   ...   ...   ...   ...   ...   ...   ...   ...  \n",
              "6036      NaN   NaN   NaN   NaN   NaN   NaN   NaN   NaN   NaN   NaN  \n",
              "6037      NaN   NaN   NaN   NaN   NaN   NaN   NaN   NaN   NaN   NaN  \n",
              "6038      NaN   NaN   NaN   NaN   NaN   NaN   NaN   NaN   NaN   NaN  \n",
              "6039      NaN   NaN   NaN   NaN   NaN   NaN   NaN   NaN   NaN   NaN  \n",
              "6040      NaN   NaN   NaN   NaN   NaN   NaN   NaN   NaN   NaN   NaN  \n",
              "\n",
              "[6040 rows x 3952 columns]"
            ],
            "text/html": [
              "\n",
              "  <div id=\"df-3cb88312-cad6-461b-ae81-b68dcbe27b18\">\n",
              "    <div class=\"colab-df-container\">\n",
              "      <div>\n",
              "<style scoped>\n",
              "    .dataframe tbody tr th:only-of-type {\n",
              "        vertical-align: middle;\n",
              "    }\n",
              "\n",
              "    .dataframe tbody tr th {\n",
              "        vertical-align: top;\n",
              "    }\n",
              "\n",
              "    .dataframe thead th {\n",
              "        text-align: right;\n",
              "    }\n",
              "</style>\n",
              "<table border=\"1\" class=\"dataframe\">\n",
              "  <thead>\n",
              "    <tr style=\"text-align: right;\">\n",
              "      <th>MovieID</th>\n",
              "      <th>1</th>\n",
              "      <th>2</th>\n",
              "      <th>3</th>\n",
              "      <th>4</th>\n",
              "      <th>5</th>\n",
              "      <th>6</th>\n",
              "      <th>7</th>\n",
              "      <th>8</th>\n",
              "      <th>9</th>\n",
              "      <th>10</th>\n",
              "      <th>...</th>\n",
              "      <th>3943</th>\n",
              "      <th>3944</th>\n",
              "      <th>3945</th>\n",
              "      <th>3946</th>\n",
              "      <th>3947</th>\n",
              "      <th>3948</th>\n",
              "      <th>3949</th>\n",
              "      <th>3950</th>\n",
              "      <th>3951</th>\n",
              "      <th>3952</th>\n",
              "    </tr>\n",
              "    <tr>\n",
              "      <th>UserID</th>\n",
              "      <th></th>\n",
              "      <th></th>\n",
              "      <th></th>\n",
              "      <th></th>\n",
              "      <th></th>\n",
              "      <th></th>\n",
              "      <th></th>\n",
              "      <th></th>\n",
              "      <th></th>\n",
              "      <th></th>\n",
              "      <th></th>\n",
              "      <th></th>\n",
              "      <th></th>\n",
              "      <th></th>\n",
              "      <th></th>\n",
              "      <th></th>\n",
              "      <th></th>\n",
              "      <th></th>\n",
              "      <th></th>\n",
              "      <th></th>\n",
              "      <th></th>\n",
              "    </tr>\n",
              "  </thead>\n",
              "  <tbody>\n",
              "    <tr>\n",
              "      <th>1</th>\n",
              "      <td>5.0</td>\n",
              "      <td>NaN</td>\n",
              "      <td>NaN</td>\n",
              "      <td>NaN</td>\n",
              "      <td>NaN</td>\n",
              "      <td>NaN</td>\n",
              "      <td>NaN</td>\n",
              "      <td>NaN</td>\n",
              "      <td>NaN</td>\n",
              "      <td>NaN</td>\n",
              "      <td>...</td>\n",
              "      <td>NaN</td>\n",
              "      <td>NaN</td>\n",
              "      <td>NaN</td>\n",
              "      <td>NaN</td>\n",
              "      <td>NaN</td>\n",
              "      <td>NaN</td>\n",
              "      <td>NaN</td>\n",
              "      <td>NaN</td>\n",
              "      <td>NaN</td>\n",
              "      <td>NaN</td>\n",
              "    </tr>\n",
              "    <tr>\n",
              "      <th>2</th>\n",
              "      <td>NaN</td>\n",
              "      <td>NaN</td>\n",
              "      <td>NaN</td>\n",
              "      <td>NaN</td>\n",
              "      <td>NaN</td>\n",
              "      <td>NaN</td>\n",
              "      <td>NaN</td>\n",
              "      <td>NaN</td>\n",
              "      <td>NaN</td>\n",
              "      <td>NaN</td>\n",
              "      <td>...</td>\n",
              "      <td>NaN</td>\n",
              "      <td>NaN</td>\n",
              "      <td>NaN</td>\n",
              "      <td>NaN</td>\n",
              "      <td>NaN</td>\n",
              "      <td>NaN</td>\n",
              "      <td>NaN</td>\n",
              "      <td>NaN</td>\n",
              "      <td>NaN</td>\n",
              "      <td>NaN</td>\n",
              "    </tr>\n",
              "    <tr>\n",
              "      <th>3</th>\n",
              "      <td>NaN</td>\n",
              "      <td>NaN</td>\n",
              "      <td>NaN</td>\n",
              "      <td>NaN</td>\n",
              "      <td>NaN</td>\n",
              "      <td>NaN</td>\n",
              "      <td>NaN</td>\n",
              "      <td>NaN</td>\n",
              "      <td>NaN</td>\n",
              "      <td>NaN</td>\n",
              "      <td>...</td>\n",
              "      <td>NaN</td>\n",
              "      <td>NaN</td>\n",
              "      <td>NaN</td>\n",
              "      <td>NaN</td>\n",
              "      <td>NaN</td>\n",
              "      <td>NaN</td>\n",
              "      <td>NaN</td>\n",
              "      <td>NaN</td>\n",
              "      <td>NaN</td>\n",
              "      <td>NaN</td>\n",
              "    </tr>\n",
              "    <tr>\n",
              "      <th>4</th>\n",
              "      <td>NaN</td>\n",
              "      <td>NaN</td>\n",
              "      <td>NaN</td>\n",
              "      <td>NaN</td>\n",
              "      <td>NaN</td>\n",
              "      <td>NaN</td>\n",
              "      <td>NaN</td>\n",
              "      <td>NaN</td>\n",
              "      <td>NaN</td>\n",
              "      <td>NaN</td>\n",
              "      <td>...</td>\n",
              "      <td>NaN</td>\n",
              "      <td>NaN</td>\n",
              "      <td>NaN</td>\n",
              "      <td>NaN</td>\n",
              "      <td>NaN</td>\n",
              "      <td>NaN</td>\n",
              "      <td>NaN</td>\n",
              "      <td>NaN</td>\n",
              "      <td>NaN</td>\n",
              "      <td>NaN</td>\n",
              "    </tr>\n",
              "    <tr>\n",
              "      <th>5</th>\n",
              "      <td>NaN</td>\n",
              "      <td>NaN</td>\n",
              "      <td>NaN</td>\n",
              "      <td>NaN</td>\n",
              "      <td>NaN</td>\n",
              "      <td>2.0</td>\n",
              "      <td>NaN</td>\n",
              "      <td>NaN</td>\n",
              "      <td>NaN</td>\n",
              "      <td>NaN</td>\n",
              "      <td>...</td>\n",
              "      <td>NaN</td>\n",
              "      <td>NaN</td>\n",
              "      <td>NaN</td>\n",
              "      <td>NaN</td>\n",
              "      <td>NaN</td>\n",
              "      <td>NaN</td>\n",
              "      <td>NaN</td>\n",
              "      <td>NaN</td>\n",
              "      <td>NaN</td>\n",
              "      <td>NaN</td>\n",
              "    </tr>\n",
              "    <tr>\n",
              "      <th>...</th>\n",
              "      <td>...</td>\n",
              "      <td>...</td>\n",
              "      <td>...</td>\n",
              "      <td>...</td>\n",
              "      <td>...</td>\n",
              "      <td>...</td>\n",
              "      <td>...</td>\n",
              "      <td>...</td>\n",
              "      <td>...</td>\n",
              "      <td>...</td>\n",
              "      <td>...</td>\n",
              "      <td>...</td>\n",
              "      <td>...</td>\n",
              "      <td>...</td>\n",
              "      <td>...</td>\n",
              "      <td>...</td>\n",
              "      <td>...</td>\n",
              "      <td>...</td>\n",
              "      <td>...</td>\n",
              "      <td>...</td>\n",
              "      <td>...</td>\n",
              "    </tr>\n",
              "    <tr>\n",
              "      <th>6036</th>\n",
              "      <td>NaN</td>\n",
              "      <td>NaN</td>\n",
              "      <td>NaN</td>\n",
              "      <td>NaN</td>\n",
              "      <td>NaN</td>\n",
              "      <td>3.0</td>\n",
              "      <td>NaN</td>\n",
              "      <td>NaN</td>\n",
              "      <td>NaN</td>\n",
              "      <td>NaN</td>\n",
              "      <td>...</td>\n",
              "      <td>NaN</td>\n",
              "      <td>NaN</td>\n",
              "      <td>NaN</td>\n",
              "      <td>NaN</td>\n",
              "      <td>NaN</td>\n",
              "      <td>NaN</td>\n",
              "      <td>NaN</td>\n",
              "      <td>NaN</td>\n",
              "      <td>NaN</td>\n",
              "      <td>NaN</td>\n",
              "    </tr>\n",
              "    <tr>\n",
              "      <th>6037</th>\n",
              "      <td>NaN</td>\n",
              "      <td>NaN</td>\n",
              "      <td>NaN</td>\n",
              "      <td>NaN</td>\n",
              "      <td>NaN</td>\n",
              "      <td>NaN</td>\n",
              "      <td>NaN</td>\n",
              "      <td>NaN</td>\n",
              "      <td>NaN</td>\n",
              "      <td>NaN</td>\n",
              "      <td>...</td>\n",
              "      <td>NaN</td>\n",
              "      <td>NaN</td>\n",
              "      <td>NaN</td>\n",
              "      <td>NaN</td>\n",
              "      <td>NaN</td>\n",
              "      <td>NaN</td>\n",
              "      <td>NaN</td>\n",
              "      <td>NaN</td>\n",
              "      <td>NaN</td>\n",
              "      <td>NaN</td>\n",
              "    </tr>\n",
              "    <tr>\n",
              "      <th>6038</th>\n",
              "      <td>NaN</td>\n",
              "      <td>NaN</td>\n",
              "      <td>NaN</td>\n",
              "      <td>NaN</td>\n",
              "      <td>NaN</td>\n",
              "      <td>NaN</td>\n",
              "      <td>NaN</td>\n",
              "      <td>NaN</td>\n",
              "      <td>NaN</td>\n",
              "      <td>NaN</td>\n",
              "      <td>...</td>\n",
              "      <td>NaN</td>\n",
              "      <td>NaN</td>\n",
              "      <td>NaN</td>\n",
              "      <td>NaN</td>\n",
              "      <td>NaN</td>\n",
              "      <td>NaN</td>\n",
              "      <td>NaN</td>\n",
              "      <td>NaN</td>\n",
              "      <td>NaN</td>\n",
              "      <td>NaN</td>\n",
              "    </tr>\n",
              "    <tr>\n",
              "      <th>6039</th>\n",
              "      <td>NaN</td>\n",
              "      <td>NaN</td>\n",
              "      <td>NaN</td>\n",
              "      <td>NaN</td>\n",
              "      <td>NaN</td>\n",
              "      <td>NaN</td>\n",
              "      <td>NaN</td>\n",
              "      <td>NaN</td>\n",
              "      <td>NaN</td>\n",
              "      <td>NaN</td>\n",
              "      <td>...</td>\n",
              "      <td>NaN</td>\n",
              "      <td>NaN</td>\n",
              "      <td>NaN</td>\n",
              "      <td>NaN</td>\n",
              "      <td>NaN</td>\n",
              "      <td>NaN</td>\n",
              "      <td>NaN</td>\n",
              "      <td>NaN</td>\n",
              "      <td>NaN</td>\n",
              "      <td>NaN</td>\n",
              "    </tr>\n",
              "    <tr>\n",
              "      <th>6040</th>\n",
              "      <td>3.0</td>\n",
              "      <td>NaN</td>\n",
              "      <td>NaN</td>\n",
              "      <td>NaN</td>\n",
              "      <td>NaN</td>\n",
              "      <td>NaN</td>\n",
              "      <td>NaN</td>\n",
              "      <td>NaN</td>\n",
              "      <td>NaN</td>\n",
              "      <td>NaN</td>\n",
              "      <td>...</td>\n",
              "      <td>NaN</td>\n",
              "      <td>NaN</td>\n",
              "      <td>NaN</td>\n",
              "      <td>NaN</td>\n",
              "      <td>NaN</td>\n",
              "      <td>NaN</td>\n",
              "      <td>NaN</td>\n",
              "      <td>NaN</td>\n",
              "      <td>NaN</td>\n",
              "      <td>NaN</td>\n",
              "    </tr>\n",
              "  </tbody>\n",
              "</table>\n",
              "<p>6040 rows × 3952 columns</p>\n",
              "</div>\n",
              "      <button class=\"colab-df-convert\" onclick=\"convertToInteractive('df-3cb88312-cad6-461b-ae81-b68dcbe27b18')\"\n",
              "              title=\"Convert this dataframe to an interactive table.\"\n",
              "              style=\"display:none;\">\n",
              "        \n",
              "  <svg xmlns=\"http://www.w3.org/2000/svg\" height=\"24px\"viewBox=\"0 0 24 24\"\n",
              "       width=\"24px\">\n",
              "    <path d=\"M0 0h24v24H0V0z\" fill=\"none\"/>\n",
              "    <path d=\"M18.56 5.44l.94 2.06.94-2.06 2.06-.94-2.06-.94-.94-2.06-.94 2.06-2.06.94zm-11 1L8.5 8.5l.94-2.06 2.06-.94-2.06-.94L8.5 2.5l-.94 2.06-2.06.94zm10 10l.94 2.06.94-2.06 2.06-.94-2.06-.94-.94-2.06-.94 2.06-2.06.94z\"/><path d=\"M17.41 7.96l-1.37-1.37c-.4-.4-.92-.59-1.43-.59-.52 0-1.04.2-1.43.59L10.3 9.45l-7.72 7.72c-.78.78-.78 2.05 0 2.83L4 21.41c.39.39.9.59 1.41.59.51 0 1.02-.2 1.41-.59l7.78-7.78 2.81-2.81c.8-.78.8-2.07 0-2.86zM5.41 20L4 18.59l7.72-7.72 1.47 1.35L5.41 20z\"/>\n",
              "  </svg>\n",
              "      </button>\n",
              "      \n",
              "  <style>\n",
              "    .colab-df-container {\n",
              "      display:flex;\n",
              "      flex-wrap:wrap;\n",
              "      gap: 12px;\n",
              "    }\n",
              "\n",
              "    .colab-df-convert {\n",
              "      background-color: #E8F0FE;\n",
              "      border: none;\n",
              "      border-radius: 50%;\n",
              "      cursor: pointer;\n",
              "      display: none;\n",
              "      fill: #1967D2;\n",
              "      height: 32px;\n",
              "      padding: 0 0 0 0;\n",
              "      width: 32px;\n",
              "    }\n",
              "\n",
              "    .colab-df-convert:hover {\n",
              "      background-color: #E2EBFA;\n",
              "      box-shadow: 0px 1px 2px rgba(60, 64, 67, 0.3), 0px 1px 3px 1px rgba(60, 64, 67, 0.15);\n",
              "      fill: #174EA6;\n",
              "    }\n",
              "\n",
              "    [theme=dark] .colab-df-convert {\n",
              "      background-color: #3B4455;\n",
              "      fill: #D2E3FC;\n",
              "    }\n",
              "\n",
              "    [theme=dark] .colab-df-convert:hover {\n",
              "      background-color: #434B5C;\n",
              "      box-shadow: 0px 1px 3px 1px rgba(0, 0, 0, 0.15);\n",
              "      filter: drop-shadow(0px 1px 2px rgba(0, 0, 0, 0.3));\n",
              "      fill: #FFFFFF;\n",
              "    }\n",
              "  </style>\n",
              "\n",
              "      <script>\n",
              "        const buttonEl =\n",
              "          document.querySelector('#df-3cb88312-cad6-461b-ae81-b68dcbe27b18 button.colab-df-convert');\n",
              "        buttonEl.style.display =\n",
              "          google.colab.kernel.accessAllowed ? 'block' : 'none';\n",
              "\n",
              "        async function convertToInteractive(key) {\n",
              "          const element = document.querySelector('#df-3cb88312-cad6-461b-ae81-b68dcbe27b18');\n",
              "          const dataTable =\n",
              "            await google.colab.kernel.invokeFunction('convertToInteractive',\n",
              "                                                     [key], {});\n",
              "          if (!dataTable) return;\n",
              "\n",
              "          const docLinkHtml = 'Like what you see? Visit the ' +\n",
              "            '<a target=\"_blank\" href=https://colab.research.google.com/notebooks/data_table.ipynb>data table notebook</a>'\n",
              "            + ' to learn more about interactive tables.';\n",
              "          element.innerHTML = '';\n",
              "          dataTable['output_type'] = 'display_data';\n",
              "          await google.colab.output.renderOutput(dataTable, element);\n",
              "          const docLink = document.createElement('div');\n",
              "          docLink.innerHTML = docLinkHtml;\n",
              "          element.appendChild(docLink);\n",
              "        }\n",
              "      </script>\n",
              "    </div>\n",
              "  </div>\n",
              "  "
            ]
          },
          "metadata": {},
          "execution_count": 22
        }
      ],
      "source": [
        "ratings_train"
      ]
    },
    {
      "cell_type": "code",
      "execution_count": 23,
      "metadata": {
        "colab": {
          "base_uri": "https://localhost:8080/"
        },
        "id": "_wulReQ9I4za",
        "outputId": "5289a674-7f22-4c54-dbcf-0e0d37450817"
      },
      "outputs": [
        {
          "output_type": "execute_result",
          "data": {
            "text/plain": [
              "DeviceArray([[nan, nan, nan, ..., nan, nan, nan],\n",
              "             [nan, nan, nan, ..., nan, nan, nan],\n",
              "             [nan, nan, nan, ..., nan, nan, nan],\n",
              "             ...,\n",
              "             [nan, nan, nan, ..., nan, nan, nan],\n",
              "             [nan, nan, nan, ..., nan, nan, nan],\n",
              "             [nan, nan, nan, ..., nan, nan, nan]], dtype=float32)"
            ]
          },
          "metadata": {},
          "execution_count": 23
        }
      ],
      "source": [
        "ratings_test"
      ]
    },
    {
      "cell_type": "code",
      "execution_count": 24,
      "metadata": {
        "id": "l2Tgwbd8Pbk1"
      },
      "outputs": [],
      "source": [
        "@jax.jit\n",
        "def RMSE(A_test,A_pred):\n",
        "    error = A_test - A_pred\n",
        "    return jnp.sqrt(jnp.nanmean(error**2))\n",
        "\n",
        "def RMSE_int(A_test,A_pred):\n",
        "    # round off predicted value and discretize\n",
        "    A_pred = jnp.round(A_pred)\n",
        "    A_pred = jnp.array(np.vectorize(lambda x: 5 if x>5 else 1 if x<1 else x)(A_pred))\n",
        "    error = A_test - A_pred\n",
        "    return jnp.sqrt(jnp.nanmean(error**2))"
      ]
    },
    {
      "cell_type": "markdown",
      "metadata": {
        "id": "m0TPPwukPCiY"
      },
      "source": [
        "# Naive models"
      ]
    },
    {
      "cell_type": "markdown",
      "metadata": {
        "id": "CZgEe8cWbVRn"
      },
      "source": [
        "### Global mean"
      ]
    },
    {
      "cell_type": "code",
      "execution_count": 25,
      "metadata": {
        "colab": {
          "base_uri": "https://localhost:8080/"
        },
        "id": "HJ43uJqePe1H",
        "outputId": "99b0cd45-5471-46af-a97b-aa6db33e0d07"
      },
      "outputs": [
        {
          "output_type": "execute_result",
          "data": {
            "text/plain": [
              "3.5814467850640255"
            ]
          },
          "metadata": {},
          "execution_count": 25
        }
      ],
      "source": [
        "global_mean = np.nanmean(ratings_train)\n",
        "global_mean"
      ]
    },
    {
      "cell_type": "code",
      "execution_count": 26,
      "metadata": {
        "colab": {
          "base_uri": "https://localhost:8080/"
        },
        "id": "MCp802XhPeu5",
        "outputId": "260ada3b-d22f-4de6-e17e-c4bc7388fb9a"
      },
      "outputs": [
        {
          "output_type": "execute_result",
          "data": {
            "text/plain": [
              "DeviceArray(1.116474, dtype=float32)"
            ]
          },
          "metadata": {},
          "execution_count": 26
        }
      ],
      "source": [
        "ratings_pred_global_mean = jnp.array(ratings_train.fillna(global_mean))\n",
        "RMSE(ratings_test,ratings_pred_global_mean)"
      ]
    },
    {
      "cell_type": "code",
      "execution_count": 27,
      "metadata": {
        "colab": {
          "base_uri": "https://localhost:8080/"
        },
        "id": "QiKiLuE9_NKH",
        "outputId": "3810a0cf-2f3e-4ac9-bb8d-303f68ef0870"
      },
      "outputs": [
        {
          "output_type": "execute_result",
          "data": {
            "text/plain": [
              "DeviceArray(1.1919379, dtype=float32)"
            ]
          },
          "metadata": {},
          "execution_count": 27
        }
      ],
      "source": [
        "RMSE_int(ratings_test,ratings_pred_global_mean)"
      ]
    },
    {
      "cell_type": "markdown",
      "metadata": {
        "id": "17FJhuoykezg"
      },
      "source": [
        "### Movie mean"
      ]
    },
    {
      "cell_type": "code",
      "execution_count": 28,
      "metadata": {
        "colab": {
          "base_uri": "https://localhost:8080/"
        },
        "id": "PFsNvojVPesI",
        "outputId": "21d5d5b4-50f9-4e48-b54f-af0dda25a3b3"
      },
      "outputs": [
        {
          "output_type": "execute_result",
          "data": {
            "text/plain": [
              "MovieID\n",
              "1       4.141626\n",
              "2       3.212121\n",
              "3       3.018182\n",
              "4       2.712329\n",
              "5       3.021505\n",
              "          ...   \n",
              "3948    3.618490\n",
              "3949    4.132353\n",
              "3950    3.659574\n",
              "3951    3.972973\n",
              "3952    3.782857\n",
              "Length: 3952, dtype: float64"
            ]
          },
          "metadata": {},
          "execution_count": 28
        }
      ],
      "source": [
        "movie_mean = ratings_train.mean(axis=0)\n",
        "movie_mean"
      ]
    },
    {
      "cell_type": "code",
      "execution_count": null,
      "metadata": {
        "colab": {
          "base_uri": "https://localhost:8080/"
        },
        "id": "CO4QNcQFkseI",
        "outputId": "29fd1388-a9f2-439c-f6a9-c9a3400157bd"
      },
      "outputs": [
        {
          "data": {
            "text/plain": [
              "count    3694.000000\n",
              "mean        3.240894\n",
              "std         0.675277\n",
              "min         1.000000\n",
              "25%         2.821798\n",
              "50%         3.333333\n",
              "75%         3.741935\n",
              "max         5.000000\n",
              "dtype: float64"
            ]
          },
          "execution_count": 31,
          "metadata": {},
          "output_type": "execute_result"
        }
      ],
      "source": [
        "movie_mean.describe()"
      ]
    },
    {
      "cell_type": "code",
      "execution_count": null,
      "metadata": {
        "colab": {
          "base_uri": "https://localhost:8080/"
        },
        "id": "4pQd7kLylTyq",
        "outputId": "558da57e-8221-4abe-e692-83a6e922f720"
      },
      "outputs": [
        {
          "data": {
            "text/plain": [
              "DeviceArray(0.9809749, dtype=float32)"
            ]
          },
          "execution_count": 32,
          "metadata": {},
          "output_type": "execute_result"
        }
      ],
      "source": [
        "ratings_pred_movie_mean = jnp.array(ratings_train.fillna(movie_mean).fillna(global_mean))\n",
        "RMSE(ratings_test,ratings_pred_movie_mean)"
      ]
    },
    {
      "cell_type": "code",
      "execution_count": null,
      "metadata": {
        "colab": {
          "background_save": true
        },
        "id": "RQVy_7io_cQ3",
        "outputId": "ec49528f-8c3b-419e-fa98-4abdf96abd42"
      },
      "outputs": [
        {
          "data": {
            "text/plain": [
              "DeviceArray(1.0211473, dtype=float32)"
            ]
          },
          "execution_count": null,
          "metadata": {},
          "output_type": "execute_result"
        }
      ],
      "source": [
        "RMSE_int(ratings_test,ratings_pred_movie_mean)"
      ]
    },
    {
      "cell_type": "markdown",
      "metadata": {
        "id": "jtySzdNvnG4j"
      },
      "source": [
        "### User mean"
      ]
    },
    {
      "cell_type": "code",
      "execution_count": null,
      "metadata": {
        "colab": {
          "background_save": true
        },
        "id": "yCevvROFPelZ",
        "outputId": "714b3642-c6a6-402e-92c7-818f621ec295"
      },
      "outputs": [
        {
          "data": {
            "text/plain": [
              "UserID\n",
              "1       4.133333\n",
              "2       3.677966\n",
              "3       3.893617\n",
              "4       4.250000\n",
              "5       3.164773\n",
              "          ...   \n",
              "6036    3.313222\n",
              "6037    3.688525\n",
              "6038    3.937500\n",
              "6039    3.893805\n",
              "6040    3.573290\n",
              "Length: 6040, dtype: float64"
            ]
          },
          "execution_count": null,
          "metadata": {},
          "output_type": "execute_result"
        }
      ],
      "source": [
        "user_mean = ratings_train.mean(axis=1)\n",
        "user_mean"
      ]
    },
    {
      "cell_type": "code",
      "execution_count": null,
      "metadata": {
        "colab": {
          "background_save": true
        },
        "id": "1S1O2s51l5LE",
        "outputId": "c71d5fe9-fc48-47ab-dad9-414b13637906"
      },
      "outputs": [
        {
          "data": {
            "text/plain": [
              "count    6040.000000\n",
              "mean        3.703766\n",
              "std         0.432982\n",
              "min         1.017544\n",
              "25%         3.441396\n",
              "50%         3.740741\n",
              "75%         4.000000\n",
              "max         4.956522\n",
              "dtype: float64"
            ]
          },
          "execution_count": null,
          "metadata": {},
          "output_type": "execute_result"
        }
      ],
      "source": [
        "user_mean.describe()"
      ]
    },
    {
      "cell_type": "code",
      "execution_count": null,
      "metadata": {
        "colab": {
          "background_save": true,
          "base_uri": "https://localhost:8080/"
        },
        "id": "5e2enQyMPeiY",
        "outputId": "052c736b-04a8-4eb6-da84-f37ec093c575"
      },
      "outputs": [
        {
          "data": {
            "text/plain": [
              "DeviceArray(1.199763, dtype=float32)"
            ]
          },
          "execution_count": null,
          "metadata": {},
          "output_type": "execute_result"
        }
      ],
      "source": [
        "ratings_pred_user_mean = jnp.array(ratings_train.fillna(user_mean).fillna(global_mean))\n",
        "RMSE(ratings_test,ratings_pred_user_mean)"
      ]
    },
    {
      "cell_type": "code",
      "execution_count": null,
      "metadata": {
        "colab": {
          "background_save": true,
          "base_uri": "https://localhost:8080/"
        },
        "id": "vhOBQR4l_h0J",
        "outputId": "18bd8466-b765-4917-dc00-a4421204117d"
      },
      "outputs": [
        {
          "data": {
            "text/plain": [
              "DeviceArray(1.230905, dtype=float32)"
            ]
          },
          "execution_count": null,
          "metadata": {},
          "output_type": "execute_result"
        }
      ],
      "source": [
        "RMSE_int(ratings_test,ratings_pred_user_mean)"
      ]
    },
    {
      "cell_type": "markdown",
      "metadata": {
        "id": "b6Ijprq6qWIQ"
      },
      "source": [
        "### 1. User weighted mean\n",
        "$\\displaystyle\\hat{R}_{u,f}=\\frac{1}{\\alpha+|F(u)|}\\left(\\alpha M+\\sum_{f\\in{F(u)}}{R_{u,f}}\\right)$"
      ]
    },
    {
      "cell_type": "code",
      "execution_count": null,
      "metadata": {
        "colab": {
          "background_save": true
        },
        "id": "BA6lBZsUPefa"
      },
      "outputs": [],
      "source": [
        "def user_weighted_mean(alpha,ratings_train=ratings_train):\n",
        "  return (alpha * global_mean + ratings_train.sum(axis=1)) / (alpha + ratings_train.notnull().sum(axis=1))"
      ]
    },
    {
      "cell_type": "code",
      "execution_count": null,
      "metadata": {
        "id": "gv-HZRLKPedb"
      },
      "outputs": [],
      "source": [
        "alpha = np.arange(0,1001,100)\n",
        "user_weighted_rmse = [RMSE(ratings_test,jnp.array(ratings_train.fillna(user_weighted_mean(i)))) for i in alpha]"
      ]
    },
    {
      "cell_type": "code",
      "execution_count": null,
      "metadata": {
        "colab": {
          "base_uri": "https://localhost:8080/",
          "height": 313
        },
        "id": "49LGnTnGPeZ_",
        "outputId": "db8580aa-d5e7-45f7-90f2-edd0830f7f05"
      },
      "outputs": [
        {
          "data": {
            "text/plain": [
              "Text(0.5, 1.0, 'user weighted mean')"
            ]
          },
          "execution_count": 30,
          "metadata": {},
          "output_type": "execute_result"
        },
        {
          "data": {
            "image/png": "[encoded data removed]",
            "text/plain": [
              "<Figure size 432x288 with 1 Axes>"
            ]
          },
          "metadata": {},
          "output_type": "display_data"
        }
      ],
      "source": [
        "plt.plot(alpha,user_weighted_rmse,'-^')\n",
        "plt.xlabel('alpha')\n",
        "plt.ylabel('RMSE')\n",
        "plt.title('user weighted mean')"
      ]
    },
    {
      "cell_type": "markdown",
      "metadata": {
        "id": "AsZKYBuL2cF8"
      },
      "source": [
        "## 2. Matrix factorization"
      ]
    },
    {
      "cell_type": "code",
      "execution_count": null,
      "metadata": {
        "colab": {
          "base_uri": "https://localhost:8080/"
        },
        "id": "efOMdH49PeXv",
        "outputId": "6548d115-781d-4cb1-b769-68514f66c7c3"
      },
      "outputs": [
        {
          "output_type": "execute_result",
          "data": {
            "text/plain": [
              "DeviceArray([[ 5., nan, nan, ..., nan, nan, nan],\n",
              "             [nan, nan, nan, ..., nan, nan, nan],\n",
              "             [nan, nan, nan, ..., nan, nan, nan],\n",
              "             ...,\n",
              "             [nan, nan, nan, ..., nan, nan, nan],\n",
              "             [nan, nan, nan, ..., nan, nan, nan],\n",
              "             [ 3., nan, nan, ..., nan, nan, nan]], dtype=float32)"
            ]
          },
          "metadata": {},
          "execution_count": 25
        }
      ],
      "source": [
        "A = jnp.array(ratings_train)\n",
        "A"
      ]
    },
    {
      "cell_type": "code",
      "execution_count": null,
      "metadata": {
        "id": "36vOYlSdPeUp"
      },
      "outputs": [],
      "source": [
        "def l2_loss(x, alpha):\n",
        "    return alpha * jnp.mean(jnp.square(x))\n",
        "\n",
        "@jax.jit\n",
        "def MSE(U,V,A):\n",
        "    error = A - U @ V\n",
        "    error = jnp.nan_to_num(error,nan=0.)\n",
        "    return jnp.mean(error**2)\n",
        "\n",
        "@jax.jit\n",
        "def MSE_regularized(U, V, A, alpha):\n",
        "    error = A - U @ V\n",
        "    error = jnp.nan_to_num(error,nan=0.)\n",
        "    return jnp.mean(error**2) + l2_loss(U, alpha) + l2_loss(V, alpha)\n",
        "\n",
        "# MSE_grad_u = jax.jit( jax.grad(MSE, argnums=0) )\n",
        "# MSE_grad_v = jax.jit( jax.grad(MSE, argnums=1) )"
      ]
    },
    {
      "cell_type": "code",
      "execution_count": null,
      "metadata": {
        "id": "KPIemE7w1hVz"
      },
      "outputs": [],
      "source": [
        "def train_model(A, r=10, niter=100, learning_rate=1.0, alpha=0.001, mode='default'):\n",
        "  '''\n",
        "  A: training matrix\n",
        "  r: factorization dimension\n",
        "  niter: number of iterations\n",
        "  learning_rate: learning rate \n",
        "  mode: 'default'/'regularized'/'residual'\n",
        "  '''\n",
        "  m,n = A.shape\n",
        "  U_init = np.random.normal(0,1,size=(m,r))\n",
        "  V_init = np.random.normal(0,1,size=(r,n))\n",
        "  MSE_grad_u = None\n",
        "  MSE_grad_v = None\n",
        "  grad_u = None\n",
        "  grad_v = None\n",
        "\n",
        "  if mode == 'default':\n",
        "    MSE_grad_u = jax.jit( jax.grad(MSE, argnums=0) )\n",
        "    MSE_grad_v = jax.jit( jax.grad(MSE, argnums=1) )\n",
        "    grad_u = MSE_grad_u(U_init,V_init,A)\n",
        "    grad_v = MSE_grad_v(U_init,V_init,A)\n",
        "  elif mode == 'regularized':\n",
        "    MSE_grad_u = jax.jit( jax.grad(MSE_regularized, argnums=0) )\n",
        "    MSE_grad_v = jax.jit( jax.grad(MSE_regularized, argnums=1) )\n",
        "    grad_u = MSE_grad_u(U_init,V_init,A, alpha)\n",
        "    grad_v = MSE_grad_v(U_init,V_init,A, alpha)\n",
        "\n",
        "  U,V = np.copy(U_init), np.copy(V_init)\n",
        "\n",
        "  loss_history = []\n",
        "\n",
        "  for _ in range(niter):\n",
        "      # compute the gradients\n",
        "      if mode == 'default':\n",
        "        grad_u = MSE_grad_u(U, V, A)\n",
        "        grad_v = MSE_grad_v(U, V, A)\n",
        "      elif mode == 'regularized':\n",
        "        grad_u = MSE_grad_u(U, V, A, alpha)\n",
        "        grad_v = MSE_grad_v(U, V, A, alpha)\n",
        "      \n",
        "      # do the gradient updates\n",
        "      U = U - learning_rate * grad_u\n",
        "      V = V - learning_rate * grad_v\n",
        "      \n",
        "      # check the loss for monitoring purposes\n",
        "      current_loss = MSE(U,V,A)\n",
        "      loss_history.append(current_loss)\n",
        "\n",
        "  plt.plot(loss_history, \"-^\")\n",
        "\n",
        "  return U,V\n",
        "\n",
        "\n",
        "def evaluate_model(U,V):\n",
        "  print(\"{:20}\".format(\"Train RMSE:\"), \"{:.3f}\".format(RMSE(jnp.array(ratings_train),U@V)))\n",
        "  print(\"{:20}\".format(\"Train RMSE roundoff:\"), \"{:.3f}\".format(RMSE_int(jnp.array(ratings_train),U@V)))\n",
        "  print(\"{:20}\".format(\"Test RMSE:\"), \"{:.3f}\".format(RMSE(ratings_test,U@V)))\n",
        "  print(\"{:20}\".format(\"Test RMSE roundoff:\"), \"{:.3f}\".format(RMSE_int(ratings_test,U@V)))\n",
        "\n",
        "  return\n"
      ]
    },
    {
      "cell_type": "code",
      "execution_count": null,
      "metadata": {
        "colab": {
          "base_uri": "https://localhost:8080/",
          "height": 265
        },
        "id": "UFMV2ty61hPK",
        "outputId": "526ce391-a0f6-4a2b-970f-0c396de021fa"
      },
      "outputs": [
        {
          "output_type": "display_data",
          "data": {
            "text/plain": [
              "<Figure size 432x288 with 1 Axes>"
            ],
            "image/png": "[encoded data removed]"
          },
          "metadata": {
            "needs_background": "light"
          }
        }
      ],
      "source": [
        "U,V = train_model(A, r=1, niter=100, learning_rate=2000.0, mode='default')"
      ]
    },
    {
      "cell_type": "code",
      "execution_count": null,
      "metadata": {
        "colab": {
          "base_uri": "https://localhost:8080/"
        },
        "id": "J7PO4iOk1hL5",
        "outputId": "5da32a03-0583-4aa3-f7ac-7f161b9d66a4"
      },
      "outputs": [
        {
          "output_type": "stream",
          "name": "stdout",
          "text": [
            "Train RMSE:          0.961\n",
            "Train RMSE roundoff: 0.992\n",
            "Test RMSE:           0.976\n",
            "Test RMSE roundoff:  1.006\n"
          ]
        }
      ],
      "source": [
        "evaluate_model(U,V)"
      ]
    },
    {
      "cell_type": "code",
      "execution_count": null,
      "metadata": {
        "colab": {
          "base_uri": "https://localhost:8080/",
          "height": 265
        },
        "id": "Tc5Jcv0q1hSt",
        "outputId": "786e87c7-fc3d-4724-bedb-724b8205f046"
      },
      "outputs": [
        {
          "output_type": "display_data",
          "data": {
            "text/plain": [
              "<Figure size 432x288 with 1 Axes>"
            ],
            "image/png": "[encoded data removed]"
          },
          "metadata": {
            "needs_background": "light"
          }
        }
      ],
      "source": [
        "U,V = train_model(A, r=10, niter=100, learning_rate=2000.0, mode='default')"
      ]
    },
    {
      "cell_type": "code",
      "execution_count": null,
      "metadata": {
        "colab": {
          "base_uri": "https://localhost:8080/"
        },
        "id": "ArVlS-61AZHL",
        "outputId": "5bd88cf5-85f6-4020-909c-53fcbc1ebfc8"
      },
      "outputs": [
        {
          "output_type": "stream",
          "name": "stdout",
          "text": [
            "Train RMSE:          0.983\n",
            "Train RMSE roundoff: 1.006\n",
            "Test RMSE:           1.064\n",
            "Test RMSE roundoff:  1.058\n"
          ]
        }
      ],
      "source": [
        "evaluate_model(U,V)"
      ]
    },
    {
      "cell_type": "code",
      "execution_count": null,
      "metadata": {
        "colab": {
          "base_uri": "https://localhost:8080/",
          "height": 265
        },
        "id": "v7lDAp3F1hIu",
        "outputId": "92f2baec-0e89-44c4-c47b-b507bb2fec2b"
      },
      "outputs": [
        {
          "output_type": "display_data",
          "data": {
            "text/plain": [
              "<Figure size 432x288 with 1 Axes>"
            ],
            "image/png": "[encoded data removed]"
          },
          "metadata": {
            "needs_background": "light"
          }
        }
      ],
      "source": [
        "U,V = train_model(A, r=100, niter=100, learning_rate=2000.0, mode='default')"
      ]
    },
    {
      "cell_type": "code",
      "execution_count": null,
      "metadata": {
        "colab": {
          "base_uri": "https://localhost:8080/"
        },
        "id": "a6yvmBPe1hFq",
        "outputId": "8adb1382-cc7e-44cf-d9bc-dbbb57492729"
      },
      "outputs": [
        {
          "output_type": "stream",
          "name": "stdout",
          "text": [
            "Train RMSE:          1.015\n",
            "Train RMSE roundoff: 1.008\n",
            "Test RMSE:           2.616\n",
            "Test RMSE roundoff:  1.450\n"
          ]
        }
      ],
      "source": [
        "evaluate_model(U,V)"
      ]
    },
    {
      "cell_type": "code",
      "source": [
        "mf_RSME=[]\n",
        "r_value=[1,5,10,20, 50,100,500,1000]\n",
        "for i in r_value:\n",
        "  U,V = train_model(A, r=i, niter=100, learning_rate=2000.0, mode='default')\n",
        "  rsme=RMSE(ratings_test,U@V)\n",
        "  mf_RSME.append(rsme)\n",
        "  print('------------------------------------------')\n",
        "  print(f'Low-rank dimension reduction r={i}')\n",
        "  evaluate_model(U,V)\n",
        "data_tuples = list(zip(r_value,mf_RSME))\n",
        "mf=pd.DataFrame(data_tuples, columns=['r','RMSE']).set_index('r')\n",
        "mf"
      ],
      "metadata": {
        "colab": {
          "base_uri": "https://localhost:8080/",
          "height": 1000
        },
        "id": "UcPlKrnIwkTR",
        "outputId": "0dd5f767-4ac3-42f2-8706-dd3b470586eb"
      },
      "execution_count": null,
      "outputs": [
        {
          "output_type": "stream",
          "name": "stdout",
          "text": [
            "------------------------------------------\n",
            "Low-rank dimension reduction r=1\n",
            "Train RMSE:          0.950\n",
            "Train RMSE roundoff: 0.984\n",
            "Test RMSE:           0.964\n",
            "Test RMSE roundoff:  0.995\n",
            "------------------------------------------\n",
            "Low-rank dimension reduction r=5\n",
            "Train RMSE:          0.968\n",
            "Train RMSE roundoff: 0.996\n",
            "Test RMSE:           1.008\n",
            "Test RMSE roundoff:  1.028\n",
            "------------------------------------------\n",
            "Low-rank dimension reduction r=10\n",
            "Train RMSE:          0.982\n",
            "Train RMSE roundoff: 1.005\n",
            "Test RMSE:           1.063\n",
            "Test RMSE roundoff:  1.060\n",
            "------------------------------------------\n",
            "Low-rank dimension reduction r=20\n",
            "Train RMSE:          1.006\n",
            "Train RMSE roundoff: 1.018\n",
            "Test RMSE:           1.201\n",
            "Test RMSE roundoff:  1.121\n",
            "------------------------------------------\n",
            "Low-rank dimension reduction r=50\n",
            "Train RMSE:          1.029\n",
            "Train RMSE roundoff: 1.028\n",
            "Test RMSE:           1.661\n",
            "Test RMSE roundoff:  1.261\n",
            "------------------------------------------\n",
            "Low-rank dimension reduction r=100\n",
            "Train RMSE:          1.015\n",
            "Train RMSE roundoff: 1.009\n",
            "Test RMSE:           2.621\n",
            "Test RMSE roundoff:  1.453\n",
            "------------------------------------------\n",
            "Low-rank dimension reduction r=500\n",
            "Train RMSE:          0.661\n",
            "Train RMSE roundoff: 0.648\n",
            "Test RMSE:           11.724\n",
            "Test RMSE roundoff:  2.135\n",
            "------------------------------------------\n",
            "Low-rank dimension reduction r=1000\n",
            "Train RMSE:          0.290\n",
            "Train RMSE roundoff: 0.270\n",
            "Test RMSE:           22.438\n",
            "Test RMSE roundoff:  2.339\n"
          ]
        },
        {
          "output_type": "execute_result",
          "data": {
            "text/plain": [
              "           RMSE\n",
              "r              \n",
              "1     0.9636647\n",
              "5     1.0081538\n",
              "10    1.0626085\n",
              "20    1.2010473\n",
              "50    1.6609241\n",
              "100   2.6207042\n",
              "500   11.724268\n",
              "1000  22.438292"
            ],
            "text/html": [
              "\n",
              "  <div id=\"df-08b99f52-872b-4452-bca5-afe4d9a4c51b\">\n",
              "    <div class=\"colab-df-container\">\n",
              "      <div>\n",
              "<style scoped>\n",
              "    .dataframe tbody tr th:only-of-type {\n",
              "        vertical-align: middle;\n",
              "    }\n",
              "\n",
              "    .dataframe tbody tr th {\n",
              "        vertical-align: top;\n",
              "    }\n",
              "\n",
              "    .dataframe thead th {\n",
              "        text-align: right;\n",
              "    }\n",
              "</style>\n",
              "<table border=\"1\" class=\"dataframe\">\n",
              "  <thead>\n",
              "    <tr style=\"text-align: right;\">\n",
              "      <th></th>\n",
              "      <th>RMSE</th>\n",
              "    </tr>\n",
              "    <tr>\n",
              "      <th>r</th>\n",
              "      <th></th>\n",
              "    </tr>\n",
              "  </thead>\n",
              "  <tbody>\n",
              "    <tr>\n",
              "      <th>1</th>\n",
              "      <td>0.9636647</td>\n",
              "    </tr>\n",
              "    <tr>\n",
              "      <th>5</th>\n",
              "      <td>1.0081538</td>\n",
              "    </tr>\n",
              "    <tr>\n",
              "      <th>10</th>\n",
              "      <td>1.0626085</td>\n",
              "    </tr>\n",
              "    <tr>\n",
              "      <th>20</th>\n",
              "      <td>1.2010473</td>\n",
              "    </tr>\n",
              "    <tr>\n",
              "      <th>50</th>\n",
              "      <td>1.6609241</td>\n",
              "    </tr>\n",
              "    <tr>\n",
              "      <th>100</th>\n",
              "      <td>2.6207042</td>\n",
              "    </tr>\n",
              "    <tr>\n",
              "      <th>500</th>\n",
              "      <td>11.724268</td>\n",
              "    </tr>\n",
              "    <tr>\n",
              "      <th>1000</th>\n",
              "      <td>22.438292</td>\n",
              "    </tr>\n",
              "  </tbody>\n",
              "</table>\n",
              "</div>\n",
              "      <button class=\"colab-df-convert\" onclick=\"convertToInteractive('df-08b99f52-872b-4452-bca5-afe4d9a4c51b')\"\n",
              "              title=\"Convert this dataframe to an interactive table.\"\n",
              "              style=\"display:none;\">\n",
              "        \n",
              "  <svg xmlns=\"http://www.w3.org/2000/svg\" height=\"24px\"viewBox=\"0 0 24 24\"\n",
              "       width=\"24px\">\n",
              "    <path d=\"M0 0h24v24H0V0z\" fill=\"none\"/>\n",
              "    <path d=\"M18.56 5.44l.94 2.06.94-2.06 2.06-.94-2.06-.94-.94-2.06-.94 2.06-2.06.94zm-11 1L8.5 8.5l.94-2.06 2.06-.94-2.06-.94L8.5 2.5l-.94 2.06-2.06.94zm10 10l.94 2.06.94-2.06 2.06-.94-2.06-.94-.94-2.06-.94 2.06-2.06.94z\"/><path d=\"M17.41 7.96l-1.37-1.37c-.4-.4-.92-.59-1.43-.59-.52 0-1.04.2-1.43.59L10.3 9.45l-7.72 7.72c-.78.78-.78 2.05 0 2.83L4 21.41c.39.39.9.59 1.41.59.51 0 1.02-.2 1.41-.59l7.78-7.78 2.81-2.81c.8-.78.8-2.07 0-2.86zM5.41 20L4 18.59l7.72-7.72 1.47 1.35L5.41 20z\"/>\n",
              "  </svg>\n",
              "      </button>\n",
              "      \n",
              "  <style>\n",
              "    .colab-df-container {\n",
              "      display:flex;\n",
              "      flex-wrap:wrap;\n",
              "      gap: 12px;\n",
              "    }\n",
              "\n",
              "    .colab-df-convert {\n",
              "      background-color: #E8F0FE;\n",
              "      border: none;\n",
              "      border-radius: 50%;\n",
              "      cursor: pointer;\n",
              "      display: none;\n",
              "      fill: #1967D2;\n",
              "      height: 32px;\n",
              "      padding: 0 0 0 0;\n",
              "      width: 32px;\n",
              "    }\n",
              "\n",
              "    .colab-df-convert:hover {\n",
              "      background-color: #E2EBFA;\n",
              "      box-shadow: 0px 1px 2px rgba(60, 64, 67, 0.3), 0px 1px 3px 1px rgba(60, 64, 67, 0.15);\n",
              "      fill: #174EA6;\n",
              "    }\n",
              "\n",
              "    [theme=dark] .colab-df-convert {\n",
              "      background-color: #3B4455;\n",
              "      fill: #D2E3FC;\n",
              "    }\n",
              "\n",
              "    [theme=dark] .colab-df-convert:hover {\n",
              "      background-color: #434B5C;\n",
              "      box-shadow: 0px 1px 3px 1px rgba(0, 0, 0, 0.15);\n",
              "      filter: drop-shadow(0px 1px 2px rgba(0, 0, 0, 0.3));\n",
              "      fill: #FFFFFF;\n",
              "    }\n",
              "  </style>\n",
              "\n",
              "      <script>\n",
              "        const buttonEl =\n",
              "          document.querySelector('#df-08b99f52-872b-4452-bca5-afe4d9a4c51b button.colab-df-convert');\n",
              "        buttonEl.style.display =\n",
              "          google.colab.kernel.accessAllowed ? 'block' : 'none';\n",
              "\n",
              "        async function convertToInteractive(key) {\n",
              "          const element = document.querySelector('#df-08b99f52-872b-4452-bca5-afe4d9a4c51b');\n",
              "          const dataTable =\n",
              "            await google.colab.kernel.invokeFunction('convertToInteractive',\n",
              "                                                     [key], {});\n",
              "          if (!dataTable) return;\n",
              "\n",
              "          const docLinkHtml = 'Like what you see? Visit the ' +\n",
              "            '<a target=\"_blank\" href=https://colab.research.google.com/notebooks/data_table.ipynb>data table notebook</a>'\n",
              "            + ' to learn more about interactive tables.';\n",
              "          element.innerHTML = '';\n",
              "          dataTable['output_type'] = 'display_data';\n",
              "          await google.colab.output.renderOutput(dataTable, element);\n",
              "          const docLink = document.createElement('div');\n",
              "          docLink.innerHTML = docLinkHtml;\n",
              "          element.appendChild(docLink);\n",
              "        }\n",
              "      </script>\n",
              "    </div>\n",
              "  </div>\n",
              "  "
            ]
          },
          "metadata": {},
          "execution_count": 52
        },
        {
          "output_type": "display_data",
          "data": {
            "text/plain": [
              "<Figure size 432x288 with 1 Axes>"
            ],
            "image/png": "[encoded data removed]"
          },
          "metadata": {
            "needs_background": "light"
          }
        }
      ]
    },
    {
      "cell_type": "code",
      "source": [
        "mf_RSME=[]\n",
        "learning_value=[0.5,5,10,50,100,500,1000,2000]\n",
        "for i in learning_value:\n",
        "  U,V = train_model(A, r=1, niter=100, learning_rate=i, mode='default')\n",
        "  rsme=RMSE(ratings_test,U@V)\n",
        "  mf_RSME.append(rsme)\n",
        "  print('------------------------------------------')\n",
        "  print(f'learning rate={i}')\n",
        "  evaluate_model(U,V)\n",
        "data_tuples = list(zip(learning_value,mf_RSME))\n",
        "mf=pd.DataFrame(data_tuples, columns=['Learning rate','RMSE']).set_index('Learning rate')\n",
        "mf"
      ],
      "metadata": {
        "colab": {
          "base_uri": "https://localhost:8080/",
          "height": 1000
        },
        "id": "ZXPbmK_c2cmA",
        "outputId": "957543aa-2336-4e16-b2a2-e0c3c2e9486a"
      },
      "execution_count": null,
      "outputs": [
        {
          "output_type": "stream",
          "name": "stdout",
          "text": [
            "------------------------------------------\n",
            "learning rate=0.5\n",
            "Train RMSE:          3.877\n",
            "Train RMSE roundoff: 2.766\n",
            "Test RMSE:           3.876\n",
            "Test RMSE roundoff:  2.767\n",
            "------------------------------------------\n",
            "learning rate=5\n",
            "Train RMSE:          3.865\n",
            "Train RMSE roundoff: 2.773\n",
            "Test RMSE:           3.869\n",
            "Test RMSE roundoff:  2.774\n",
            "------------------------------------------\n",
            "learning rate=10\n",
            "Train RMSE:          3.869\n",
            "Train RMSE roundoff: 2.770\n",
            "Test RMSE:           3.870\n",
            "Test RMSE roundoff:  2.770\n",
            "------------------------------------------\n",
            "learning rate=50\n",
            "Train RMSE:          3.819\n",
            "Train RMSE roundoff: 2.791\n",
            "Test RMSE:           3.822\n",
            "Test RMSE roundoff:  2.791\n",
            "------------------------------------------\n",
            "learning rate=100\n",
            "Train RMSE:          3.792\n",
            "Train RMSE roundoff: 2.800\n",
            "Test RMSE:           3.798\n",
            "Test RMSE roundoff:  2.802\n",
            "------------------------------------------\n",
            "learning rate=500\n",
            "Train RMSE:          3.562\n",
            "Train RMSE roundoff: 2.789\n",
            "Test RMSE:           3.567\n",
            "Test RMSE roundoff:  2.791\n",
            "------------------------------------------\n",
            "learning rate=1000\n",
            "Train RMSE:          1.199\n",
            "Train RMSE roundoff: 1.175\n",
            "Test RMSE:           1.219\n",
            "Test RMSE roundoff:  1.190\n",
            "------------------------------------------\n",
            "learning rate=2000\n",
            "Train RMSE:          0.956\n",
            "Train RMSE roundoff: 0.989\n",
            "Test RMSE:           0.973\n",
            "Test RMSE roundoff:  1.003\n"
          ]
        },
        {
          "output_type": "execute_result",
          "data": {
            "text/plain": [
              "                     RMSE\n",
              "Learning rate            \n",
              "0.5             3.8755896\n",
              "5.0             3.8686168\n",
              "10.0            3.8699646\n",
              "50.0            3.8215692\n",
              "100.0            3.797865\n",
              "500.0           3.5665214\n",
              "1000.0           1.218774\n",
              "2000.0         0.97317874"
            ],
            "text/html": [
              "\n",
              "  <div id=\"df-ddd74732-bcff-491a-9e4d-72377a7d5a3d\">\n",
              "    <div class=\"colab-df-container\">\n",
              "      <div>\n",
              "<style scoped>\n",
              "    .dataframe tbody tr th:only-of-type {\n",
              "        vertical-align: middle;\n",
              "    }\n",
              "\n",
              "    .dataframe tbody tr th {\n",
              "        vertical-align: top;\n",
              "    }\n",
              "\n",
              "    .dataframe thead th {\n",
              "        text-align: right;\n",
              "    }\n",
              "</style>\n",
              "<table border=\"1\" class=\"dataframe\">\n",
              "  <thead>\n",
              "    <tr style=\"text-align: right;\">\n",
              "      <th></th>\n",
              "      <th>RMSE</th>\n",
              "    </tr>\n",
              "    <tr>\n",
              "      <th>Learning rate</th>\n",
              "      <th></th>\n",
              "    </tr>\n",
              "  </thead>\n",
              "  <tbody>\n",
              "    <tr>\n",
              "      <th>0.5</th>\n",
              "      <td>3.8755896</td>\n",
              "    </tr>\n",
              "    <tr>\n",
              "      <th>5.0</th>\n",
              "      <td>3.8686168</td>\n",
              "    </tr>\n",
              "    <tr>\n",
              "      <th>10.0</th>\n",
              "      <td>3.8699646</td>\n",
              "    </tr>\n",
              "    <tr>\n",
              "      <th>50.0</th>\n",
              "      <td>3.8215692</td>\n",
              "    </tr>\n",
              "    <tr>\n",
              "      <th>100.0</th>\n",
              "      <td>3.797865</td>\n",
              "    </tr>\n",
              "    <tr>\n",
              "      <th>500.0</th>\n",
              "      <td>3.5665214</td>\n",
              "    </tr>\n",
              "    <tr>\n",
              "      <th>1000.0</th>\n",
              "      <td>1.218774</td>\n",
              "    </tr>\n",
              "    <tr>\n",
              "      <th>2000.0</th>\n",
              "      <td>0.97317874</td>\n",
              "    </tr>\n",
              "  </tbody>\n",
              "</table>\n",
              "</div>\n",
              "      <button class=\"colab-df-convert\" onclick=\"convertToInteractive('df-ddd74732-bcff-491a-9e4d-72377a7d5a3d')\"\n",
              "              title=\"Convert this dataframe to an interactive table.\"\n",
              "              style=\"display:none;\">\n",
              "        \n",
              "  <svg xmlns=\"http://www.w3.org/2000/svg\" height=\"24px\"viewBox=\"0 0 24 24\"\n",
              "       width=\"24px\">\n",
              "    <path d=\"M0 0h24v24H0V0z\" fill=\"none\"/>\n",
              "    <path d=\"M18.56 5.44l.94 2.06.94-2.06 2.06-.94-2.06-.94-.94-2.06-.94 2.06-2.06.94zm-11 1L8.5 8.5l.94-2.06 2.06-.94-2.06-.94L8.5 2.5l-.94 2.06-2.06.94zm10 10l.94 2.06.94-2.06 2.06-.94-2.06-.94-.94-2.06-.94 2.06-2.06.94z\"/><path d=\"M17.41 7.96l-1.37-1.37c-.4-.4-.92-.59-1.43-.59-.52 0-1.04.2-1.43.59L10.3 9.45l-7.72 7.72c-.78.78-.78 2.05 0 2.83L4 21.41c.39.39.9.59 1.41.59.51 0 1.02-.2 1.41-.59l7.78-7.78 2.81-2.81c.8-.78.8-2.07 0-2.86zM5.41 20L4 18.59l7.72-7.72 1.47 1.35L5.41 20z\"/>\n",
              "  </svg>\n",
              "      </button>\n",
              "      \n",
              "  <style>\n",
              "    .colab-df-container {\n",
              "      display:flex;\n",
              "      flex-wrap:wrap;\n",
              "      gap: 12px;\n",
              "    }\n",
              "\n",
              "    .colab-df-convert {\n",
              "      background-color: #E8F0FE;\n",
              "      border: none;\n",
              "      border-radius: 50%;\n",
              "      cursor: pointer;\n",
              "      display: none;\n",
              "      fill: #1967D2;\n",
              "      height: 32px;\n",
              "      padding: 0 0 0 0;\n",
              "      width: 32px;\n",
              "    }\n",
              "\n",
              "    .colab-df-convert:hover {\n",
              "      background-color: #E2EBFA;\n",
              "      box-shadow: 0px 1px 2px rgba(60, 64, 67, 0.3), 0px 1px 3px 1px rgba(60, 64, 67, 0.15);\n",
              "      fill: #174EA6;\n",
              "    }\n",
              "\n",
              "    [theme=dark] .colab-df-convert {\n",
              "      background-color: #3B4455;\n",
              "      fill: #D2E3FC;\n",
              "    }\n",
              "\n",
              "    [theme=dark] .colab-df-convert:hover {\n",
              "      background-color: #434B5C;\n",
              "      box-shadow: 0px 1px 3px 1px rgba(0, 0, 0, 0.15);\n",
              "      filter: drop-shadow(0px 1px 2px rgba(0, 0, 0, 0.3));\n",
              "      fill: #FFFFFF;\n",
              "    }\n",
              "  </style>\n",
              "\n",
              "      <script>\n",
              "        const buttonEl =\n",
              "          document.querySelector('#df-ddd74732-bcff-491a-9e4d-72377a7d5a3d button.colab-df-convert');\n",
              "        buttonEl.style.display =\n",
              "          google.colab.kernel.accessAllowed ? 'block' : 'none';\n",
              "\n",
              "        async function convertToInteractive(key) {\n",
              "          const element = document.querySelector('#df-ddd74732-bcff-491a-9e4d-72377a7d5a3d');\n",
              "          const dataTable =\n",
              "            await google.colab.kernel.invokeFunction('convertToInteractive',\n",
              "                                                     [key], {});\n",
              "          if (!dataTable) return;\n",
              "\n",
              "          const docLinkHtml = 'Like what you see? Visit the ' +\n",
              "            '<a target=\"_blank\" href=https://colab.research.google.com/notebooks/data_table.ipynb>data table notebook</a>'\n",
              "            + ' to learn more about interactive tables.';\n",
              "          element.innerHTML = '';\n",
              "          dataTable['output_type'] = 'display_data';\n",
              "          await google.colab.output.renderOutput(dataTable, element);\n",
              "          const docLink = document.createElement('div');\n",
              "          docLink.innerHTML = docLinkHtml;\n",
              "          element.appendChild(docLink);\n",
              "        }\n",
              "      </script>\n",
              "    </div>\n",
              "  </div>\n",
              "  "
            ]
          },
          "metadata": {},
          "execution_count": 50
        },
        {
          "output_type": "display_data",
          "data": {
            "text/plain": [
              "<Figure size 432x288 with 1 Axes>"
            ],
            "image/png": "[encoded data removed]"
          },
          "metadata": {
            "needs_background": "light"
          }
        }
      ]
    },
    {
      "cell_type": "code",
      "source": [
        "mf_RSME=[]\n",
        "learning_value=[0.5,1000,2000]\n",
        "for i in learning_value:\n",
        "  U,V = train_model(A, r=1, niter=100, learning_rate=i, mode='default')\n",
        "  rsme=RMSE(ratings_test,U@V)\n",
        "  mf_RSME.append(rsme)\n",
        "  print('------------------------------------------')\n",
        "  print(f'learning rate={i}')\n",
        "  evaluate_model(U,V)\n",
        "data_tuples = list(zip(learning_value,mf_RSME))\n",
        "mf=pd.DataFrame(data_tuples, columns=['Learning rate','RMSE']).set_index('Learning rate')\n",
        "mf"
      ],
      "metadata": {
        "colab": {
          "base_uri": "https://localhost:8080/",
          "height": 735
        },
        "id": "2nZ8Tnn--cOm",
        "outputId": "c97ae209-d6a8-47e2-e8d1-114c916cfc78"
      },
      "execution_count": null,
      "outputs": [
        {
          "output_type": "stream",
          "name": "stdout",
          "text": [
            "------------------------------------------\n",
            "learning rate=0.5\n",
            "Train RMSE:          3.881\n",
            "Train RMSE roundoff: 2.765\n",
            "Test RMSE:           3.886\n",
            "Test RMSE roundoff:  2.765\n",
            "------------------------------------------\n",
            "learning rate=1000\n",
            "Train RMSE:          1.198\n",
            "Train RMSE roundoff: 1.176\n",
            "Test RMSE:           1.218\n",
            "Test RMSE roundoff:  1.188\n",
            "------------------------------------------\n",
            "learning rate=2000\n",
            "Train RMSE:          0.955\n",
            "Train RMSE roundoff: 0.989\n",
            "Test RMSE:           0.969\n",
            "Test RMSE roundoff:  1.002\n"
          ]
        },
        {
          "output_type": "execute_result",
          "data": {
            "text/plain": [
              "                    RMSE\n",
              "Learning rate           \n",
              "0.5             3.885721\n",
              "1000.0         1.2181344\n",
              "2000.0         0.9690794"
            ],
            "text/html": [
              "\n",
              "  <div id=\"df-1e32e3ca-229d-4e95-a712-8cac4535fb12\">\n",
              "    <div class=\"colab-df-container\">\n",
              "      <div>\n",
              "<style scoped>\n",
              "    .dataframe tbody tr th:only-of-type {\n",
              "        vertical-align: middle;\n",
              "    }\n",
              "\n",
              "    .dataframe tbody tr th {\n",
              "        vertical-align: top;\n",
              "    }\n",
              "\n",
              "    .dataframe thead th {\n",
              "        text-align: right;\n",
              "    }\n",
              "</style>\n",
              "<table border=\"1\" class=\"dataframe\">\n",
              "  <thead>\n",
              "    <tr style=\"text-align: right;\">\n",
              "      <th></th>\n",
              "      <th>RMSE</th>\n",
              "    </tr>\n",
              "    <tr>\n",
              "      <th>Learning rate</th>\n",
              "      <th></th>\n",
              "    </tr>\n",
              "  </thead>\n",
              "  <tbody>\n",
              "    <tr>\n",
              "      <th>0.5</th>\n",
              "      <td>3.885721</td>\n",
              "    </tr>\n",
              "    <tr>\n",
              "      <th>1000.0</th>\n",
              "      <td>1.2181344</td>\n",
              "    </tr>\n",
              "    <tr>\n",
              "      <th>2000.0</th>\n",
              "      <td>0.9690794</td>\n",
              "    </tr>\n",
              "  </tbody>\n",
              "</table>\n",
              "</div>\n",
              "      <button class=\"colab-df-convert\" onclick=\"convertToInteractive('df-1e32e3ca-229d-4e95-a712-8cac4535fb12')\"\n",
              "              title=\"Convert this dataframe to an interactive table.\"\n",
              "              style=\"display:none;\">\n",
              "        \n",
              "  <svg xmlns=\"http://www.w3.org/2000/svg\" height=\"24px\"viewBox=\"0 0 24 24\"\n",
              "       width=\"24px\">\n",
              "    <path d=\"M0 0h24v24H0V0z\" fill=\"none\"/>\n",
              "    <path d=\"M18.56 5.44l.94 2.06.94-2.06 2.06-.94-2.06-.94-.94-2.06-.94 2.06-2.06.94zm-11 1L8.5 8.5l.94-2.06 2.06-.94-2.06-.94L8.5 2.5l-.94 2.06-2.06.94zm10 10l.94 2.06.94-2.06 2.06-.94-2.06-.94-.94-2.06-.94 2.06-2.06.94z\"/><path d=\"M17.41 7.96l-1.37-1.37c-.4-.4-.92-.59-1.43-.59-.52 0-1.04.2-1.43.59L10.3 9.45l-7.72 7.72c-.78.78-.78 2.05 0 2.83L4 21.41c.39.39.9.59 1.41.59.51 0 1.02-.2 1.41-.59l7.78-7.78 2.81-2.81c.8-.78.8-2.07 0-2.86zM5.41 20L4 18.59l7.72-7.72 1.47 1.35L5.41 20z\"/>\n",
              "  </svg>\n",
              "      </button>\n",
              "      \n",
              "  <style>\n",
              "    .colab-df-container {\n",
              "      display:flex;\n",
              "      flex-wrap:wrap;\n",
              "      gap: 12px;\n",
              "    }\n",
              "\n",
              "    .colab-df-convert {\n",
              "      background-color: #E8F0FE;\n",
              "      border: none;\n",
              "      border-radius: 50%;\n",
              "      cursor: pointer;\n",
              "      display: none;\n",
              "      fill: #1967D2;\n",
              "      height: 32px;\n",
              "      padding: 0 0 0 0;\n",
              "      width: 32px;\n",
              "    }\n",
              "\n",
              "    .colab-df-convert:hover {\n",
              "      background-color: #E2EBFA;\n",
              "      box-shadow: 0px 1px 2px rgba(60, 64, 67, 0.3), 0px 1px 3px 1px rgba(60, 64, 67, 0.15);\n",
              "      fill: #174EA6;\n",
              "    }\n",
              "\n",
              "    [theme=dark] .colab-df-convert {\n",
              "      background-color: #3B4455;\n",
              "      fill: #D2E3FC;\n",
              "    }\n",
              "\n",
              "    [theme=dark] .colab-df-convert:hover {\n",
              "      background-color: #434B5C;\n",
              "      box-shadow: 0px 1px 3px 1px rgba(0, 0, 0, 0.15);\n",
              "      filter: drop-shadow(0px 1px 2px rgba(0, 0, 0, 0.3));\n",
              "      fill: #FFFFFF;\n",
              "    }\n",
              "  </style>\n",
              "\n",
              "      <script>\n",
              "        const buttonEl =\n",
              "          document.querySelector('#df-1e32e3ca-229d-4e95-a712-8cac4535fb12 button.colab-df-convert');\n",
              "        buttonEl.style.display =\n",
              "          google.colab.kernel.accessAllowed ? 'block' : 'none';\n",
              "\n",
              "        async function convertToInteractive(key) {\n",
              "          const element = document.querySelector('#df-1e32e3ca-229d-4e95-a712-8cac4535fb12');\n",
              "          const dataTable =\n",
              "            await google.colab.kernel.invokeFunction('convertToInteractive',\n",
              "                                                     [key], {});\n",
              "          if (!dataTable) return;\n",
              "\n",
              "          const docLinkHtml = 'Like what you see? Visit the ' +\n",
              "            '<a target=\"_blank\" href=https://colab.research.google.com/notebooks/data_table.ipynb>data table notebook</a>'\n",
              "            + ' to learn more about interactive tables.';\n",
              "          element.innerHTML = '';\n",
              "          dataTable['output_type'] = 'display_data';\n",
              "          await google.colab.output.renderOutput(dataTable, element);\n",
              "          const docLink = document.createElement('div');\n",
              "          docLink.innerHTML = docLinkHtml;\n",
              "          element.appendChild(docLink);\n",
              "        }\n",
              "      </script>\n",
              "    </div>\n",
              "  </div>\n",
              "  "
            ]
          },
          "metadata": {},
          "execution_count": 61
        },
        {
          "output_type": "display_data",
          "data": {
            "text/plain": [
              "<Figure size 432x288 with 1 Axes>"
            ],
            "image/png": "[encoded data removed]"
          },
          "metadata": {
            "needs_background": "light"
          }
        }
      ]
    },
    {
      "cell_type": "code",
      "source": [
        "mf_RSME=[]\n",
        "lambda_value=[0.01,0.025,0.05,0.1,0.25,0.5,1,1.5]\n",
        "for i in lambda_value:\n",
        "  U,V = train_model(A, r=1, niter=100, learning_rate=2000, alpha=i, mode='regularized')\n",
        "  rsme=RMSE(ratings_test,U@V)\n",
        "  mf_RSME.append(rsme)\n",
        "  print('------------------------------------------')\n",
        "  print(f'lambda_value={i}')\n",
        "  evaluate_model(U,V)\n",
        "data_tuples = list(zip(lambda_value,mf_RSME))\n",
        "mf=pd.DataFrame(data_tuples, columns=['lambda','RMSE']).set_index('lambda')\n",
        "mf"
      ],
      "metadata": {
        "colab": {
          "base_uri": "https://localhost:8080/",
          "height": 1000
        },
        "id": "8NioPZQeCKO7",
        "outputId": "b2c6d56f-1479-4bd5-d751-d3567be96d84"
      },
      "execution_count": null,
      "outputs": [
        {
          "output_type": "stream",
          "name": "stdout",
          "text": [
            "------------------------------------------\n",
            "lambda_value=0.01\n",
            "Train RMSE:          1.039\n",
            "Train RMSE roundoff: 1.072\n",
            "Test RMSE:           1.052\n",
            "Test RMSE roundoff:  1.084\n",
            "------------------------------------------\n",
            "lambda_value=0.025\n",
            "Train RMSE:          1.215\n",
            "Train RMSE roundoff: 1.240\n",
            "Test RMSE:           1.226\n",
            "Test RMSE roundoff:  1.251\n",
            "------------------------------------------\n",
            "lambda_value=0.05\n",
            "Train RMSE:          1.521\n",
            "Train RMSE roundoff: 1.528\n",
            "Test RMSE:           1.529\n",
            "Test RMSE roundoff:  1.535\n",
            "------------------------------------------\n",
            "lambda_value=0.1\n",
            "Train RMSE:          2.046\n",
            "Train RMSE roundoff: 1.995\n",
            "Test RMSE:           2.051\n",
            "Test RMSE roundoff:  1.998\n",
            "------------------------------------------\n",
            "lambda_value=0.25\n",
            "Train RMSE:          3.182\n",
            "Train RMSE roundoff: 2.750\n",
            "Test RMSE:           3.182\n",
            "Test RMSE roundoff:  2.749\n",
            "------------------------------------------\n",
            "lambda_value=0.5\n",
            "Train RMSE:          3.752\n",
            "Train RMSE roundoff: 2.813\n",
            "Test RMSE:           3.753\n",
            "Test RMSE roundoff:  2.814\n",
            "------------------------------------------\n",
            "lambda_value=1\n",
            "Train RMSE:          3.752\n",
            "Train RMSE roundoff: 2.813\n",
            "Test RMSE:           3.753\n",
            "Test RMSE roundoff:  2.814\n",
            "------------------------------------------\n",
            "lambda_value=1.5\n",
            "Train RMSE:          3.752\n",
            "Train RMSE roundoff: 2.813\n",
            "Test RMSE:           3.753\n",
            "Test RMSE roundoff:  2.814\n"
          ]
        },
        {
          "output_type": "execute_result",
          "data": {
            "text/plain": [
              "             RMSE\n",
              "lambda           \n",
              "0.010   1.0523155\n",
              "0.025   1.2263057\n",
              "0.050   1.5294029\n",
              "0.100    2.050508\n",
              "0.250   3.1822584\n",
              "0.500   3.7525597\n",
              "1.000   3.7525597\n",
              "1.500   3.7525597"
            ],
            "text/html": [
              "\n",
              "  <div id=\"df-eab2e33c-a550-4d93-9023-ae782138edbb\">\n",
              "    <div class=\"colab-df-container\">\n",
              "      <div>\n",
              "<style scoped>\n",
              "    .dataframe tbody tr th:only-of-type {\n",
              "        vertical-align: middle;\n",
              "    }\n",
              "\n",
              "    .dataframe tbody tr th {\n",
              "        vertical-align: top;\n",
              "    }\n",
              "\n",
              "    .dataframe thead th {\n",
              "        text-align: right;\n",
              "    }\n",
              "</style>\n",
              "<table border=\"1\" class=\"dataframe\">\n",
              "  <thead>\n",
              "    <tr style=\"text-align: right;\">\n",
              "      <th></th>\n",
              "      <th>RMSE</th>\n",
              "    </tr>\n",
              "    <tr>\n",
              "      <th>lambda</th>\n",
              "      <th></th>\n",
              "    </tr>\n",
              "  </thead>\n",
              "  <tbody>\n",
              "    <tr>\n",
              "      <th>0.010</th>\n",
              "      <td>1.0523155</td>\n",
              "    </tr>\n",
              "    <tr>\n",
              "      <th>0.025</th>\n",
              "      <td>1.2263057</td>\n",
              "    </tr>\n",
              "    <tr>\n",
              "      <th>0.050</th>\n",
              "      <td>1.5294029</td>\n",
              "    </tr>\n",
              "    <tr>\n",
              "      <th>0.100</th>\n",
              "      <td>2.050508</td>\n",
              "    </tr>\n",
              "    <tr>\n",
              "      <th>0.250</th>\n",
              "      <td>3.1822584</td>\n",
              "    </tr>\n",
              "    <tr>\n",
              "      <th>0.500</th>\n",
              "      <td>3.7525597</td>\n",
              "    </tr>\n",
              "    <tr>\n",
              "      <th>1.000</th>\n",
              "      <td>3.7525597</td>\n",
              "    </tr>\n",
              "    <tr>\n",
              "      <th>1.500</th>\n",
              "      <td>3.7525597</td>\n",
              "    </tr>\n",
              "  </tbody>\n",
              "</table>\n",
              "</div>\n",
              "      <button class=\"colab-df-convert\" onclick=\"convertToInteractive('df-eab2e33c-a550-4d93-9023-ae782138edbb')\"\n",
              "              title=\"Convert this dataframe to an interactive table.\"\n",
              "              style=\"display:none;\">\n",
              "        \n",
              "  <svg xmlns=\"http://www.w3.org/2000/svg\" height=\"24px\"viewBox=\"0 0 24 24\"\n",
              "       width=\"24px\">\n",
              "    <path d=\"M0 0h24v24H0V0z\" fill=\"none\"/>\n",
              "    <path d=\"M18.56 5.44l.94 2.06.94-2.06 2.06-.94-2.06-.94-.94-2.06-.94 2.06-2.06.94zm-11 1L8.5 8.5l.94-2.06 2.06-.94-2.06-.94L8.5 2.5l-.94 2.06-2.06.94zm10 10l.94 2.06.94-2.06 2.06-.94-2.06-.94-.94-2.06-.94 2.06-2.06.94z\"/><path d=\"M17.41 7.96l-1.37-1.37c-.4-.4-.92-.59-1.43-.59-.52 0-1.04.2-1.43.59L10.3 9.45l-7.72 7.72c-.78.78-.78 2.05 0 2.83L4 21.41c.39.39.9.59 1.41.59.51 0 1.02-.2 1.41-.59l7.78-7.78 2.81-2.81c.8-.78.8-2.07 0-2.86zM5.41 20L4 18.59l7.72-7.72 1.47 1.35L5.41 20z\"/>\n",
              "  </svg>\n",
              "      </button>\n",
              "      \n",
              "  <style>\n",
              "    .colab-df-container {\n",
              "      display:flex;\n",
              "      flex-wrap:wrap;\n",
              "      gap: 12px;\n",
              "    }\n",
              "\n",
              "    .colab-df-convert {\n",
              "      background-color: #E8F0FE;\n",
              "      border: none;\n",
              "      border-radius: 50%;\n",
              "      cursor: pointer;\n",
              "      display: none;\n",
              "      fill: #1967D2;\n",
              "      height: 32px;\n",
              "      padding: 0 0 0 0;\n",
              "      width: 32px;\n",
              "    }\n",
              "\n",
              "    .colab-df-convert:hover {\n",
              "      background-color: #E2EBFA;\n",
              "      box-shadow: 0px 1px 2px rgba(60, 64, 67, 0.3), 0px 1px 3px 1px rgba(60, 64, 67, 0.15);\n",
              "      fill: #174EA6;\n",
              "    }\n",
              "\n",
              "    [theme=dark] .colab-df-convert {\n",
              "      background-color: #3B4455;\n",
              "      fill: #D2E3FC;\n",
              "    }\n",
              "\n",
              "    [theme=dark] .colab-df-convert:hover {\n",
              "      background-color: #434B5C;\n",
              "      box-shadow: 0px 1px 3px 1px rgba(0, 0, 0, 0.15);\n",
              "      filter: drop-shadow(0px 1px 2px rgba(0, 0, 0, 0.3));\n",
              "      fill: #FFFFFF;\n",
              "    }\n",
              "  </style>\n",
              "\n",
              "      <script>\n",
              "        const buttonEl =\n",
              "          document.querySelector('#df-eab2e33c-a550-4d93-9023-ae782138edbb button.colab-df-convert');\n",
              "        buttonEl.style.display =\n",
              "          google.colab.kernel.accessAllowed ? 'block' : 'none';\n",
              "\n",
              "        async function convertToInteractive(key) {\n",
              "          const element = document.querySelector('#df-eab2e33c-a550-4d93-9023-ae782138edbb');\n",
              "          const dataTable =\n",
              "            await google.colab.kernel.invokeFunction('convertToInteractive',\n",
              "                                                     [key], {});\n",
              "          if (!dataTable) return;\n",
              "\n",
              "          const docLinkHtml = 'Like what you see? Visit the ' +\n",
              "            '<a target=\"_blank\" href=https://colab.research.google.com/notebooks/data_table.ipynb>data table notebook</a>'\n",
              "            + ' to learn more about interactive tables.';\n",
              "          element.innerHTML = '';\n",
              "          dataTable['output_type'] = 'display_data';\n",
              "          await google.colab.output.renderOutput(dataTable, element);\n",
              "          const docLink = document.createElement('div');\n",
              "          docLink.innerHTML = docLinkHtml;\n",
              "          element.appendChild(docLink);\n",
              "        }\n",
              "      </script>\n",
              "    </div>\n",
              "  </div>\n",
              "  "
            ]
          },
          "metadata": {},
          "execution_count": 64
        },
        {
          "output_type": "display_data",
          "data": {
            "text/plain": [
              "<Figure size 432x288 with 1 Axes>"
            ],
            "image/png": "[encoded data removed]"
          },
          "metadata": {
            "needs_background": "light"
          }
        }
      ]
    },
    {
      "cell_type": "code",
      "source": [
        "U,V = train_model(A, r=1000, niter=100, learning_rate=2000.0, mode='default')\n",
        "evaluate_model(U,V)"
      ],
      "metadata": {
        "colab": {
          "base_uri": "https://localhost:8080/",
          "height": 334
        },
        "id": "_kn0USr5yHbp",
        "outputId": "29602dcf-df0b-4e97-e1e6-e0f5fe61168c"
      },
      "execution_count": null,
      "outputs": [
        {
          "output_type": "stream",
          "name": "stdout",
          "text": [
            "Train RMSE:          0.295\n",
            "Train RMSE roundoff: 0.274\n",
            "Test RMSE:           22.547\n",
            "Test RMSE roundoff:  2.337\n"
          ]
        },
        {
          "output_type": "display_data",
          "data": {
            "text/plain": [
              "<Figure size 432x288 with 1 Axes>"
            ],
            "image/png": "[encoded data removed]"
          },
          "metadata": {
            "needs_background": "light"
          }
        }
      ]
    },
    {
      "cell_type": "code",
      "source": [
        "U,V = train_model(A, r=10, niter=100, learning_rate=3000, mode='default')\n",
        "evaluate_model(U,V)"
      ],
      "metadata": {
        "colab": {
          "base_uri": "https://localhost:8080/",
          "height": 334
        },
        "id": "PCZBmdmv5Z0I",
        "outputId": "5e34e1ee-60ff-4314-90ce-fca4abddb6f9"
      },
      "execution_count": null,
      "outputs": [
        {
          "output_type": "stream",
          "name": "stdout",
          "text": [
            "Train RMSE:          0.931\n",
            "Train RMSE roundoff: 0.966\n",
            "Test RMSE:           1.008\n",
            "Test RMSE roundoff:  1.020\n"
          ]
        },
        {
          "output_type": "display_data",
          "data": {
            "text/plain": [
              "<Figure size 432x288 with 1 Axes>"
            ],
            "image/png": "[encoded data removed]"
          },
          "metadata": {
            "needs_background": "light"
          }
        }
      ]
    },
    {
      "cell_type": "markdown",
      "metadata": {
        "id": "L98lTYuJGqHr"
      },
      "source": [
        "# 3. User-based Collaborative Filtering\n",
        "### Step 0. Preprocess the ratings data"
      ]
    },
    {
      "cell_type": "code",
      "execution_count": null,
      "metadata": {
        "id": "RVH2ZzfLiGSX"
      },
      "outputs": [],
      "source": [
        "def load():\n",
        "    ratings = pd.read_csv(\n",
        "          'ml-1m/ratings.dat',\n",
        "          sep='::',\n",
        "          names=[\"userid\", \"itemid\", \"rating\", \"timestamp\"],\n",
        "          engine='python'\n",
        "    )\n",
        "    ratings = ratings.sort_values(by=['userid', 'itemid']).reset_index(drop=True)\n",
        "    ratings = ratings.drop(columns=['timestamp'])\n",
        "\n",
        "    movies = pd.read_csv(\n",
        "          'ml-1m/movies.dat',\n",
        "          sep='::',\n",
        "          names=[\"itemid\", \"title\", \"genres\"],\n",
        "          encoding='latin-1',\n",
        "          engine='python'\n",
        "      )\n",
        "      \n",
        "    return ratings, movies\n",
        "\n",
        "ratings, movies = load()"
      ]
    },
    {
      "cell_type": "code",
      "execution_count": null,
      "metadata": {
        "id": "4o3OVWVm1hCu"
      },
      "outputs": [],
      "source": [
        "def ids_encoder(ratings):\n",
        "    users = sorted(ratings['userid'].unique())\n",
        "    items = sorted(ratings['itemid'].unique())\n",
        "\n",
        "    # create users and items encoders\n",
        "    uencoder = LabelEncoder()\n",
        "    iencoder = LabelEncoder()\n",
        "\n",
        "    # fit users and items ids to the corresponding encoder\n",
        "    uencoder.fit(users)\n",
        "    iencoder.fit(items)\n",
        "\n",
        "    # encode userids and itemids\n",
        "    ratings.userid = uencoder.transform(ratings.userid.tolist())\n",
        "    ratings.itemid = iencoder.transform(ratings.itemid.tolist())\n",
        "\n",
        "    return ratings, uencoder, iencoder"
      ]
    },
    {
      "cell_type": "code",
      "execution_count": null,
      "metadata": {
        "colab": {
          "base_uri": "https://localhost:8080/",
          "height": 423
        },
        "id": "HwM4FPfWMR3U",
        "outputId": "a233098a-0cb4-4524-afa5-46b41077e02d"
      },
      "outputs": [
        {
          "data": {
            "text/html": [
              "\n",
              "  <div id=\"df-9add3988-61d1-4f5a-aa82-6f59b5e14914\">\n",
              "    <div class=\"colab-df-container\">\n",
              "      <div>\n",
              "<style scoped>\n",
              "    .dataframe tbody tr th:only-of-type {\n",
              "        vertical-align: middle;\n",
              "    }\n",
              "\n",
              "    .dataframe tbody tr th {\n",
              "        vertical-align: top;\n",
              "    }\n",
              "\n",
              "    .dataframe thead th {\n",
              "        text-align: right;\n",
              "    }\n",
              "</style>\n",
              "<table border=\"1\" class=\"dataframe\">\n",
              "  <thead>\n",
              "    <tr style=\"text-align: right;\">\n",
              "      <th></th>\n",
              "      <th>userid</th>\n",
              "      <th>itemid</th>\n",
              "      <th>rating</th>\n",
              "    </tr>\n",
              "  </thead>\n",
              "  <tbody>\n",
              "    <tr>\n",
              "      <th>0</th>\n",
              "      <td>1</td>\n",
              "      <td>1</td>\n",
              "      <td>5</td>\n",
              "    </tr>\n",
              "    <tr>\n",
              "      <th>1</th>\n",
              "      <td>1</td>\n",
              "      <td>48</td>\n",
              "      <td>5</td>\n",
              "    </tr>\n",
              "    <tr>\n",
              "      <th>2</th>\n",
              "      <td>1</td>\n",
              "      <td>150</td>\n",
              "      <td>5</td>\n",
              "    </tr>\n",
              "    <tr>\n",
              "      <th>3</th>\n",
              "      <td>1</td>\n",
              "      <td>260</td>\n",
              "      <td>4</td>\n",
              "    </tr>\n",
              "    <tr>\n",
              "      <th>4</th>\n",
              "      <td>1</td>\n",
              "      <td>527</td>\n",
              "      <td>5</td>\n",
              "    </tr>\n",
              "    <tr>\n",
              "      <th>...</th>\n",
              "      <td>...</td>\n",
              "      <td>...</td>\n",
              "      <td>...</td>\n",
              "    </tr>\n",
              "    <tr>\n",
              "      <th>1000204</th>\n",
              "      <td>6040</td>\n",
              "      <td>3683</td>\n",
              "      <td>4</td>\n",
              "    </tr>\n",
              "    <tr>\n",
              "      <th>1000205</th>\n",
              "      <td>6040</td>\n",
              "      <td>3703</td>\n",
              "      <td>4</td>\n",
              "    </tr>\n",
              "    <tr>\n",
              "      <th>1000206</th>\n",
              "      <td>6040</td>\n",
              "      <td>3735</td>\n",
              "      <td>4</td>\n",
              "    </tr>\n",
              "    <tr>\n",
              "      <th>1000207</th>\n",
              "      <td>6040</td>\n",
              "      <td>3751</td>\n",
              "      <td>4</td>\n",
              "    </tr>\n",
              "    <tr>\n",
              "      <th>1000208</th>\n",
              "      <td>6040</td>\n",
              "      <td>3819</td>\n",
              "      <td>5</td>\n",
              "    </tr>\n",
              "  </tbody>\n",
              "</table>\n",
              "<p>1000209 rows × 3 columns</p>\n",
              "</div>\n",
              "      <button class=\"colab-df-convert\" onclick=\"convertToInteractive('df-9add3988-61d1-4f5a-aa82-6f59b5e14914')\"\n",
              "              title=\"Convert this dataframe to an interactive table.\"\n",
              "              style=\"display:none;\">\n",
              "        \n",
              "  <svg xmlns=\"http://www.w3.org/2000/svg\" height=\"24px\"viewBox=\"0 0 24 24\"\n",
              "       width=\"24px\">\n",
              "    <path d=\"M0 0h24v24H0V0z\" fill=\"none\"/>\n",
              "    <path d=\"M18.56 5.44l.94 2.06.94-2.06 2.06-.94-2.06-.94-.94-2.06-.94 2.06-2.06.94zm-11 1L8.5 8.5l.94-2.06 2.06-.94-2.06-.94L8.5 2.5l-.94 2.06-2.06.94zm10 10l.94 2.06.94-2.06 2.06-.94-2.06-.94-.94-2.06-.94 2.06-2.06.94z\"/><path d=\"M17.41 7.96l-1.37-1.37c-.4-.4-.92-.59-1.43-.59-.52 0-1.04.2-1.43.59L10.3 9.45l-7.72 7.72c-.78.78-.78 2.05 0 2.83L4 21.41c.39.39.9.59 1.41.59.51 0 1.02-.2 1.41-.59l7.78-7.78 2.81-2.81c.8-.78.8-2.07 0-2.86zM5.41 20L4 18.59l7.72-7.72 1.47 1.35L5.41 20z\"/>\n",
              "  </svg>\n",
              "      </button>\n",
              "      \n",
              "  <style>\n",
              "    .colab-df-container {\n",
              "      display:flex;\n",
              "      flex-wrap:wrap;\n",
              "      gap: 12px;\n",
              "    }\n",
              "\n",
              "    .colab-df-convert {\n",
              "      background-color: #E8F0FE;\n",
              "      border: none;\n",
              "      border-radius: 50%;\n",
              "      cursor: pointer;\n",
              "      display: none;\n",
              "      fill: #1967D2;\n",
              "      height: 32px;\n",
              "      padding: 0 0 0 0;\n",
              "      width: 32px;\n",
              "    }\n",
              "\n",
              "    .colab-df-convert:hover {\n",
              "      background-color: #E2EBFA;\n",
              "      box-shadow: 0px 1px 2px rgba(60, 64, 67, 0.3), 0px 1px 3px 1px rgba(60, 64, 67, 0.15);\n",
              "      fill: #174EA6;\n",
              "    }\n",
              "\n",
              "    [theme=dark] .colab-df-convert {\n",
              "      background-color: #3B4455;\n",
              "      fill: #D2E3FC;\n",
              "    }\n",
              "\n",
              "    [theme=dark] .colab-df-convert:hover {\n",
              "      background-color: #434B5C;\n",
              "      box-shadow: 0px 1px 3px 1px rgba(0, 0, 0, 0.15);\n",
              "      filter: drop-shadow(0px 1px 2px rgba(0, 0, 0, 0.3));\n",
              "      fill: #FFFFFF;\n",
              "    }\n",
              "  </style>\n",
              "\n",
              "      <script>\n",
              "        const buttonEl =\n",
              "          document.querySelector('#df-9add3988-61d1-4f5a-aa82-6f59b5e14914 button.colab-df-convert');\n",
              "        buttonEl.style.display =\n",
              "          google.colab.kernel.accessAllowed ? 'block' : 'none';\n",
              "\n",
              "        async function convertToInteractive(key) {\n",
              "          const element = document.querySelector('#df-9add3988-61d1-4f5a-aa82-6f59b5e14914');\n",
              "          const dataTable =\n",
              "            await google.colab.kernel.invokeFunction('convertToInteractive',\n",
              "                                                     [key], {});\n",
              "          if (!dataTable) return;\n",
              "\n",
              "          const docLinkHtml = 'Like what you see? Visit the ' +\n",
              "            '<a target=\"_blank\" href=https://colab.research.google.com/notebooks/data_table.ipynb>data table notebook</a>'\n",
              "            + ' to learn more about interactive tables.';\n",
              "          element.innerHTML = '';\n",
              "          dataTable['output_type'] = 'display_data';\n",
              "          await google.colab.output.renderOutput(dataTable, element);\n",
              "          const docLink = document.createElement('div');\n",
              "          docLink.innerHTML = docLinkHtml;\n",
              "          element.appendChild(docLink);\n",
              "        }\n",
              "      </script>\n",
              "    </div>\n",
              "  </div>\n",
              "  "
            ],
            "text/plain": [
              "         userid  itemid  rating\n",
              "0             1       1       5\n",
              "1             1      48       5\n",
              "2             1     150       5\n",
              "3             1     260       4\n",
              "4             1     527       5\n",
              "...         ...     ...     ...\n",
              "1000204    6040    3683       4\n",
              "1000205    6040    3703       4\n",
              "1000206    6040    3735       4\n",
              "1000207    6040    3751       4\n",
              "1000208    6040    3819       5\n",
              "\n",
              "[1000209 rows x 3 columns]"
            ]
          },
          "execution_count": 42,
          "metadata": {},
          "output_type": "execute_result"
        }
      ],
      "source": [
        "ratings"
      ]
    },
    {
      "cell_type": "code",
      "execution_count": null,
      "metadata": {
        "id": "9uo1hoQ8My9a"
      },
      "outputs": [],
      "source": [
        "def ratings_matrix(ratings):    \n",
        "    return csr_matrix(pd.crosstab(ratings.userid, ratings.itemid, ratings.rating, aggfunc=sum).fillna(0).values)\n",
        "\n",
        "ratings, uencoder, iencoder = ids_encoder(ratings)\n",
        "R = ratings_matrix(ratings)"
      ]
    },
    {
      "cell_type": "markdown",
      "metadata": {
        "id": "1HVuVxhWPTAh"
      },
      "source": [
        "### Step 1. Identify similar users"
      ]
    },
    {
      "cell_type": "code",
      "execution_count": null,
      "metadata": {
        "id": "8_ovt7A71g8h"
      },
      "outputs": [],
      "source": [
        "def create_model(rating_matrix, metric):\n",
        "    \"\"\"\n",
        "    - create the nearest neighbors model with the corresponding similarity metric\n",
        "    - fit the model\n",
        "    \"\"\"\n",
        "    model = NearestNeighbors(metric=metric, n_neighbors=21, algorithm='brute')\n",
        "    model.fit(rating_matrix)    \n",
        "    return model\n",
        "\n",
        "def nearest_neighbors(rating_matrix, model):\n",
        "    \"\"\"    \n",
        "    :param rating_matrix : rating matrix of shape (nb_users, nb_items)\n",
        "    :param model : nearest neighbors model    \n",
        "    :return\n",
        "        - similarities : distances of the neighbors from the referenced user\n",
        "        - neighbors : neighbors of the referenced user in decreasing order of similarities\n",
        "    \"\"\"    \n",
        "    similarities, neighbors = model.kneighbors(rating_matrix)        \n",
        "    return similarities[:, 1:], neighbors[:, 1:]"
      ]
    },
    {
      "cell_type": "code",
      "execution_count": null,
      "metadata": {
        "id": "c2Fdu7031g_b"
      },
      "outputs": [],
      "source": [
        "model = create_model(rating_matrix=R, metric='cosine')\n",
        "similarities, neighbors = nearest_neighbors(R, model)"
      ]
    },
    {
      "cell_type": "markdown",
      "metadata": {
        "id": "ItgIePtWPchv"
      },
      "source": [
        "### Step 2. Find candidate movies"
      ]
    },
    {
      "cell_type": "code",
      "execution_count": null,
      "metadata": {
        "id": "Uy3ll2MO1g2A"
      },
      "outputs": [],
      "source": [
        "def find_candidate_items(userid):\n",
        "    \"\"\"\n",
        "    Find candidate items for an active user\n",
        "    \n",
        "    :param userid : active user\n",
        "    :param neighbors : users similar to the active user        \n",
        "    :return candidates : top 30 of candidate items\n",
        "    \"\"\"\n",
        "    user_neighbors = neighbors[userid]\n",
        "    activities = ratings.loc[ratings.UserID.isin(user_neighbors)]\n",
        "    \n",
        "    # sort items in decreasing order of frequency\n",
        "    frequency = activities.groupby('itemid')['rating'].count().reset_index(name='count').sort_values(['count'],ascending=False)\n",
        "    Gu_items = frequency.itemid\n",
        "    active_items = ratings.loc[ratings.userid == userid].itemid.to_list()\n",
        "    candidates = np.setdiff1d(Gu_items, active_items, assume_unique=True)[:30]\n",
        "        \n",
        "    return candidates"
      ]
    },
    {
      "cell_type": "markdown",
      "metadata": {
        "id": "kdUxpkz0RVSw"
      },
      "source": [
        "### Step 3. Predict movie ratings"
      ]
    },
    {
      "cell_type": "code",
      "execution_count": null,
      "metadata": {
        "id": "GdOzv6AQ1gy_"
      },
      "outputs": [],
      "source": [
        "# mean ratings for each user\n",
        "mean = ratings.groupby(by='userid', as_index=False)['rating'].mean()\n",
        "mean_ratings = pd.merge(ratings, mean, suffixes=('','_mean'), on='userid')\n",
        "\n",
        "# normalized ratings for each items\n",
        "mean_ratings['norm_rating'] = mean_ratings['rating'] - mean_ratings['rating_mean']\n",
        "\n",
        "mean = mean.to_numpy()[:, 1]\n",
        "np_ratings = mean_ratings.to_numpy()"
      ]
    },
    {
      "cell_type": "code",
      "execution_count": null,
      "metadata": {
        "id": "XQ5nuJ4M1gv3"
      },
      "outputs": [],
      "source": [
        "def predict(userid, itemid):\n",
        "    \"\"\"\n",
        "    predict what score userid would have given to itemid.\n",
        "    \n",
        "    :param\n",
        "        - userid : user id for which we want to make prediction\n",
        "        - itemid : item id on which we want to make prediction\n",
        "        \n",
        "    :return\n",
        "        - r_hat : predicted rating of user userid on item itemid\n",
        "    \"\"\"\n",
        "    user_similarities = similarities[userid]\n",
        "    user_neighbors = neighbors[userid]\n",
        "    # get mean rating of user userid\n",
        "    user_mean = mean[userid]\n",
        "    \n",
        "    # find users who rated item 'itemid'\n",
        "    iratings = np_ratings[np_ratings[:, 1].astype('int') == itemid]\n",
        "    \n",
        "    # find similar users to 'userid' who rated item 'itemid'\n",
        "    suri = iratings[np.isin(iratings[:, 0], user_neighbors)]\n",
        "    \n",
        "    # similar users who rated current item (surci)\n",
        "    normalized_ratings = suri[:,4]\n",
        "    indexes = [np.where(user_neighbors == uid)[0][0] for uid in suri[:, 0].astype('int')]\n",
        "    sims = user_similarities[indexes]\n",
        "    \n",
        "    num = np.dot(normalized_ratings, sims)\n",
        "    den = np.sum(np.abs(sims))\n",
        "    \n",
        "    if num == 0 or den == 0:\n",
        "        return user_mean\n",
        "    \n",
        "    r_hat = user_mean + np.dot(normalized_ratings, sims) / np.sum(np.abs(sims))\n",
        "    \n",
        "    return r_hat"
      ]
    },
    {
      "cell_type": "code",
      "execution_count": null,
      "metadata": {
        "id": "j5EyYO3VVzdz"
      },
      "outputs": [],
      "source": [
        "from sklearn.model_selection import train_test_split as sklearn_train_test_split\n",
        "\n",
        "def get_examples(dataframe, labels_column=\"rating\"):\n",
        "    examples = dataframe[['userid', 'itemid']].values\n",
        "    labels = dataframe[f'{labels_column}'].values\n",
        "    return examples, labels\n",
        "\n",
        "\n",
        "def train_test_split(examples, labels, test_size=0.1, verbose=0):\n",
        "    if verbose:\n",
        "        print(\"Train/Test split \")\n",
        "        print(100-test_size*100, \"% of training data\")\n",
        "        print(test_size*100, \"% of testing data\")    \n",
        "\n",
        "    # split data into train and test sets\n",
        "    train_examples, test_examples, train_labels, test_labels = sklearn_train_test_split(\n",
        "        examples, \n",
        "        labels, \n",
        "        test_size=0.1, \n",
        "        random_state=42, \n",
        "        shuffle=True\n",
        "    )\n",
        "\n",
        "    # transform train and test examples to their corresponding one-hot representations\n",
        "    train_users = train_examples[:, 0]\n",
        "    test_users = test_examples[:, 0]\n",
        "\n",
        "    train_items = train_examples[:, 1]\n",
        "    test_items = test_examples[:, 1]\n",
        "\n",
        "    # Final training and test set\n",
        "    x_train = np.array(list(zip(train_users, train_items)))\n",
        "    x_test = np.array(list(zip(test_users, test_items)))\n",
        "\n",
        "    y_train = train_labels\n",
        "    y_test = test_labels\n",
        "\n",
        "    if verbose:\n",
        "        print()\n",
        "        print('number of training examples : ', x_train.shape)\n",
        "        print('number of training labels : ', y_train.shape)\n",
        "        print('number of test examples : ', x_test.shape)\n",
        "        print('number of test labels : ', y_test.shape)\n",
        "\n",
        "    return (x_train, x_test), (y_train, y_test)"
      ]
    },
    {
      "cell_type": "code",
      "execution_count": null,
      "metadata": {
        "id": "p9zb9yfY1gjk"
      },
      "outputs": [],
      "source": [
        "# get examples as tuples of userids and itemids and labels from normalize ratings\n",
        "raw_examples, raw_labels = get_examples(ratings, labels_column='rating')\n",
        "\n",
        "# train test split\n",
        "(x_train, x_test), (y_train, y_test) = train_test_split(examples=raw_examples, labels=raw_labels)\n",
        "\n",
        "def evaluate(x_test, y_test):\n",
        "    print('Evaluate the model on {} test data ...'.format(x_test.shape[0]))\n",
        "    preds = list(predict(u,i) for (u,i) in x_test)\n",
        "    rmse = mean_squared_error(y_test, preds, squared=False)\n",
        "    print('\\nRMSE:', rmse)\n",
        "    return rmse"
      ]
    },
    {
      "cell_type": "code",
      "execution_count": null,
      "metadata": {
        "colab": {
          "base_uri": "https://localhost:8080/"
        },
        "id": "FjK1TBr_1ggj",
        "outputId": "a6da19e5-c498-4edf-a0ae-1e96a2fd1fa2"
      },
      "outputs": [
        {
          "name": "stdout",
          "output_type": "stream",
          "text": [
            "Evaluate the model on 100021 test data ...\n",
            "\n",
            "RMSE: 0.9430955911776768\n"
          ]
        },
        {
          "data": {
            "text/plain": [
              "0.9430955911776768"
            ]
          },
          "execution_count": 51,
          "metadata": {},
          "output_type": "execute_result"
        }
      ],
      "source": [
        "# This may take a few minutes to run\n",
        "evaluate(x_test, y_test)"
      ]
    },
    {
      "cell_type": "markdown",
      "metadata": {
        "id": "bUG_5QNbcgLU"
      },
      "source": [
        "# 4. Item-based Collaborative Filtering"
      ]
    },
    {
      "cell_type": "code",
      "execution_count": null,
      "metadata": {
        "id": "49wUomdA1gdZ"
      },
      "outputs": [],
      "source": [
        "# Load the dataset again\n",
        "ratings, movies = load()"
      ]
    },
    {
      "cell_type": "code",
      "execution_count": null,
      "metadata": {
        "id": "fDIitchl1gaf"
      },
      "outputs": [],
      "source": [
        "ratings, uencoder, iencoder = ids_encoder(ratings)"
      ]
    },
    {
      "cell_type": "markdown",
      "metadata": {
        "id": "CdPcVhgZpQ0p"
      },
      "source": [
        "### Step 1. Find similarities for each of the items"
      ]
    },
    {
      "cell_type": "code",
      "execution_count": null,
      "metadata": {
        "id": "8NW1QASh1gXk"
      },
      "outputs": [],
      "source": [
        "def normalize():\n",
        "    # compute mean rating for each user\n",
        "    mean = ratings.groupby(by='userid', as_index=False)['rating'].mean()\n",
        "    norm_ratings = pd.merge(ratings, mean, suffixes=('','_mean'), on='userid')\n",
        "    \n",
        "    # normalize each rating by substracting the mean rating of the corresponding user\n",
        "    norm_ratings['norm_rating'] = norm_ratings['rating'] - norm_ratings['rating_mean']\n",
        "    return mean.to_numpy()[:, 1], norm_ratings"
      ]
    },
    {
      "cell_type": "code",
      "execution_count": null,
      "metadata": {
        "colab": {
          "base_uri": "https://localhost:8080/",
          "height": 206
        },
        "id": "gZ5An8kh1gUb",
        "outputId": "4475396e-f794-4b57-f658-ede58784624d"
      },
      "outputs": [
        {
          "data": {
            "text/html": [
              "\n",
              "  <div id=\"df-61a2f1ba-7de7-455c-ace4-5c4f600c2789\">\n",
              "    <div class=\"colab-df-container\">\n",
              "      <div>\n",
              "<style scoped>\n",
              "    .dataframe tbody tr th:only-of-type {\n",
              "        vertical-align: middle;\n",
              "    }\n",
              "\n",
              "    .dataframe tbody tr th {\n",
              "        vertical-align: top;\n",
              "    }\n",
              "\n",
              "    .dataframe thead th {\n",
              "        text-align: right;\n",
              "    }\n",
              "</style>\n",
              "<table border=\"1\" class=\"dataframe\">\n",
              "  <thead>\n",
              "    <tr style=\"text-align: right;\">\n",
              "      <th></th>\n",
              "      <th>userid</th>\n",
              "      <th>itemid</th>\n",
              "      <th>rating</th>\n",
              "      <th>rating_mean</th>\n",
              "      <th>norm_rating</th>\n",
              "    </tr>\n",
              "  </thead>\n",
              "  <tbody>\n",
              "    <tr>\n",
              "      <th>0</th>\n",
              "      <td>0</td>\n",
              "      <td>0</td>\n",
              "      <td>5</td>\n",
              "      <td>4.188679</td>\n",
              "      <td>0.811321</td>\n",
              "    </tr>\n",
              "    <tr>\n",
              "      <th>1</th>\n",
              "      <td>0</td>\n",
              "      <td>47</td>\n",
              "      <td>5</td>\n",
              "      <td>4.188679</td>\n",
              "      <td>0.811321</td>\n",
              "    </tr>\n",
              "    <tr>\n",
              "      <th>2</th>\n",
              "      <td>0</td>\n",
              "      <td>144</td>\n",
              "      <td>5</td>\n",
              "      <td>4.188679</td>\n",
              "      <td>0.811321</td>\n",
              "    </tr>\n",
              "    <tr>\n",
              "      <th>3</th>\n",
              "      <td>0</td>\n",
              "      <td>253</td>\n",
              "      <td>4</td>\n",
              "      <td>4.188679</td>\n",
              "      <td>-0.188679</td>\n",
              "    </tr>\n",
              "    <tr>\n",
              "      <th>4</th>\n",
              "      <td>0</td>\n",
              "      <td>513</td>\n",
              "      <td>5</td>\n",
              "      <td>4.188679</td>\n",
              "      <td>0.811321</td>\n",
              "    </tr>\n",
              "  </tbody>\n",
              "</table>\n",
              "</div>\n",
              "      <button class=\"colab-df-convert\" onclick=\"convertToInteractive('df-61a2f1ba-7de7-455c-ace4-5c4f600c2789')\"\n",
              "              title=\"Convert this dataframe to an interactive table.\"\n",
              "              style=\"display:none;\">\n",
              "        \n",
              "  <svg xmlns=\"http://www.w3.org/2000/svg\" height=\"24px\"viewBox=\"0 0 24 24\"\n",
              "       width=\"24px\">\n",
              "    <path d=\"M0 0h24v24H0V0z\" fill=\"none\"/>\n",
              "    <path d=\"M18.56 5.44l.94 2.06.94-2.06 2.06-.94-2.06-.94-.94-2.06-.94 2.06-2.06.94zm-11 1L8.5 8.5l.94-2.06 2.06-.94-2.06-.94L8.5 2.5l-.94 2.06-2.06.94zm10 10l.94 2.06.94-2.06 2.06-.94-2.06-.94-.94-2.06-.94 2.06-2.06.94z\"/><path d=\"M17.41 7.96l-1.37-1.37c-.4-.4-.92-.59-1.43-.59-.52 0-1.04.2-1.43.59L10.3 9.45l-7.72 7.72c-.78.78-.78 2.05 0 2.83L4 21.41c.39.39.9.59 1.41.59.51 0 1.02-.2 1.41-.59l7.78-7.78 2.81-2.81c.8-.78.8-2.07 0-2.86zM5.41 20L4 18.59l7.72-7.72 1.47 1.35L5.41 20z\"/>\n",
              "  </svg>\n",
              "      </button>\n",
              "      \n",
              "  <style>\n",
              "    .colab-df-container {\n",
              "      display:flex;\n",
              "      flex-wrap:wrap;\n",
              "      gap: 12px;\n",
              "    }\n",
              "\n",
              "    .colab-df-convert {\n",
              "      background-color: #E8F0FE;\n",
              "      border: none;\n",
              "      border-radius: 50%;\n",
              "      cursor: pointer;\n",
              "      display: none;\n",
              "      fill: #1967D2;\n",
              "      height: 32px;\n",
              "      padding: 0 0 0 0;\n",
              "      width: 32px;\n",
              "    }\n",
              "\n",
              "    .colab-df-convert:hover {\n",
              "      background-color: #E2EBFA;\n",
              "      box-shadow: 0px 1px 2px rgba(60, 64, 67, 0.3), 0px 1px 3px 1px rgba(60, 64, 67, 0.15);\n",
              "      fill: #174EA6;\n",
              "    }\n",
              "\n",
              "    [theme=dark] .colab-df-convert {\n",
              "      background-color: #3B4455;\n",
              "      fill: #D2E3FC;\n",
              "    }\n",
              "\n",
              "    [theme=dark] .colab-df-convert:hover {\n",
              "      background-color: #434B5C;\n",
              "      box-shadow: 0px 1px 3px 1px rgba(0, 0, 0, 0.15);\n",
              "      filter: drop-shadow(0px 1px 2px rgba(0, 0, 0, 0.3));\n",
              "      fill: #FFFFFF;\n",
              "    }\n",
              "  </style>\n",
              "\n",
              "      <script>\n",
              "        const buttonEl =\n",
              "          document.querySelector('#df-61a2f1ba-7de7-455c-ace4-5c4f600c2789 button.colab-df-convert');\n",
              "        buttonEl.style.display =\n",
              "          google.colab.kernel.accessAllowed ? 'block' : 'none';\n",
              "\n",
              "        async function convertToInteractive(key) {\n",
              "          const element = document.querySelector('#df-61a2f1ba-7de7-455c-ace4-5c4f600c2789');\n",
              "          const dataTable =\n",
              "            await google.colab.kernel.invokeFunction('convertToInteractive',\n",
              "                                                     [key], {});\n",
              "          if (!dataTable) return;\n",
              "\n",
              "          const docLinkHtml = 'Like what you see? Visit the ' +\n",
              "            '<a target=\"_blank\" href=https://colab.research.google.com/notebooks/data_table.ipynb>data table notebook</a>'\n",
              "            + ' to learn more about interactive tables.';\n",
              "          element.innerHTML = '';\n",
              "          dataTable['output_type'] = 'display_data';\n",
              "          await google.colab.output.renderOutput(dataTable, element);\n",
              "          const docLink = document.createElement('div');\n",
              "          docLink.innerHTML = docLinkHtml;\n",
              "          element.appendChild(docLink);\n",
              "        }\n",
              "      </script>\n",
              "    </div>\n",
              "  </div>\n",
              "  "
            ],
            "text/plain": [
              "   userid  itemid  rating  rating_mean  norm_rating\n",
              "0       0       0       5     4.188679     0.811321\n",
              "1       0      47       5     4.188679     0.811321\n",
              "2       0     144       5     4.188679     0.811321\n",
              "3       0     253       4     4.188679    -0.188679\n",
              "4       0     513       5     4.188679     0.811321"
            ]
          },
          "execution_count": 55,
          "metadata": {},
          "output_type": "execute_result"
        }
      ],
      "source": [
        "mean, norm_ratings = normalize()\n",
        "np_ratings = norm_ratings.to_numpy()\n",
        "norm_ratings.head()"
      ]
    },
    {
      "cell_type": "code",
      "execution_count": null,
      "metadata": {
        "id": "tPYq2lX31gRe"
      },
      "outputs": [],
      "source": [
        "def item_representation(ratings):    \n",
        "    return csr_matrix(pd.crosstab(ratings.itemid, ratings.userid, ratings.norm_rating, aggfunc=sum).fillna(0).values)\n",
        "\n",
        "R = item_representation(norm_ratings)"
      ]
    },
    {
      "cell_type": "code",
      "execution_count": null,
      "metadata": {
        "id": "iD4nS7Zx1gO1"
      },
      "outputs": [],
      "source": [
        "def create_model(rating_matrix, k=20, metric=\"cosine\"):\n",
        "    \"\"\"\n",
        "    :param R : numpy array of item representations\n",
        "    :param k : number of nearest neighbors to return    \n",
        "    :return model : our knn model\n",
        "    \"\"\"    \n",
        "    model = NearestNeighbors(metric=metric, n_neighbors=k+1, algorithm='brute')\n",
        "    model.fit(rating_matrix)    \n",
        "    return model\n",
        "\n",
        "def nearest_neighbors(rating_matrix, model):\n",
        "    \"\"\"\n",
        "    compute the top n similar items for each item.    \n",
        "    :param rating_matrix : items representations\n",
        "    :param model : nearest neighbors model    \n",
        "    :return similarities, neighbors\n",
        "    \"\"\"    \n",
        "    similarities, neighbors = model.kneighbors(rating_matrix)    \n",
        "    return similarities[:,1:], neighbors[:,1:]"
      ]
    },
    {
      "cell_type": "code",
      "execution_count": null,
      "metadata": {
        "id": "jHvB3Nc81gGX"
      },
      "outputs": [],
      "source": [
        "model = create_model(R, k=21, metric=\"cosine\")\n",
        "similarities, neighbors = nearest_neighbors(R, model)"
      ]
    },
    {
      "cell_type": "code",
      "execution_count": null,
      "metadata": {
        "colab": {
          "base_uri": "https://localhost:8080/"
        },
        "id": "K5pKC0Vk1gDQ",
        "outputId": "df37942b-a010-4360-8710-485d4a574dac"
      },
      "outputs": [
        {
          "name": "stdout",
          "output_type": "stream",
          "text": [
            "neighbors shape :  (3706, 21)\n",
            "similarities shape :  (3706, 21)\n"
          ]
        }
      ],
      "source": [
        "print('neighbors shape : ', neighbors.shape)\n",
        "print('similarities shape : ', similarities.shape)"
      ]
    },
    {
      "cell_type": "markdown",
      "metadata": {
        "id": "0ZI-0mNouNIt"
      },
      "source": [
        "Step 2. Predict movie ratings"
      ]
    },
    {
      "cell_type": "code",
      "execution_count": null,
      "metadata": {
        "id": "xwpahc9ZrokX"
      },
      "outputs": [],
      "source": [
        "def predict(userid, itemid):\n",
        "    \"\"\"\n",
        "    Make rating prediction for user userid on item itemid    \n",
        "    :param userid : id of the active user\n",
        "    :param itemid : id of the item for which we are making prediction        \n",
        "    :return r_hat : predicted rating\n",
        "    \"\"\"\n",
        "    \n",
        "    # Get items similar to item itemid with their corresponding similarities\n",
        "    item_neighbors = neighbors[itemid]\n",
        "    item_similarities = similarities[itemid]\n",
        "    \n",
        "    # get ratings of user with id userid\n",
        "    uratings = np_ratings[np_ratings[:, 0].astype('int') == userid]\n",
        "    \n",
        "    # similar items rated by item the user of i\n",
        "    siru = uratings[np.isin(uratings[:, 1], item_neighbors)]\n",
        "    scores = siru[:, 2]\n",
        "    indexes = [np.where(item_neighbors == iid)[0][0] for iid in siru[:,1].astype('int')]    \n",
        "    sims = item_similarities[indexes]\n",
        "    \n",
        "    dot = np.dot(scores, sims)\n",
        "    som = np.sum(np.abs(sims))\n",
        "\n",
        "    if dot == 0 or som == 0:\n",
        "        return mean[userid]\n",
        "    \n",
        "    return dot / som"
      ]
    },
    {
      "cell_type": "code",
      "execution_count": null,
      "metadata": {
        "id": "MbY0tlr9romf"
      },
      "outputs": [],
      "source": [
        "# get examples as tuples of userids and itemids and labels from normalize ratings\n",
        "raw_examples, raw_labels = get_examples(ratings, labels_column='rating')\n",
        "\n",
        "# train test split\n",
        "(x_train, x_test), (y_train, y_test) = train_test_split(examples=raw_examples, labels=raw_labels)"
      ]
    },
    {
      "cell_type": "code",
      "execution_count": null,
      "metadata": {
        "id": "SjPLKbbUyiia"
      },
      "outputs": [],
      "source": [
        "def evaluate(x_test, y_test):\n",
        "    print('Evaluate the model on {} test data ...'.format(x_test.shape[0]))\n",
        "    preds = list(predict(u,i) for (u,i) in x_test)\n",
        "    rmse = mean_squared_error(y_test, preds, squared=False)\n",
        "    print('\\nRMSE:', rmse)\n",
        "    return rmse"
      ]
    },
    {
      "cell_type": "code",
      "execution_count": null,
      "metadata": {
        "colab": {
          "base_uri": "https://localhost:8080/"
        },
        "id": "Y-vVpYmjrooZ",
        "outputId": "c0ff602f-fde9-45b7-f5a2-eb2409ffe278"
      },
      "outputs": [
        {
          "name": "stdout",
          "output_type": "stream",
          "text": [
            "Evaluate the model on 100021 test data ...\n",
            "\n",
            "RMSE: 0.8849379158906104\n"
          ]
        },
        {
          "data": {
            "text/plain": [
              "0.8849379158906104"
            ]
          },
          "execution_count": 63,
          "metadata": {},
          "output_type": "execute_result"
        }
      ],
      "source": [
        "# This may take a few minutes to run\n",
        "evaluate(x_test, y_test)"
      ]
    },
    {
      "cell_type": "markdown",
      "metadata": {
        "id": "fQrrj8RsVDvD"
      },
      "source": [
        "# Item based CF (Parameter tuning)"
      ]
    },
    {
      "cell_type": "markdown",
      "metadata": {
        "id": "RpaUA3Xq4ska"
      },
      "source": [
        "##### Metric: cosine/euclidean; KNN: k"
      ]
    },
    {
      "cell_type": "code",
      "execution_count": null,
      "metadata": {
        "id": "qCjNZvpurKgF"
      },
      "outputs": [],
      "source": [
        "from sklearn.model_selection import train_test_split as sklearn_train_test_split\n",
        "from sklearn.preprocessing import LabelEncoder\n",
        "from scipy.sparse import csr_matrix\n",
        "\n",
        "import numpy as np\n",
        "import pandas as pd\n",
        "\n",
        "\n",
        "def get_examples(dataframe, labels_column=\"rating\"):\n",
        "    examples = dataframe[['userid', 'itemid']].values\n",
        "    labels = dataframe[f'{labels_column}'].values\n",
        "    return examples, labels\n",
        "\n",
        "\n",
        "def train_test_split(examples, labels, test_size=0.1, verbose=0):\n",
        "    if verbose:\n",
        "        print(\"Train/Test split \")\n",
        "        print(100-test_size*100, \"% of training data\")\n",
        "        print(test_size*100, \"% of testing data\")    \n",
        "\n",
        "    # split data into train and test sets\n",
        "    train_examples, test_examples, train_labels, test_labels = sklearn_train_test_split(\n",
        "        examples, \n",
        "        labels, \n",
        "        test_size=0.1, \n",
        "        random_state=42, \n",
        "        shuffle=True\n",
        "    )\n",
        "\n",
        "    # transform train and test examples to their corresponding one-hot representations\n",
        "    train_users = train_examples[:, 0]\n",
        "    test_users = test_examples[:, 0]\n",
        "\n",
        "    train_items = train_examples[:, 1]\n",
        "    test_items = test_examples[:, 1]\n",
        "\n",
        "    # Final training and test set\n",
        "    x_train = np.array(list(zip(train_users, train_items)))\n",
        "    x_test = np.array(list(zip(test_users, test_items)))\n",
        "\n",
        "    y_train = train_labels\n",
        "    y_test = test_labels\n",
        "\n",
        "    if verbose:\n",
        "        print()\n",
        "        print('number of training examples : ', x_train.shape)\n",
        "        print('number of training labels : ', y_train.shape)\n",
        "        print('number of test examples : ', x_test.shape)\n",
        "        print('number of test labels : ', y_test.shape)\n",
        "\n",
        "    return (x_train, x_test), (y_train, y_test)\n",
        "\n",
        "\n",
        "def mean_ratings(dataframe):\n",
        "    means = dataframe.groupby(by='userid', as_index=False)['rating'].mean()\n",
        "    return means\n",
        "\n",
        "\n",
        "def normalized_ratings(dataframe, norm_column=\"norm_rating\"):\n",
        "    \"\"\"\n",
        "    Subscribe users mean ratings from each rating \n",
        "    \"\"\"\n",
        "    mean = mean_ratings(dataframe=dataframe)\n",
        "    norm = pd.merge(dataframe, mean, suffixes=('', '_mean'), on='userid')\n",
        "    norm[f'{norm_column}'] = norm['rating'] - norm['rating_mean']\n",
        "\n",
        "    return norm\n",
        "\n",
        "\n",
        "def rating_matrix(dataframe, column):\n",
        "    crosstab = pd.crosstab(dataframe.userid, dataframe.itemid, dataframe[f'{column}'], aggfunc=sum).fillna(0).values\n",
        "    matrix = csr_matrix(crosstab)\n",
        "    return matrix\n",
        "\n",
        "\n",
        "def scale_ratings(dataframe, scaled_column=\"scaled_rating\"):\n",
        "    dataframe[f\"{scaled_column}\"] = dataframe.rating / 5.0\n",
        "    return dataframe\n",
        "\n",
        "\n",
        "def ids_encoder(ratings):\n",
        "    users = sorted(ratings['userid'].unique())\n",
        "    items = sorted(ratings['itemid'].unique())\n",
        "\n",
        "    # create users and items encoders\n",
        "    uencoder = LabelEncoder()\n",
        "    iencoder = LabelEncoder()\n",
        "\n",
        "    # fit users and items ids to the corresponding encoder\n",
        "    uencoder.fit(users)\n",
        "    iencoder.fit(items)\n",
        "\n",
        "    # encode userids and itemids\n",
        "    ratings.userid = uencoder.transform(ratings.userid.tolist())\n",
        "    ratings.itemid = iencoder.transform(ratings.itemid.tolist())\n",
        "\n",
        "    return ratings, uencoder, iencoder"
      ]
    },
    {
      "cell_type": "code",
      "execution_count": null,
      "metadata": {
        "id": "Hu23gfIcpokK"
      },
      "outputs": [],
      "source": [
        "from sklearn.neighbors import NearestNeighbors\n",
        "from scipy.sparse import csr_matrix\n",
        "from sys import stdout\n",
        "\n",
        "\n",
        "\n",
        "class ItemToItem:\n",
        "\n",
        "    def __init__(self, ratings, movies, k=20, metric='cosine', dataset_name='ml1m'):\n",
        "\n",
        "        if metric not in ['cosine', 'euclidean']:\n",
        "            raise Exception('UnknownSimilarityMetric : The similarity metric must be selected among'\n",
        "                            'the followings : cosine, euclidean, adjusted_cosine. You choosed {}'.format(metric))\n",
        "\n",
        "        if k > 50:\n",
        "            raise Exception('Choose a value of k that is smaller than 50. You choosed {}'.format(k))\n",
        "\n",
        "        #self.predictions_dir = 'model/predictions/item2item'\n",
        "        #self.weights_dir = 'model/weights/item2item'\n",
        "        #self.dataset_name = dataset_name\n",
        "\n",
        "        self.ratings, self.uencoder, self.iencoder = ids_encoder(ratings)\n",
        "        self.means, self.ratings = self.normalize()\n",
        "        self.np_ratings = self.ratings.to_numpy()\n",
        "        self.ratings_matrix = self.create_ratings_matrix()\n",
        "\n",
        "        self.k = k\n",
        "        self.nb_items = self.ratings.itemid.nunique()\n",
        "\n",
        "        # compute similarities between items\n",
        "\n",
        "        self.metric = metric\n",
        "        # the metric is either 'cosine' or 'euclidian'\n",
        "        self.model = self.init_knn_model()\n",
        "        self.similarities, self.neighbors = self.knn()\n",
        "        self.movies = movies\n",
        "        #os.makedirs(self.predictions_dir, exist_ok=True)\n",
        "\n",
        "        print('Item to item recommendation model created with success ...')\n",
        "\n",
        "    def normalize(self):\n",
        "        print('Normalize ratings ...')\n",
        "        means = self.ratings.groupby(by='userid', as_index=False)['rating'].mean()\n",
        "        means_ratings = pd.merge(self.ratings, means, suffixes=('', '_mean'), on='userid')\n",
        "        means_ratings['norm_rating'] = means_ratings['rating'] - means_ratings['rating_mean']\n",
        "\n",
        "        return means.to_numpy()[:, 1], means_ratings\n",
        "\n",
        "    def create_ratings_matrix(self):\n",
        "        crosstab = pd.crosstab(self.ratings.itemid, self.ratings.userid, self.ratings.norm_rating, aggfunc=sum)\n",
        "        matrix = csr_matrix(crosstab.fillna(0).values)\n",
        "        return matrix\n",
        "\n",
        "    def init_knn_model(self):\n",
        "        print('Create the similarity model ...')\n",
        "        model = NearestNeighbors(metric=self.metric, n_neighbors=self.k+1, algorithm='brute')\n",
        "        # fit the model with users's ratings\n",
        "        model.fit(self.ratings_matrix)\n",
        "        return model\n",
        "\n",
        "    def knn(self):\n",
        "        print('Compute nearest neighbors ...')\n",
        "        similarities, neighbors = self.model.kneighbors(self.ratings_matrix)\n",
        "        print('neighbors shape : ', neighbors.shape)\n",
        "        print('similarities shape : ', similarities.shape)\n",
        "        return similarities[:, 1:], neighbors[:, 1:]\n",
        "\n",
        "    @staticmethod\n",
        "    def cosine(x, y):\n",
        "        return np.dot(x, y) / (np.linalg.norm(x) * np.linalg.norm(y))\n",
        "\n",
        "    def predict(self, userid, itemid):\n",
        "        \"\"\"\n",
        "        Make rating prediction for userid on itemid       \n",
        "        :param userid : id of the active user\n",
        "        :param itemid : id of the item for which we are making prediction            \n",
        "        :return r_hat : predicted rating\n",
        "        \"\"\"\n",
        "\n",
        "        # get ratings of user with id userid\n",
        "        user_ratings = self.np_ratings[self.np_ratings[:, 0].astype('int') == userid]\n",
        "\n",
        "        # similar items to itemid rated by this user (siru)\n",
        "        siru = user_ratings[np.isin(user_ratings[:, 1], self.neighbors[itemid])]\n",
        "        scores = siru[:, 2]\n",
        "        indexes = [np.where(self.neighbors[itemid] == iid)[0][0] for iid in siru[:, 1].astype('int')]\n",
        "        sims = self.similarities[itemid, indexes]\n",
        "\n",
        "        numerator = np.dot(scores, sims)\n",
        "        denominator = np.sum(np.abs(sims))\n",
        "\n",
        "        if denominator == 0:\n",
        "            return self.means[userid]\n",
        "\n",
        "        r_hat = numerator / denominator\n",
        "        return r_hat\n",
        "\n",
        "    def evaluate(self, x_test, y_test):\n",
        "        print('Evaluate the model on {} test data ...'.format(x_test.shape[0]))\n",
        "        preds = list(self.predict(u, i) for (u, i) in x_test)\n",
        "        mae = np.sum(np.absolute(y_test - np.array(preds))) / x_test.shape[0]\n",
        "        print()\n",
        "        print('MAE :', mae)\n",
        "        rmse = mean_squared_error(y_test, preds, squared=False)\n",
        "        print('\\nRMSE:', rmse)\n",
        "        return mae,rmse"
      ]
    },
    {
      "cell_type": "code",
      "execution_count": null,
      "metadata": {
        "id": "wE4R5cp_0-Ts"
      },
      "outputs": [],
      "source": [
        "# load data\n",
        "ratings= pd.read_csv(\"/content/drive/MyDrive/datasets/ml-1m/ml-1m/ratings.dat\",delimiter=\"::\", names=[\"userid\", \"itemid\", \"rating\", \"timestamp\"],engine='python')\n",
        "movies =pd.read_csv(\"/content/drive/MyDrive/datasets/ml-1m/ml-1m/movies.dat\",delimiter=\"::\", names=[\"itemid\", \"title\", \"genres\"],encoding='latin-1',engine='python')\n",
        "ratings = ratings.sort_values(by=['userid', 'itemid']).reset_index(drop=True)\n",
        "ratings = ratings.drop(columns=['timestamp'])\n",
        "# prepare data\n",
        "ratings, uencoder, iencoder = ids_encoder(ratings)\n",
        "\n",
        "# get examples as tuples of userids and itemids and labels from normalize ratings\n",
        "raw_examples, raw_labels = get_examples(ratings, labels_column='rating')\n",
        "\n",
        "# train test split\n",
        "(x_train, x_test), (y_train, y_test) = train_test_split(examples=raw_examples, labels=raw_labels)\n"
      ]
    },
    {
      "cell_type": "markdown",
      "metadata": {
        "id": "7Zj5NBjO1abU"
      },
      "source": [
        "####  Cosine and Euclidean metric for KNN"
      ]
    },
    {
      "cell_type": "code",
      "execution_count": null,
      "metadata": {
        "colab": {
          "base_uri": "https://localhost:8080/"
        },
        "id": "hAu1lELFdmp7",
        "outputId": "c2f7efa1-9baa-4707-cf32-21fa8a0f21c3"
      },
      "outputs": [
        {
          "name": "stdout",
          "output_type": "stream",
          "text": [
            "Normalize ratings ...\n",
            "Create the similarity model ...\n",
            "Compute nearest neighbors ...\n",
            "neighbors shape :  (3706, 21)\n",
            "similarities shape :  (3706, 21)\n",
            "Item to item recommendation model created with success ...\n",
            "Evaluate the model on 100021 test data ...\n",
            "\n",
            "MAE : 0.7723520285477461\n",
            "\n",
            "RMSE: 0.983428685169909\n",
            "Normalize ratings ...\n",
            "Create the similarity model ...\n",
            "Compute nearest neighbors ...\n",
            "neighbors shape :  (3706, 21)\n",
            "similarities shape :  (3706, 21)\n",
            "Item to item recommendation model created with success ...\n",
            "Evaluate the model on 100021 test data ...\n",
            "\n",
            "MAE : 0.6711353799771201\n",
            "\n",
            "RMSE: 0.8868832654599925\n"
          ]
        }
      ],
      "source": [
        "metric_list=['euclidean','cosine']\n",
        "mae_list=[]\n",
        "rmse_list=[]\n",
        "for i in metric_list:\n",
        "  item2item = ItemToItem(ratings, movies, k=20, metric=i, dataset_name='ml1m')\n",
        "  mae,rmse=item2item.evaluate(x_test, y_test)\n",
        "  mae_list.append(mae)\n",
        "  rmse_list.append(rmse)"
      ]
    },
    {
      "cell_type": "code",
      "execution_count": null,
      "metadata": {
        "colab": {
          "base_uri": "https://localhost:8080/",
          "height": 143
        },
        "id": "KURfKoOv0OWo",
        "outputId": "d42b9af2-405a-4df6-d881-89fdaa6b78fb"
      },
      "outputs": [
        {
          "data": {
            "text/html": [
              "\n",
              "  <div id=\"df-6bbb1d0a-8aa4-4a5a-830a-010adf3b6498\">\n",
              "    <div class=\"colab-df-container\">\n",
              "      <div>\n",
              "<style scoped>\n",
              "    .dataframe tbody tr th:only-of-type {\n",
              "        vertical-align: middle;\n",
              "    }\n",
              "\n",
              "    .dataframe tbody tr th {\n",
              "        vertical-align: top;\n",
              "    }\n",
              "\n",
              "    .dataframe thead th {\n",
              "        text-align: right;\n",
              "    }\n",
              "</style>\n",
              "<table border=\"1\" class=\"dataframe\">\n",
              "  <thead>\n",
              "    <tr style=\"text-align: right;\">\n",
              "      <th></th>\n",
              "      <th>MAE</th>\n",
              "      <th>RMSE</th>\n",
              "    </tr>\n",
              "    <tr>\n",
              "      <th>Metric</th>\n",
              "      <th></th>\n",
              "      <th></th>\n",
              "    </tr>\n",
              "  </thead>\n",
              "  <tbody>\n",
              "    <tr>\n",
              "      <th>euclidean</th>\n",
              "      <td>0.772352</td>\n",
              "      <td>0.983429</td>\n",
              "    </tr>\n",
              "    <tr>\n",
              "      <th>cosine</th>\n",
              "      <td>0.671135</td>\n",
              "      <td>0.886883</td>\n",
              "    </tr>\n",
              "  </tbody>\n",
              "</table>\n",
              "</div>\n",
              "      <button class=\"colab-df-convert\" onclick=\"convertToInteractive('df-6bbb1d0a-8aa4-4a5a-830a-010adf3b6498')\"\n",
              "              title=\"Convert this dataframe to an interactive table.\"\n",
              "              style=\"display:none;\">\n",
              "        \n",
              "  <svg xmlns=\"http://www.w3.org/2000/svg\" height=\"24px\"viewBox=\"0 0 24 24\"\n",
              "       width=\"24px\">\n",
              "    <path d=\"M0 0h24v24H0V0z\" fill=\"none\"/>\n",
              "    <path d=\"M18.56 5.44l.94 2.06.94-2.06 2.06-.94-2.06-.94-.94-2.06-.94 2.06-2.06.94zm-11 1L8.5 8.5l.94-2.06 2.06-.94-2.06-.94L8.5 2.5l-.94 2.06-2.06.94zm10 10l.94 2.06.94-2.06 2.06-.94-2.06-.94-.94-2.06-.94 2.06-2.06.94z\"/><path d=\"M17.41 7.96l-1.37-1.37c-.4-.4-.92-.59-1.43-.59-.52 0-1.04.2-1.43.59L10.3 9.45l-7.72 7.72c-.78.78-.78 2.05 0 2.83L4 21.41c.39.39.9.59 1.41.59.51 0 1.02-.2 1.41-.59l7.78-7.78 2.81-2.81c.8-.78.8-2.07 0-2.86zM5.41 20L4 18.59l7.72-7.72 1.47 1.35L5.41 20z\"/>\n",
              "  </svg>\n",
              "      </button>\n",
              "      \n",
              "  <style>\n",
              "    .colab-df-container {\n",
              "      display:flex;\n",
              "      flex-wrap:wrap;\n",
              "      gap: 12px;\n",
              "    }\n",
              "\n",
              "    .colab-df-convert {\n",
              "      background-color: #E8F0FE;\n",
              "      border: none;\n",
              "      border-radius: 50%;\n",
              "      cursor: pointer;\n",
              "      display: none;\n",
              "      fill: #1967D2;\n",
              "      height: 32px;\n",
              "      padding: 0 0 0 0;\n",
              "      width: 32px;\n",
              "    }\n",
              "\n",
              "    .colab-df-convert:hover {\n",
              "      background-color: #E2EBFA;\n",
              "      box-shadow: 0px 1px 2px rgba(60, 64, 67, 0.3), 0px 1px 3px 1px rgba(60, 64, 67, 0.15);\n",
              "      fill: #174EA6;\n",
              "    }\n",
              "\n",
              "    [theme=dark] .colab-df-convert {\n",
              "      background-color: #3B4455;\n",
              "      fill: #D2E3FC;\n",
              "    }\n",
              "\n",
              "    [theme=dark] .colab-df-convert:hover {\n",
              "      background-color: #434B5C;\n",
              "      box-shadow: 0px 1px 3px 1px rgba(0, 0, 0, 0.15);\n",
              "      filter: drop-shadow(0px 1px 2px rgba(0, 0, 0, 0.3));\n",
              "      fill: #FFFFFF;\n",
              "    }\n",
              "  </style>\n",
              "\n",
              "      <script>\n",
              "        const buttonEl =\n",
              "          document.querySelector('#df-6bbb1d0a-8aa4-4a5a-830a-010adf3b6498 button.colab-df-convert');\n",
              "        buttonEl.style.display =\n",
              "          google.colab.kernel.accessAllowed ? 'block' : 'none';\n",
              "\n",
              "        async function convertToInteractive(key) {\n",
              "          const element = document.querySelector('#df-6bbb1d0a-8aa4-4a5a-830a-010adf3b6498');\n",
              "          const dataTable =\n",
              "            await google.colab.kernel.invokeFunction('convertToInteractive',\n",
              "                                                     [key], {});\n",
              "          if (!dataTable) return;\n",
              "\n",
              "          const docLinkHtml = 'Like what you see? Visit the ' +\n",
              "            '<a target=\"_blank\" href=https://colab.research.google.com/notebooks/data_table.ipynb>data table notebook</a>'\n",
              "            + ' to learn more about interactive tables.';\n",
              "          element.innerHTML = '';\n",
              "          dataTable['output_type'] = 'display_data';\n",
              "          await google.colab.output.renderOutput(dataTable, element);\n",
              "          const docLink = document.createElement('div');\n",
              "          docLink.innerHTML = docLinkHtml;\n",
              "          element.appendChild(docLink);\n",
              "        }\n",
              "      </script>\n",
              "    </div>\n",
              "  </div>\n",
              "  "
            ],
            "text/plain": [
              "                MAE      RMSE\n",
              "Metric                       \n",
              "euclidean  0.772352  0.983429\n",
              "cosine     0.671135  0.886883"
            ]
          },
          "execution_count": 34,
          "metadata": {},
          "output_type": "execute_result"
        }
      ],
      "source": [
        "data_tuples = list(zip(metric_list,mae_list,rmse_list))\n",
        "item_based_k=pd.DataFrame(data_tuples, columns=['Metric','MAE','RMSE']).set_index('Metric')\n",
        "item_based_k"
      ]
    },
    {
      "cell_type": "code",
      "execution_count": null,
      "metadata": {
        "colab": {
          "base_uri": "https://localhost:8080/"
        },
        "id": "E-fCGqyIQl2y",
        "outputId": "7441fca2-3bc7-4b9a-c1c3-f3d2a32adac3"
      },
      "outputs": [
        {
          "name": "stdout",
          "output_type": "stream",
          "text": [
            "Normalize ratings ...\n",
            "Create the similarity model ...\n",
            "Compute nearest neighbors ...\n",
            "neighbors shape :  (3706, 6)\n",
            "similarities shape :  (3706, 6)\n",
            "Item to item recommendation model created with success ...\n",
            "Evaluate the model on 100021 test data ...\n",
            "\n",
            "MAE : 0.709000640788919\n",
            "\n",
            "RMSE: 0.9596174040642542\n",
            "Normalize ratings ...\n",
            "Create the similarity model ...\n",
            "Compute nearest neighbors ...\n",
            "neighbors shape :  (3706, 11)\n",
            "similarities shape :  (3706, 11)\n",
            "Item to item recommendation model created with success ...\n",
            "Evaluate the model on 100021 test data ...\n",
            "\n",
            "MAE : 0.6873468996247033\n",
            "\n",
            "RMSE: 0.9200191266097641\n",
            "Normalize ratings ...\n",
            "Create the similarity model ...\n",
            "Compute nearest neighbors ...\n",
            "neighbors shape :  (3706, 16)\n",
            "similarities shape :  (3706, 16)\n",
            "Item to item recommendation model created with success ...\n",
            "Evaluate the model on 100021 test data ...\n",
            "\n",
            "MAE : 0.6783306057741023\n",
            "\n",
            "RMSE: 0.9012549291648595\n",
            "Normalize ratings ...\n",
            "Create the similarity model ...\n",
            "Compute nearest neighbors ...\n",
            "neighbors shape :  (3706, 21)\n",
            "similarities shape :  (3706, 21)\n",
            "Item to item recommendation model created with success ...\n",
            "Evaluate the model on 100021 test data ...\n",
            "\n",
            "MAE : 0.6711353799771201\n",
            "\n",
            "RMSE: 0.8868832654599925\n",
            "Normalize ratings ...\n",
            "Create the similarity model ...\n",
            "Compute nearest neighbors ...\n",
            "neighbors shape :  (3706, 26)\n",
            "similarities shape :  (3706, 26)\n",
            "Item to item recommendation model created with success ...\n",
            "Evaluate the model on 100021 test data ...\n",
            "\n",
            "MAE : 0.666439458437758\n",
            "\n",
            "RMSE: 0.8767534253263237\n"
          ]
        }
      ],
      "source": [
        "num_list=[]\n",
        "mae_list=[]\n",
        "rmse_list=[]\n",
        "for i in range(5,30,5):\n",
        "  item2item = ItemToItem(ratings, movies, k=i, metric='cosine', dataset_name='ml1m')\n",
        "  mae,rmse=item2item.evaluate(x_test, y_test)\n",
        "  num_list.append(i)\n",
        "  mae_list.append(mae)\n",
        "  rmse_list.append(rmse)"
      ]
    },
    {
      "cell_type": "code",
      "execution_count": null,
      "metadata": {
        "colab": {
          "base_uri": "https://localhost:8080/",
          "height": 238
        },
        "id": "b8Use4PKQ-rn",
        "outputId": "edb28a07-8180-4b06-d76c-c056bd5b03e6"
      },
      "outputs": [
        {
          "data": {
            "text/html": [
              "\n",
              "  <div id=\"df-2a623680-00bb-40c7-bebf-4866d394934a\">\n",
              "    <div class=\"colab-df-container\">\n",
              "      <div>\n",
              "<style scoped>\n",
              "    .dataframe tbody tr th:only-of-type {\n",
              "        vertical-align: middle;\n",
              "    }\n",
              "\n",
              "    .dataframe tbody tr th {\n",
              "        vertical-align: top;\n",
              "    }\n",
              "\n",
              "    .dataframe thead th {\n",
              "        text-align: right;\n",
              "    }\n",
              "</style>\n",
              "<table border=\"1\" class=\"dataframe\">\n",
              "  <thead>\n",
              "    <tr style=\"text-align: right;\">\n",
              "      <th></th>\n",
              "      <th>MAE</th>\n",
              "      <th>RMSE</th>\n",
              "    </tr>\n",
              "    <tr>\n",
              "      <th>k</th>\n",
              "      <th></th>\n",
              "      <th></th>\n",
              "    </tr>\n",
              "  </thead>\n",
              "  <tbody>\n",
              "    <tr>\n",
              "      <th>5</th>\n",
              "      <td>0.709001</td>\n",
              "      <td>0.959617</td>\n",
              "    </tr>\n",
              "    <tr>\n",
              "      <th>10</th>\n",
              "      <td>0.687347</td>\n",
              "      <td>0.920019</td>\n",
              "    </tr>\n",
              "    <tr>\n",
              "      <th>15</th>\n",
              "      <td>0.678331</td>\n",
              "      <td>0.901255</td>\n",
              "    </tr>\n",
              "    <tr>\n",
              "      <th>20</th>\n",
              "      <td>0.671135</td>\n",
              "      <td>0.886883</td>\n",
              "    </tr>\n",
              "    <tr>\n",
              "      <th>25</th>\n",
              "      <td>0.666439</td>\n",
              "      <td>0.876753</td>\n",
              "    </tr>\n",
              "  </tbody>\n",
              "</table>\n",
              "</div>\n",
              "      <button class=\"colab-df-convert\" onclick=\"convertToInteractive('df-2a623680-00bb-40c7-bebf-4866d394934a')\"\n",
              "              title=\"Convert this dataframe to an interactive table.\"\n",
              "              style=\"display:none;\">\n",
              "        \n",
              "  <svg xmlns=\"http://www.w3.org/2000/svg\" height=\"24px\"viewBox=\"0 0 24 24\"\n",
              "       width=\"24px\">\n",
              "    <path d=\"M0 0h24v24H0V0z\" fill=\"none\"/>\n",
              "    <path d=\"M18.56 5.44l.94 2.06.94-2.06 2.06-.94-2.06-.94-.94-2.06-.94 2.06-2.06.94zm-11 1L8.5 8.5l.94-2.06 2.06-.94-2.06-.94L8.5 2.5l-.94 2.06-2.06.94zm10 10l.94 2.06.94-2.06 2.06-.94-2.06-.94-.94-2.06-.94 2.06-2.06.94z\"/><path d=\"M17.41 7.96l-1.37-1.37c-.4-.4-.92-.59-1.43-.59-.52 0-1.04.2-1.43.59L10.3 9.45l-7.72 7.72c-.78.78-.78 2.05 0 2.83L4 21.41c.39.39.9.59 1.41.59.51 0 1.02-.2 1.41-.59l7.78-7.78 2.81-2.81c.8-.78.8-2.07 0-2.86zM5.41 20L4 18.59l7.72-7.72 1.47 1.35L5.41 20z\"/>\n",
              "  </svg>\n",
              "      </button>\n",
              "      \n",
              "  <style>\n",
              "    .colab-df-container {\n",
              "      display:flex;\n",
              "      flex-wrap:wrap;\n",
              "      gap: 12px;\n",
              "    }\n",
              "\n",
              "    .colab-df-convert {\n",
              "      background-color: #E8F0FE;\n",
              "      border: none;\n",
              "      border-radius: 50%;\n",
              "      cursor: pointer;\n",
              "      display: none;\n",
              "      fill: #1967D2;\n",
              "      height: 32px;\n",
              "      padding: 0 0 0 0;\n",
              "      width: 32px;\n",
              "    }\n",
              "\n",
              "    .colab-df-convert:hover {\n",
              "      background-color: #E2EBFA;\n",
              "      box-shadow: 0px 1px 2px rgba(60, 64, 67, 0.3), 0px 1px 3px 1px rgba(60, 64, 67, 0.15);\n",
              "      fill: #174EA6;\n",
              "    }\n",
              "\n",
              "    [theme=dark] .colab-df-convert {\n",
              "      background-color: #3B4455;\n",
              "      fill: #D2E3FC;\n",
              "    }\n",
              "\n",
              "    [theme=dark] .colab-df-convert:hover {\n",
              "      background-color: #434B5C;\n",
              "      box-shadow: 0px 1px 3px 1px rgba(0, 0, 0, 0.15);\n",
              "      filter: drop-shadow(0px 1px 2px rgba(0, 0, 0, 0.3));\n",
              "      fill: #FFFFFF;\n",
              "    }\n",
              "  </style>\n",
              "\n",
              "      <script>\n",
              "        const buttonEl =\n",
              "          document.querySelector('#df-2a623680-00bb-40c7-bebf-4866d394934a button.colab-df-convert');\n",
              "        buttonEl.style.display =\n",
              "          google.colab.kernel.accessAllowed ? 'block' : 'none';\n",
              "\n",
              "        async function convertToInteractive(key) {\n",
              "          const element = document.querySelector('#df-2a623680-00bb-40c7-bebf-4866d394934a');\n",
              "          const dataTable =\n",
              "            await google.colab.kernel.invokeFunction('convertToInteractive',\n",
              "                                                     [key], {});\n",
              "          if (!dataTable) return;\n",
              "\n",
              "          const docLinkHtml = 'Like what you see? Visit the ' +\n",
              "            '<a target=\"_blank\" href=https://colab.research.google.com/notebooks/data_table.ipynb>data table notebook</a>'\n",
              "            + ' to learn more about interactive tables.';\n",
              "          element.innerHTML = '';\n",
              "          dataTable['output_type'] = 'display_data';\n",
              "          await google.colab.output.renderOutput(dataTable, element);\n",
              "          const docLink = document.createElement('div');\n",
              "          docLink.innerHTML = docLinkHtml;\n",
              "          element.appendChild(docLink);\n",
              "        }\n",
              "      </script>\n",
              "    </div>\n",
              "  </div>\n",
              "  "
            ],
            "text/plain": [
              "         MAE      RMSE\n",
              "k                     \n",
              "5   0.709001  0.959617\n",
              "10  0.687347  0.920019\n",
              "15  0.678331  0.901255\n",
              "20  0.671135  0.886883\n",
              "25  0.666439  0.876753"
            ]
          },
          "execution_count": 29,
          "metadata": {},
          "output_type": "execute_result"
        }
      ],
      "source": [
        "data_tuples = list(zip(num_list,mae_list,rmse_list))\n",
        "item_based_k=pd.DataFrame(data_tuples, columns=['k','MAE','RMSE']).set_index('k')\n",
        "item_based_k"
      ]
    },
    {
      "cell_type": "code",
      "execution_count": null,
      "metadata": {
        "colab": {
          "base_uri": "https://localhost:8080/"
        },
        "id": "-KpOVBSB906l",
        "outputId": "0c380bc1-d896-42c4-ee33-7fc8f4f5ad30"
      },
      "outputs": [
        {
          "name": "stdout",
          "output_type": "stream",
          "text": [
            "Normalize ratings ...\n",
            "Create the similarity model ...\n",
            "Compute nearest neighbors ...\n",
            "neighbors shape :  (3706, 21)\n",
            "similarities shape :  (3706, 21)\n",
            "Item to item recommendation model created with success ...\n",
            "Evaluate the model on 100021 test data ...\n",
            "\n",
            "MAE : 0.6711353799771201\n",
            "\n",
            "RMSE: 0.8868832654599925\n",
            "Normalize ratings ...\n",
            "Create the similarity model ...\n",
            "Compute nearest neighbors ...\n",
            "neighbors shape :  (3706, 26)\n",
            "similarities shape :  (3706, 26)\n",
            "Item to item recommendation model created with success ...\n",
            "Evaluate the model on 100021 test data ...\n",
            "\n",
            "MAE : 0.666439458437758\n",
            "\n",
            "RMSE: 0.8767534253263237\n",
            "Normalize ratings ...\n",
            "Create the similarity model ...\n",
            "Compute nearest neighbors ...\n",
            "neighbors shape :  (3706, 31)\n",
            "similarities shape :  (3706, 31)\n",
            "Item to item recommendation model created with success ...\n",
            "Evaluate the model on 100021 test data ...\n",
            "\n",
            "MAE : 0.6636203373285545\n",
            "\n",
            "RMSE: 0.8702104184829774\n",
            "Normalize ratings ...\n",
            "Create the similarity model ...\n",
            "Compute nearest neighbors ...\n",
            "neighbors shape :  (3706, 36)\n",
            "similarities shape :  (3706, 36)\n",
            "Item to item recommendation model created with success ...\n",
            "Evaluate the model on 100021 test data ...\n",
            "\n",
            "MAE : 0.6607695552950611\n",
            "\n",
            "RMSE: 0.8639983883625258\n",
            "Normalize ratings ...\n",
            "Create the similarity model ...\n",
            "Compute nearest neighbors ...\n",
            "neighbors shape :  (3706, 41)\n",
            "similarities shape :  (3706, 41)\n",
            "Item to item recommendation model created with success ...\n",
            "Evaluate the model on 100021 test data ...\n",
            "\n",
            "MAE : 0.6592905322426316\n",
            "\n",
            "RMSE: 0.8598036306521122\n"
          ]
        }
      ],
      "source": [
        "num_list=[]\n",
        "mae_list=[]\n",
        "rmse_list=[]\n",
        "for i in range(20,45,5):\n",
        "  item2item = ItemToItem(ratings, movies, k=i, metric='cosine', dataset_name='ml1m')\n",
        "  mae,rmse=item2item.evaluate(x_test, y_test)\n",
        "  num_list.append(i)\n",
        "  mae_list.append(mae)\n",
        "  rmse_list.append(rmse)"
      ]
    },
    {
      "cell_type": "code",
      "execution_count": null,
      "metadata": {
        "colab": {
          "base_uri": "https://localhost:8080/",
          "height": 238
        },
        "id": "uoT3i9-rGHWI",
        "outputId": "bac0dc3c-49ff-43e2-b959-dca72623e42b"
      },
      "outputs": [
        {
          "data": {
            "text/html": [
              "\n",
              "  <div id=\"df-38406dc3-332f-4372-874c-a8180641ebab\">\n",
              "    <div class=\"colab-df-container\">\n",
              "      <div>\n",
              "<style scoped>\n",
              "    .dataframe tbody tr th:only-of-type {\n",
              "        vertical-align: middle;\n",
              "    }\n",
              "\n",
              "    .dataframe tbody tr th {\n",
              "        vertical-align: top;\n",
              "    }\n",
              "\n",
              "    .dataframe thead th {\n",
              "        text-align: right;\n",
              "    }\n",
              "</style>\n",
              "<table border=\"1\" class=\"dataframe\">\n",
              "  <thead>\n",
              "    <tr style=\"text-align: right;\">\n",
              "      <th></th>\n",
              "      <th>MAE</th>\n",
              "      <th>RMSE</th>\n",
              "    </tr>\n",
              "    <tr>\n",
              "      <th>k</th>\n",
              "      <th></th>\n",
              "      <th></th>\n",
              "    </tr>\n",
              "  </thead>\n",
              "  <tbody>\n",
              "    <tr>\n",
              "      <th>20</th>\n",
              "      <td>0.671135</td>\n",
              "      <td>0.886883</td>\n",
              "    </tr>\n",
              "    <tr>\n",
              "      <th>25</th>\n",
              "      <td>0.666439</td>\n",
              "      <td>0.876753</td>\n",
              "    </tr>\n",
              "    <tr>\n",
              "      <th>30</th>\n",
              "      <td>0.663620</td>\n",
              "      <td>0.870210</td>\n",
              "    </tr>\n",
              "    <tr>\n",
              "      <th>35</th>\n",
              "      <td>0.660770</td>\n",
              "      <td>0.863998</td>\n",
              "    </tr>\n",
              "    <tr>\n",
              "      <th>40</th>\n",
              "      <td>0.659291</td>\n",
              "      <td>0.859804</td>\n",
              "    </tr>\n",
              "  </tbody>\n",
              "</table>\n",
              "</div>\n",
              "      <button class=\"colab-df-convert\" onclick=\"convertToInteractive('df-38406dc3-332f-4372-874c-a8180641ebab')\"\n",
              "              title=\"Convert this dataframe to an interactive table.\"\n",
              "              style=\"display:none;\">\n",
              "        \n",
              "  <svg xmlns=\"http://www.w3.org/2000/svg\" height=\"24px\"viewBox=\"0 0 24 24\"\n",
              "       width=\"24px\">\n",
              "    <path d=\"M0 0h24v24H0V0z\" fill=\"none\"/>\n",
              "    <path d=\"M18.56 5.44l.94 2.06.94-2.06 2.06-.94-2.06-.94-.94-2.06-.94 2.06-2.06.94zm-11 1L8.5 8.5l.94-2.06 2.06-.94-2.06-.94L8.5 2.5l-.94 2.06-2.06.94zm10 10l.94 2.06.94-2.06 2.06-.94-2.06-.94-.94-2.06-.94 2.06-2.06.94z\"/><path d=\"M17.41 7.96l-1.37-1.37c-.4-.4-.92-.59-1.43-.59-.52 0-1.04.2-1.43.59L10.3 9.45l-7.72 7.72c-.78.78-.78 2.05 0 2.83L4 21.41c.39.39.9.59 1.41.59.51 0 1.02-.2 1.41-.59l7.78-7.78 2.81-2.81c.8-.78.8-2.07 0-2.86zM5.41 20L4 18.59l7.72-7.72 1.47 1.35L5.41 20z\"/>\n",
              "  </svg>\n",
              "      </button>\n",
              "      \n",
              "  <style>\n",
              "    .colab-df-container {\n",
              "      display:flex;\n",
              "      flex-wrap:wrap;\n",
              "      gap: 12px;\n",
              "    }\n",
              "\n",
              "    .colab-df-convert {\n",
              "      background-color: #E8F0FE;\n",
              "      border: none;\n",
              "      border-radius: 50%;\n",
              "      cursor: pointer;\n",
              "      display: none;\n",
              "      fill: #1967D2;\n",
              "      height: 32px;\n",
              "      padding: 0 0 0 0;\n",
              "      width: 32px;\n",
              "    }\n",
              "\n",
              "    .colab-df-convert:hover {\n",
              "      background-color: #E2EBFA;\n",
              "      box-shadow: 0px 1px 2px rgba(60, 64, 67, 0.3), 0px 1px 3px 1px rgba(60, 64, 67, 0.15);\n",
              "      fill: #174EA6;\n",
              "    }\n",
              "\n",
              "    [theme=dark] .colab-df-convert {\n",
              "      background-color: #3B4455;\n",
              "      fill: #D2E3FC;\n",
              "    }\n",
              "\n",
              "    [theme=dark] .colab-df-convert:hover {\n",
              "      background-color: #434B5C;\n",
              "      box-shadow: 0px 1px 3px 1px rgba(0, 0, 0, 0.15);\n",
              "      filter: drop-shadow(0px 1px 2px rgba(0, 0, 0, 0.3));\n",
              "      fill: #FFFFFF;\n",
              "    }\n",
              "  </style>\n",
              "\n",
              "      <script>\n",
              "        const buttonEl =\n",
              "          document.querySelector('#df-38406dc3-332f-4372-874c-a8180641ebab button.colab-df-convert');\n",
              "        buttonEl.style.display =\n",
              "          google.colab.kernel.accessAllowed ? 'block' : 'none';\n",
              "\n",
              "        async function convertToInteractive(key) {\n",
              "          const element = document.querySelector('#df-38406dc3-332f-4372-874c-a8180641ebab');\n",
              "          const dataTable =\n",
              "            await google.colab.kernel.invokeFunction('convertToInteractive',\n",
              "                                                     [key], {});\n",
              "          if (!dataTable) return;\n",
              "\n",
              "          const docLinkHtml = 'Like what you see? Visit the ' +\n",
              "            '<a target=\"_blank\" href=https://colab.research.google.com/notebooks/data_table.ipynb>data table notebook</a>'\n",
              "            + ' to learn more about interactive tables.';\n",
              "          element.innerHTML = '';\n",
              "          dataTable['output_type'] = 'display_data';\n",
              "          await google.colab.output.renderOutput(dataTable, element);\n",
              "          const docLink = document.createElement('div');\n",
              "          docLink.innerHTML = docLinkHtml;\n",
              "          element.appendChild(docLink);\n",
              "        }\n",
              "      </script>\n",
              "    </div>\n",
              "  </div>\n",
              "  "
            ],
            "text/plain": [
              "         MAE      RMSE\n",
              "k                     \n",
              "20  0.671135  0.886883\n",
              "25  0.666439  0.876753\n",
              "30  0.663620  0.870210\n",
              "35  0.660770  0.863998\n",
              "40  0.659291  0.859804"
            ]
          },
          "execution_count": 32,
          "metadata": {},
          "output_type": "execute_result"
        }
      ],
      "source": [
        "data_tuples = list(zip(num_list,mae_list,rmse_list))\n",
        "item_based_k=pd.DataFrame(data_tuples, columns=['k','MAE','RMSE']).set_index('k')\n",
        "item_based_k"
      ]
    },
    {
      "cell_type": "code",
      "source": [
        "num_list=[]\n",
        "mae_list=[]\n",
        "rmse_list=[]\n",
        "for i in range(10,51,10):\n",
        "  item2item = ItemToItem(ratings, movies, k=i, metric='cosine', dataset_name='ml1m')\n",
        "  mae,rmse=item2item.evaluate(x_test, y_test)\n",
        "  num_list.append(i)\n",
        "  mae_list.append(mae)\n",
        "  rmse_list.append(rmse)"
      ],
      "metadata": {
        "colab": {
          "base_uri": "https://localhost:8080/"
        },
        "id": "7cG2pwhP8A3N",
        "outputId": "5abdbc70-51e1-4025-85c2-fd3f13d30fd8"
      },
      "execution_count": null,
      "outputs": [
        {
          "output_type": "stream",
          "name": "stdout",
          "text": [
            "Normalize ratings ...\n",
            "Create the similarity model ...\n",
            "Compute nearest neighbors ...\n",
            "neighbors shape :  (3706, 11)\n",
            "similarities shape :  (3706, 11)\n",
            "Item to item recommendation model created with success ...\n",
            "Evaluate the model on 100021 test data ...\n",
            "\n",
            "MAE : 0.6873468996247033\n",
            "\n",
            "RMSE: 0.9200191266097641\n",
            "Normalize ratings ...\n",
            "Create the similarity model ...\n",
            "Compute nearest neighbors ...\n",
            "neighbors shape :  (3706, 21)\n",
            "similarities shape :  (3706, 21)\n",
            "Item to item recommendation model created with success ...\n",
            "Evaluate the model on 100021 test data ...\n",
            "\n",
            "MAE : 0.6711353799771201\n",
            "\n",
            "RMSE: 0.8868832654599925\n",
            "Normalize ratings ...\n",
            "Create the similarity model ...\n",
            "Compute nearest neighbors ...\n",
            "neighbors shape :  (3706, 31)\n",
            "similarities shape :  (3706, 31)\n",
            "Item to item recommendation model created with success ...\n",
            "Evaluate the model on 100021 test data ...\n",
            "\n",
            "MAE : 0.6636203373285545\n",
            "\n",
            "RMSE: 0.8702104184829774\n",
            "Normalize ratings ...\n",
            "Create the similarity model ...\n",
            "Compute nearest neighbors ...\n",
            "neighbors shape :  (3706, 41)\n",
            "similarities shape :  (3706, 41)\n",
            "Item to item recommendation model created with success ...\n",
            "Evaluate the model on 100021 test data ...\n",
            "\n",
            "MAE : 0.6592905322426316\n",
            "\n",
            "RMSE: 0.8598036306521122\n",
            "Normalize ratings ...\n",
            "Create the similarity model ...\n",
            "Compute nearest neighbors ...\n",
            "neighbors shape :  (3706, 51)\n",
            "similarities shape :  (3706, 51)\n",
            "Item to item recommendation model created with success ...\n",
            "Evaluate the model on 100021 test data ...\n",
            "\n",
            "MAE : 0.6558359710094166\n",
            "\n",
            "RMSE: 0.852823136720819\n"
          ]
        }
      ]
    },
    {
      "cell_type": "code",
      "source": [
        "data_tuples = list(zip(num_list,mae_list,rmse_list))\n",
        "item_based_k=pd.DataFrame(data_tuples, columns=['k','MAE','RMSE']).set_index('k')\n",
        "item_based_k"
      ],
      "metadata": {
        "colab": {
          "base_uri": "https://localhost:8080/",
          "height": 238
        },
        "id": "U6Ich6CZ8I0E",
        "outputId": "b1ad491e-7b5b-42e9-c0dd-8b5537f45c5f"
      },
      "execution_count": null,
      "outputs": [
        {
          "output_type": "execute_result",
          "data": {
            "text/plain": [
              "         MAE      RMSE\n",
              "k                     \n",
              "10  0.687347  0.920019\n",
              "20  0.671135  0.886883\n",
              "30  0.663620  0.870210\n",
              "40  0.659291  0.859804\n",
              "50  0.655836  0.852823"
            ],
            "text/html": [
              "\n",
              "  <div id=\"df-aa0e6e18-54c9-43f3-a8ff-f236fed2ef34\">\n",
              "    <div class=\"colab-df-container\">\n",
              "      <div>\n",
              "<style scoped>\n",
              "    .dataframe tbody tr th:only-of-type {\n",
              "        vertical-align: middle;\n",
              "    }\n",
              "\n",
              "    .dataframe tbody tr th {\n",
              "        vertical-align: top;\n",
              "    }\n",
              "\n",
              "    .dataframe thead th {\n",
              "        text-align: right;\n",
              "    }\n",
              "</style>\n",
              "<table border=\"1\" class=\"dataframe\">\n",
              "  <thead>\n",
              "    <tr style=\"text-align: right;\">\n",
              "      <th></th>\n",
              "      <th>MAE</th>\n",
              "      <th>RMSE</th>\n",
              "    </tr>\n",
              "    <tr>\n",
              "      <th>k</th>\n",
              "      <th></th>\n",
              "      <th></th>\n",
              "    </tr>\n",
              "  </thead>\n",
              "  <tbody>\n",
              "    <tr>\n",
              "      <th>10</th>\n",
              "      <td>0.687347</td>\n",
              "      <td>0.920019</td>\n",
              "    </tr>\n",
              "    <tr>\n",
              "      <th>20</th>\n",
              "      <td>0.671135</td>\n",
              "      <td>0.886883</td>\n",
              "    </tr>\n",
              "    <tr>\n",
              "      <th>30</th>\n",
              "      <td>0.663620</td>\n",
              "      <td>0.870210</td>\n",
              "    </tr>\n",
              "    <tr>\n",
              "      <th>40</th>\n",
              "      <td>0.659291</td>\n",
              "      <td>0.859804</td>\n",
              "    </tr>\n",
              "    <tr>\n",
              "      <th>50</th>\n",
              "      <td>0.655836</td>\n",
              "      <td>0.852823</td>\n",
              "    </tr>\n",
              "  </tbody>\n",
              "</table>\n",
              "</div>\n",
              "      <button class=\"colab-df-convert\" onclick=\"convertToInteractive('df-aa0e6e18-54c9-43f3-a8ff-f236fed2ef34')\"\n",
              "              title=\"Convert this dataframe to an interactive table.\"\n",
              "              style=\"display:none;\">\n",
              "        \n",
              "  <svg xmlns=\"http://www.w3.org/2000/svg\" height=\"24px\"viewBox=\"0 0 24 24\"\n",
              "       width=\"24px\">\n",
              "    <path d=\"M0 0h24v24H0V0z\" fill=\"none\"/>\n",
              "    <path d=\"M18.56 5.44l.94 2.06.94-2.06 2.06-.94-2.06-.94-.94-2.06-.94 2.06-2.06.94zm-11 1L8.5 8.5l.94-2.06 2.06-.94-2.06-.94L8.5 2.5l-.94 2.06-2.06.94zm10 10l.94 2.06.94-2.06 2.06-.94-2.06-.94-.94-2.06-.94 2.06-2.06.94z\"/><path d=\"M17.41 7.96l-1.37-1.37c-.4-.4-.92-.59-1.43-.59-.52 0-1.04.2-1.43.59L10.3 9.45l-7.72 7.72c-.78.78-.78 2.05 0 2.83L4 21.41c.39.39.9.59 1.41.59.51 0 1.02-.2 1.41-.59l7.78-7.78 2.81-2.81c.8-.78.8-2.07 0-2.86zM5.41 20L4 18.59l7.72-7.72 1.47 1.35L5.41 20z\"/>\n",
              "  </svg>\n",
              "      </button>\n",
              "      \n",
              "  <style>\n",
              "    .colab-df-container {\n",
              "      display:flex;\n",
              "      flex-wrap:wrap;\n",
              "      gap: 12px;\n",
              "    }\n",
              "\n",
              "    .colab-df-convert {\n",
              "      background-color: #E8F0FE;\n",
              "      border: none;\n",
              "      border-radius: 50%;\n",
              "      cursor: pointer;\n",
              "      display: none;\n",
              "      fill: #1967D2;\n",
              "      height: 32px;\n",
              "      padding: 0 0 0 0;\n",
              "      width: 32px;\n",
              "    }\n",
              "\n",
              "    .colab-df-convert:hover {\n",
              "      background-color: #E2EBFA;\n",
              "      box-shadow: 0px 1px 2px rgba(60, 64, 67, 0.3), 0px 1px 3px 1px rgba(60, 64, 67, 0.15);\n",
              "      fill: #174EA6;\n",
              "    }\n",
              "\n",
              "    [theme=dark] .colab-df-convert {\n",
              "      background-color: #3B4455;\n",
              "      fill: #D2E3FC;\n",
              "    }\n",
              "\n",
              "    [theme=dark] .colab-df-convert:hover {\n",
              "      background-color: #434B5C;\n",
              "      box-shadow: 0px 1px 3px 1px rgba(0, 0, 0, 0.15);\n",
              "      filter: drop-shadow(0px 1px 2px rgba(0, 0, 0, 0.3));\n",
              "      fill: #FFFFFF;\n",
              "    }\n",
              "  </style>\n",
              "\n",
              "      <script>\n",
              "        const buttonEl =\n",
              "          document.querySelector('#df-aa0e6e18-54c9-43f3-a8ff-f236fed2ef34 button.colab-df-convert');\n",
              "        buttonEl.style.display =\n",
              "          google.colab.kernel.accessAllowed ? 'block' : 'none';\n",
              "\n",
              "        async function convertToInteractive(key) {\n",
              "          const element = document.querySelector('#df-aa0e6e18-54c9-43f3-a8ff-f236fed2ef34');\n",
              "          const dataTable =\n",
              "            await google.colab.kernel.invokeFunction('convertToInteractive',\n",
              "                                                     [key], {});\n",
              "          if (!dataTable) return;\n",
              "\n",
              "          const docLinkHtml = 'Like what you see? Visit the ' +\n",
              "            '<a target=\"_blank\" href=https://colab.research.google.com/notebooks/data_table.ipynb>data table notebook</a>'\n",
              "            + ' to learn more about interactive tables.';\n",
              "          element.innerHTML = '';\n",
              "          dataTable['output_type'] = 'display_data';\n",
              "          await google.colab.output.renderOutput(dataTable, element);\n",
              "          const docLink = document.createElement('div');\n",
              "          docLink.innerHTML = docLinkHtml;\n",
              "          element.appendChild(docLink);\n",
              "        }\n",
              "      </script>\n",
              "    </div>\n",
              "  </div>\n",
              "  "
            ]
          },
          "metadata": {},
          "execution_count": 35
        }
      ]
    },
    {
      "cell_type": "markdown",
      "metadata": {
        "id": "6fLsALkl1Psv"
      },
      "source": [
        "# User based CF (parameter tuning)"
      ]
    },
    {
      "cell_type": "markdown",
      "metadata": {
        "id": "K7KqrF3g4-yZ"
      },
      "source": [
        "##### Metric: cosine/euclidean; KNN: k"
      ]
    },
    {
      "cell_type": "code",
      "execution_count": null,
      "metadata": {
        "id": "auQceveezmh0"
      },
      "outputs": [],
      "source": [
        "from sklearn.neighbors import NearestNeighbors\n",
        "from scipy.sparse import csr_matrix\n",
        "from datetime import datetime\n",
        "from glob import glob\n",
        "\n",
        "\n",
        "\n",
        "class UserToUser:\n",
        "\n",
        "    def __init__(self, ratings, movies, k=20, predictions_dir='model/predictions/user2user', metric='cosine'):\n",
        "\n",
        "        if metric not in ['cosine', 'euclidean']:\n",
        "            raise Exception('UnknownSimilarityMetric : The similarity metric must be selected among '\n",
        "                            'the followings : cosine, euclidean. You choosed {}'.format(metric))\n",
        "\n",
        "        self.ratings, self.uencoder, self.iencoder = ids_encoder(ratings)\n",
        "        self.means, self.ratings = self.prepare_ratings()\n",
        "        self.ratings_matrix = self.create_ratings_matrix()\n",
        "        self.k = k\n",
        "        self.metric = metric\n",
        "        self.model = self.init_similarity_model()\n",
        "        self.predictions_dir = predictions_dir\n",
        "        self.similarities, self.neighbors = self.compute_nearest_neighbors()\n",
        "        self.movies = movies\n",
        "\n",
        "        self.np_ratings = self.ratings.to_numpy()\n",
        "\n",
        "        os.makedirs(self.predictions_dir, exist_ok=True)\n",
        "        print('User to user recommendation model created with success ...')\n",
        "\n",
        "    def create_ratings_matrix(self):\n",
        "        return csr_matrix(\n",
        "            pd.crosstab(self.ratings.userid, self.ratings.itemid, self.ratings.rating, aggfunc=sum).fillna(0).values\n",
        "        )\n",
        "\n",
        "    def init_similarity_model(self):\n",
        "        print('Initialize the similarity model ...')\n",
        "        model = NearestNeighbors(metric=self.metric, n_neighbors=self.k+1, algorithm='brute')\n",
        "        model.fit(self.ratings_matrix)\n",
        "        return model\n",
        "\n",
        "    def prepare_ratings(self):\n",
        "        \"\"\"\n",
        "        Add to the rating dataframe :\n",
        "        - mean_ratings : mean rating for all users\n",
        "        - norm_ratings : normalized ratings for each (user,item) pair\n",
        "        \"\"\"\n",
        "        print('Normalize users ratings ...')\n",
        "        means = self.ratings.groupby(by='userid', as_index=False)['rating'].mean()\n",
        "        means_ratings = pd.merge(self.ratings, means, suffixes=('', '_mean'), on='userid')\n",
        "        means_ratings['norm_rating'] = means_ratings['rating'] - means_ratings['rating_mean']\n",
        "\n",
        "        return means.to_numpy()[:, 1], means_ratings\n",
        "\n",
        "    def compute_nearest_neighbors(self):\n",
        "        print('Compute nearest neighbors ...')\n",
        "        similarities, neighbors = self.model.kneighbors(self.ratings_matrix)\n",
        "        return similarities[:, 1:], neighbors[:, 1:]\n",
        "\n",
        "\n",
        "\n",
        "    def predict(self, userid, itemid):\n",
        "        \"\"\"\n",
        "        predict what score userid would have given to itemid.\n",
        "        :param userid:\n",
        "        :param itemid:\n",
        "        :return: r_hat : predicted rating of user userid on item itemid\n",
        "        \"\"\"\n",
        "        user_mean = self.means[userid]\n",
        "\n",
        "        user_similarities = self.similarities[userid]\n",
        "        user_neighbors = self.neighbors[userid]\n",
        "\n",
        "        # find users who rated item 'itemid'\n",
        "        iratings = self.np_ratings[self.np_ratings[:, 1].astype('int') == itemid]\n",
        "\n",
        "        # find similar users to 'userid' who rated item 'itemid'\n",
        "        suri = iratings[np.isin(iratings[:, 0], user_neighbors)]\n",
        "\n",
        "        normalized_ratings = suri[:, 4]\n",
        "        indexes = [np.where(user_neighbors == uid)[0][0] for uid in suri[:, 0].astype('int')]\n",
        "        sims = user_similarities[indexes]\n",
        "\n",
        "        num = np.dot(normalized_ratings, sims)\n",
        "        den = np.sum(np.abs(sims))\n",
        "\n",
        "        if num == 0 or den == 0:\n",
        "            return user_mean\n",
        "\n",
        "        r_hat = user_mean + np.dot(normalized_ratings, sims) / np.sum(np.abs(sims))\n",
        "\n",
        "        return r_hat\n",
        "\n",
        "    def evaluate(self, x_test, y_test):\n",
        "        print('Evaluate the model on {} test data ...'.format(x_test.shape[0]))\n",
        "        preds = list(self.predict(u, i) for (u, i) in x_test)\n",
        "        mae = np.sum(np.absolute(y_test - np.array(preds))) / x_test.shape[0]\n",
        "        rmse = mean_squared_error(y_test, preds, squared=False)\n",
        "        print('\\nMAE:', mae)\n",
        "        print('\\nRMSE:', rmse)\n",
        "        return mae,rmse\n",
        "\n",
        "    def user_predictions(self, userid, predictions_file):\n",
        "        \"\"\"\n",
        "        Make rating prediction for the active user on each candidate item and save in file prediction.csv\n",
        "        :param userid : id of the active user\n",
        "        :param predictions_file : where to save predictions\n",
        "        \"\"\"\n",
        "        # find candidate items for the active user\n",
        "        candidates = self.find_user_candidate_items(userid, n=30)\n",
        "\n",
        "        # loop over candidates items to make predictions\n",
        "        for itemid in candidates:\n",
        "\n",
        "            # prediction for userid on itemid\n",
        "            r_hat = self.predict(userid, itemid)\n",
        "\n",
        "            # save predictions\n",
        "            with open(predictions_file, 'a+') as file:\n",
        "                line = f'{userid},{itemid},{r_hat}\\n'\n",
        "                file.write(line)\n",
        "\n",
        "    def all_predictions(self):\n",
        "        \"\"\"\n",
        "        Make predictions for each user in the database.\n",
        "        \"\"\"\n",
        "        # get list of users in the database\n",
        "        users = self.ratings.userid.unique()\n",
        "\n",
        "        now = str(datetime.now()).replace(' ', '-').split('.')[0]\n",
        "        file_name = f'prediction.{now}.csv'\n",
        "        predictions_file = os.path.join(self.predictions_dir, file_name)\n",
        "\n",
        "        for userid in users:\n",
        "            # make rating predictions for the current user\n",
        "            self.user_predictions(userid, predictions_file)\n"
      ]
    },
    {
      "cell_type": "code",
      "source": [
        "metric_list=['euclidean','cosine']\n",
        "mae_list=[]\n",
        "rmse_list=[]\n",
        "for i in metric_list:\n",
        "  usertouser = UserToUser(ratings, movies, k=20, metric=i)\n",
        "  mae,rmse=usertouser.evaluate(x_test, y_test)\n",
        "  mae_list.append(mae)\n",
        "  rmse_list.append(rmse)"
      ],
      "metadata": {
        "colab": {
          "base_uri": "https://localhost:8080/"
        },
        "id": "zxqush1a6Zt9",
        "outputId": "289000ba-b82a-41af-a5a6-dd13a0f306f7"
      },
      "execution_count": null,
      "outputs": [
        {
          "output_type": "stream",
          "name": "stdout",
          "text": [
            "Normalize users ratings ...\n",
            "Initialize the similarity model ...\n",
            "Compute nearest neighbors ...\n",
            "User to user recommendation model created with success ...\n",
            "Evaluate the model on 100021 test data ...\n",
            "\n",
            "MAE: 0.8069332535426614\n",
            "\n",
            "RMSE: 1.0301247604917922\n",
            "Normalize users ratings ...\n",
            "Initialize the similarity model ...\n",
            "Compute nearest neighbors ...\n",
            "User to user recommendation model created with success ...\n",
            "Evaluate the model on 100021 test data ...\n",
            "\n",
            "MAE: 0.732267005840993\n",
            "\n",
            "RMSE: 0.9430955911776768\n"
          ]
        }
      ]
    },
    {
      "cell_type": "code",
      "source": [
        "data_tuples = list(zip(metric_list,mae_list,rmse_list))\n",
        "user_based_k=pd.DataFrame(data_tuples, columns=['Metric','MAE','RMSE']).set_index('Metric')\n",
        "user_based_k"
      ],
      "metadata": {
        "colab": {
          "base_uri": "https://localhost:8080/",
          "height": 143
        },
        "id": "JP6sivJC6qu5",
        "outputId": "62c5df72-9589-4113-c9dc-97810c671c03"
      },
      "execution_count": null,
      "outputs": [
        {
          "output_type": "execute_result",
          "data": {
            "text/plain": [
              "                MAE      RMSE\n",
              "Metric                       \n",
              "euclidean  0.806933  1.030125\n",
              "cosine     0.732267  0.943096"
            ],
            "text/html": [
              "\n",
              "  <div id=\"df-f223d048-57fa-4d66-9701-2e18e6b998a0\">\n",
              "    <div class=\"colab-df-container\">\n",
              "      <div>\n",
              "<style scoped>\n",
              "    .dataframe tbody tr th:only-of-type {\n",
              "        vertical-align: middle;\n",
              "    }\n",
              "\n",
              "    .dataframe tbody tr th {\n",
              "        vertical-align: top;\n",
              "    }\n",
              "\n",
              "    .dataframe thead th {\n",
              "        text-align: right;\n",
              "    }\n",
              "</style>\n",
              "<table border=\"1\" class=\"dataframe\">\n",
              "  <thead>\n",
              "    <tr style=\"text-align: right;\">\n",
              "      <th></th>\n",
              "      <th>MAE</th>\n",
              "      <th>RMSE</th>\n",
              "    </tr>\n",
              "    <tr>\n",
              "      <th>Metric</th>\n",
              "      <th></th>\n",
              "      <th></th>\n",
              "    </tr>\n",
              "  </thead>\n",
              "  <tbody>\n",
              "    <tr>\n",
              "      <th>euclidean</th>\n",
              "      <td>0.806933</td>\n",
              "      <td>1.030125</td>\n",
              "    </tr>\n",
              "    <tr>\n",
              "      <th>cosine</th>\n",
              "      <td>0.732267</td>\n",
              "      <td>0.943096</td>\n",
              "    </tr>\n",
              "  </tbody>\n",
              "</table>\n",
              "</div>\n",
              "      <button class=\"colab-df-convert\" onclick=\"convertToInteractive('df-f223d048-57fa-4d66-9701-2e18e6b998a0')\"\n",
              "              title=\"Convert this dataframe to an interactive table.\"\n",
              "              style=\"display:none;\">\n",
              "        \n",
              "  <svg xmlns=\"http://www.w3.org/2000/svg\" height=\"24px\"viewBox=\"0 0 24 24\"\n",
              "       width=\"24px\">\n",
              "    <path d=\"M0 0h24v24H0V0z\" fill=\"none\"/>\n",
              "    <path d=\"M18.56 5.44l.94 2.06.94-2.06 2.06-.94-2.06-.94-.94-2.06-.94 2.06-2.06.94zm-11 1L8.5 8.5l.94-2.06 2.06-.94-2.06-.94L8.5 2.5l-.94 2.06-2.06.94zm10 10l.94 2.06.94-2.06 2.06-.94-2.06-.94-.94-2.06-.94 2.06-2.06.94z\"/><path d=\"M17.41 7.96l-1.37-1.37c-.4-.4-.92-.59-1.43-.59-.52 0-1.04.2-1.43.59L10.3 9.45l-7.72 7.72c-.78.78-.78 2.05 0 2.83L4 21.41c.39.39.9.59 1.41.59.51 0 1.02-.2 1.41-.59l7.78-7.78 2.81-2.81c.8-.78.8-2.07 0-2.86zM5.41 20L4 18.59l7.72-7.72 1.47 1.35L5.41 20z\"/>\n",
              "  </svg>\n",
              "      </button>\n",
              "      \n",
              "  <style>\n",
              "    .colab-df-container {\n",
              "      display:flex;\n",
              "      flex-wrap:wrap;\n",
              "      gap: 12px;\n",
              "    }\n",
              "\n",
              "    .colab-df-convert {\n",
              "      background-color: #E8F0FE;\n",
              "      border: none;\n",
              "      border-radius: 50%;\n",
              "      cursor: pointer;\n",
              "      display: none;\n",
              "      fill: #1967D2;\n",
              "      height: 32px;\n",
              "      padding: 0 0 0 0;\n",
              "      width: 32px;\n",
              "    }\n",
              "\n",
              "    .colab-df-convert:hover {\n",
              "      background-color: #E2EBFA;\n",
              "      box-shadow: 0px 1px 2px rgba(60, 64, 67, 0.3), 0px 1px 3px 1px rgba(60, 64, 67, 0.15);\n",
              "      fill: #174EA6;\n",
              "    }\n",
              "\n",
              "    [theme=dark] .colab-df-convert {\n",
              "      background-color: #3B4455;\n",
              "      fill: #D2E3FC;\n",
              "    }\n",
              "\n",
              "    [theme=dark] .colab-df-convert:hover {\n",
              "      background-color: #434B5C;\n",
              "      box-shadow: 0px 1px 3px 1px rgba(0, 0, 0, 0.15);\n",
              "      filter: drop-shadow(0px 1px 2px rgba(0, 0, 0, 0.3));\n",
              "      fill: #FFFFFF;\n",
              "    }\n",
              "  </style>\n",
              "\n",
              "      <script>\n",
              "        const buttonEl =\n",
              "          document.querySelector('#df-f223d048-57fa-4d66-9701-2e18e6b998a0 button.colab-df-convert');\n",
              "        buttonEl.style.display =\n",
              "          google.colab.kernel.accessAllowed ? 'block' : 'none';\n",
              "\n",
              "        async function convertToInteractive(key) {\n",
              "          const element = document.querySelector('#df-f223d048-57fa-4d66-9701-2e18e6b998a0');\n",
              "          const dataTable =\n",
              "            await google.colab.kernel.invokeFunction('convertToInteractive',\n",
              "                                                     [key], {});\n",
              "          if (!dataTable) return;\n",
              "\n",
              "          const docLinkHtml = 'Like what you see? Visit the ' +\n",
              "            '<a target=\"_blank\" href=https://colab.research.google.com/notebooks/data_table.ipynb>data table notebook</a>'\n",
              "            + ' to learn more about interactive tables.';\n",
              "          element.innerHTML = '';\n",
              "          dataTable['output_type'] = 'display_data';\n",
              "          await google.colab.output.renderOutput(dataTable, element);\n",
              "          const docLink = document.createElement('div');\n",
              "          docLink.innerHTML = docLinkHtml;\n",
              "          element.appendChild(docLink);\n",
              "        }\n",
              "      </script>\n",
              "    </div>\n",
              "  </div>\n",
              "  "
            ]
          },
          "metadata": {},
          "execution_count": 32
        }
      ]
    },
    {
      "cell_type": "code",
      "execution_count": null,
      "metadata": {
        "colab": {
          "base_uri": "https://localhost:8080/"
        },
        "id": "-Ud6Q44yuPJR",
        "outputId": "f05a1050-3737-4906-973f-02896785fba4"
      },
      "outputs": [
        {
          "name": "stdout",
          "output_type": "stream",
          "text": [
            "Normalize users ratings ...\n",
            "Initialize the similarity model ...\n",
            "Compute nearest neighbors ...\n",
            "User to user recommendation model created with success ...\n",
            "Evaluate the model on 100021 test data ...\n",
            "\n",
            "MAE: 0.8013958810471323\n",
            "\n",
            "RMSE: 1.0292680107126486\n",
            "Normalize users ratings ...\n",
            "Initialize the similarity model ...\n",
            "Compute nearest neighbors ...\n",
            "User to user recommendation model created with success ...\n",
            "Evaluate the model on 100021 test data ...\n",
            "\n",
            "MAE: 0.7601470525150489\n",
            "\n",
            "RMSE: 0.9787523421121441\n",
            "Normalize users ratings ...\n",
            "Initialize the similarity model ...\n",
            "Compute nearest neighbors ...\n",
            "User to user recommendation model created with success ...\n",
            "Evaluate the model on 100021 test data ...\n",
            "\n",
            "MAE: 0.7429270759056283\n",
            "\n",
            "RMSE: 0.9566809638562283\n",
            "Normalize users ratings ...\n",
            "Initialize the similarity model ...\n",
            "Compute nearest neighbors ...\n",
            "User to user recommendation model created with success ...\n",
            "Evaluate the model on 100021 test data ...\n",
            "\n",
            "MAE: 0.732267005840993\n",
            "\n",
            "RMSE: 0.9430955911776768\n",
            "Normalize users ratings ...\n",
            "Initialize the similarity model ...\n",
            "Compute nearest neighbors ...\n",
            "User to user recommendation model created with success ...\n",
            "Evaluate the model on 100021 test data ...\n",
            "\n",
            "MAE: 0.7248071729199848\n",
            "\n",
            "RMSE: 0.9339443317846537\n"
          ]
        }
      ],
      "source": [
        "num_list=[]\n",
        "mae_list=[]\n",
        "rmse_list=[]\n",
        "for i in range(5,30,5):\n",
        "  usertouser = UserToUser(ratings, movies, k=i, metric='cosine')\n",
        "  mae,rmse=usertouser.evaluate(x_test, y_test)\n",
        "  num_list.append(i)\n",
        "  mae_list.append(mae)\n",
        "  rmse_list.append(rmse)"
      ]
    },
    {
      "cell_type": "code",
      "execution_count": null,
      "metadata": {
        "colab": {
          "base_uri": "https://localhost:8080/"
        },
        "id": "98lpj_X61ic9",
        "outputId": "54014db9-68a5-4e32-e7a2-e4505b3fd9db"
      },
      "outputs": [
        {
          "data": {
            "text/html": [
              "\n",
              "  <div id=\"df-d3cdcade-277c-411a-927f-13d329406e03\">\n",
              "    <div class=\"colab-df-container\">\n",
              "      <div>\n",
              "<style scoped>\n",
              "    .dataframe tbody tr th:only-of-type {\n",
              "        vertical-align: middle;\n",
              "    }\n",
              "\n",
              "    .dataframe tbody tr th {\n",
              "        vertical-align: top;\n",
              "    }\n",
              "\n",
              "    .dataframe thead th {\n",
              "        text-align: right;\n",
              "    }\n",
              "</style>\n",
              "<table border=\"1\" class=\"dataframe\">\n",
              "  <thead>\n",
              "    <tr style=\"text-align: right;\">\n",
              "      <th></th>\n",
              "      <th>MAE</th>\n",
              "      <th>RMSE</th>\n",
              "    </tr>\n",
              "    <tr>\n",
              "      <th>k</th>\n",
              "      <th></th>\n",
              "      <th></th>\n",
              "    </tr>\n",
              "  </thead>\n",
              "  <tbody>\n",
              "    <tr>\n",
              "      <th>5</th>\n",
              "      <td>0.801396</td>\n",
              "      <td>1.029268</td>\n",
              "    </tr>\n",
              "    <tr>\n",
              "      <th>10</th>\n",
              "      <td>0.760147</td>\n",
              "      <td>0.978752</td>\n",
              "    </tr>\n",
              "    <tr>\n",
              "      <th>15</th>\n",
              "      <td>0.742927</td>\n",
              "      <td>0.956681</td>\n",
              "    </tr>\n",
              "    <tr>\n",
              "      <th>20</th>\n",
              "      <td>0.732267</td>\n",
              "      <td>0.943096</td>\n",
              "    </tr>\n",
              "    <tr>\n",
              "      <th>25</th>\n",
              "      <td>0.724807</td>\n",
              "      <td>0.933944</td>\n",
              "    </tr>\n",
              "  </tbody>\n",
              "</table>\n",
              "</div>\n",
              "      <button class=\"colab-df-convert\" onclick=\"convertToInteractive('df-d3cdcade-277c-411a-927f-13d329406e03')\"\n",
              "              title=\"Convert this dataframe to an interactive table.\"\n",
              "              style=\"display:none;\">\n",
              "        \n",
              "  <svg xmlns=\"http://www.w3.org/2000/svg\" height=\"24px\"viewBox=\"0 0 24 24\"\n",
              "       width=\"24px\">\n",
              "    <path d=\"M0 0h24v24H0V0z\" fill=\"none\"/>\n",
              "    <path d=\"M18.56 5.44l.94 2.06.94-2.06 2.06-.94-2.06-.94-.94-2.06-.94 2.06-2.06.94zm-11 1L8.5 8.5l.94-2.06 2.06-.94-2.06-.94L8.5 2.5l-.94 2.06-2.06.94zm10 10l.94 2.06.94-2.06 2.06-.94-2.06-.94-.94-2.06-.94 2.06-2.06.94z\"/><path d=\"M17.41 7.96l-1.37-1.37c-.4-.4-.92-.59-1.43-.59-.52 0-1.04.2-1.43.59L10.3 9.45l-7.72 7.72c-.78.78-.78 2.05 0 2.83L4 21.41c.39.39.9.59 1.41.59.51 0 1.02-.2 1.41-.59l7.78-7.78 2.81-2.81c.8-.78.8-2.07 0-2.86zM5.41 20L4 18.59l7.72-7.72 1.47 1.35L5.41 20z\"/>\n",
              "  </svg>\n",
              "      </button>\n",
              "      \n",
              "  <style>\n",
              "    .colab-df-container {\n",
              "      display:flex;\n",
              "      flex-wrap:wrap;\n",
              "      gap: 12px;\n",
              "    }\n",
              "\n",
              "    .colab-df-convert {\n",
              "      background-color: #E8F0FE;\n",
              "      border: none;\n",
              "      border-radius: 50%;\n",
              "      cursor: pointer;\n",
              "      display: none;\n",
              "      fill: #1967D2;\n",
              "      height: 32px;\n",
              "      padding: 0 0 0 0;\n",
              "      width: 32px;\n",
              "    }\n",
              "\n",
              "    .colab-df-convert:hover {\n",
              "      background-color: #E2EBFA;\n",
              "      box-shadow: 0px 1px 2px rgba(60, 64, 67, 0.3), 0px 1px 3px 1px rgba(60, 64, 67, 0.15);\n",
              "      fill: #174EA6;\n",
              "    }\n",
              "\n",
              "    [theme=dark] .colab-df-convert {\n",
              "      background-color: #3B4455;\n",
              "      fill: #D2E3FC;\n",
              "    }\n",
              "\n",
              "    [theme=dark] .colab-df-convert:hover {\n",
              "      background-color: #434B5C;\n",
              "      box-shadow: 0px 1px 3px 1px rgba(0, 0, 0, 0.15);\n",
              "      filter: drop-shadow(0px 1px 2px rgba(0, 0, 0, 0.3));\n",
              "      fill: #FFFFFF;\n",
              "    }\n",
              "  </style>\n",
              "\n",
              "      <script>\n",
              "        const buttonEl =\n",
              "          document.querySelector('#df-d3cdcade-277c-411a-927f-13d329406e03 button.colab-df-convert');\n",
              "        buttonEl.style.display =\n",
              "          google.colab.kernel.accessAllowed ? 'block' : 'none';\n",
              "\n",
              "        async function convertToInteractive(key) {\n",
              "          const element = document.querySelector('#df-d3cdcade-277c-411a-927f-13d329406e03');\n",
              "          const dataTable =\n",
              "            await google.colab.kernel.invokeFunction('convertToInteractive',\n",
              "                                                     [key], {});\n",
              "          if (!dataTable) return;\n",
              "\n",
              "          const docLinkHtml = 'Like what you see? Visit the ' +\n",
              "            '<a target=\"_blank\" href=https://colab.research.google.com/notebooks/data_table.ipynb>data table notebook</a>'\n",
              "            + ' to learn more about interactive tables.';\n",
              "          element.innerHTML = '';\n",
              "          dataTable['output_type'] = 'display_data';\n",
              "          await google.colab.output.renderOutput(dataTable, element);\n",
              "          const docLink = document.createElement('div');\n",
              "          docLink.innerHTML = docLinkHtml;\n",
              "          element.appendChild(docLink);\n",
              "        }\n",
              "      </script>\n",
              "    </div>\n",
              "  </div>\n",
              "  "
            ],
            "text/plain": [
              "         MAE      RMSE\n",
              "k                     \n",
              "5   0.801396  1.029268\n",
              "10  0.760147  0.978752\n",
              "15  0.742927  0.956681\n",
              "20  0.732267  0.943096\n",
              "25  0.724807  0.933944"
            ]
          },
          "execution_count": 45,
          "metadata": {},
          "output_type": "execute_result"
        }
      ],
      "source": [
        "data_tuples = list(zip(num_list,mae_list,rmse_list))\n",
        "user_based_k=pd.DataFrame(data_tuples, columns=['k','MAE','RMSE']).set_index('k')\n",
        "user_based_k"
      ]
    },
    {
      "cell_type": "code",
      "execution_count": null,
      "metadata": {
        "id": "-q32Hgyd1ibJ",
        "colab": {
          "base_uri": "https://localhost:8080/"
        },
        "outputId": "5b601659-4b62-4fe6-f02c-43c83ead4e82"
      },
      "outputs": [
        {
          "output_type": "stream",
          "name": "stdout",
          "text": [
            "Normalize users ratings ...\n",
            "Initialize the similarity model ...\n",
            "Compute nearest neighbors ...\n",
            "User to user recommendation model created with success ...\n",
            "Evaluate the model on 100021 test data ...\n",
            "\n",
            "MAE: 0.7601470525150489\n",
            "\n",
            "RMSE: 0.9787523421121441\n",
            "Normalize users ratings ...\n",
            "Initialize the similarity model ...\n",
            "Compute nearest neighbors ...\n",
            "User to user recommendation model created with success ...\n",
            "Evaluate the model on 100021 test data ...\n",
            "\n",
            "MAE: 0.732267005840993\n",
            "\n",
            "RMSE: 0.9430955911776768\n",
            "Normalize users ratings ...\n",
            "Initialize the similarity model ...\n",
            "Compute nearest neighbors ...\n",
            "User to user recommendation model created with success ...\n",
            "Evaluate the model on 100021 test data ...\n",
            "\n",
            "MAE: 0.720316330298942\n",
            "\n",
            "RMSE: 0.9277616341447673\n",
            "Normalize users ratings ...\n",
            "Initialize the similarity model ...\n",
            "Compute nearest neighbors ...\n",
            "User to user recommendation model created with success ...\n",
            "Evaluate the model on 100021 test data ...\n",
            "\n",
            "MAE: 0.7142132574125634\n",
            "\n",
            "RMSE: 0.9194698933213272\n",
            "Normalize users ratings ...\n",
            "Initialize the similarity model ...\n",
            "Compute nearest neighbors ...\n",
            "User to user recommendation model created with success ...\n",
            "Evaluate the model on 100021 test data ...\n",
            "\n",
            "MAE: 0.7102261476765075\n",
            "\n",
            "RMSE: 0.9137428612973223\n"
          ]
        }
      ],
      "source": [
        "num_list=[]\n",
        "mae_list=[]\n",
        "rmse_list=[]\n",
        "for i in range(10,51,10):\n",
        "  usertouser = UserToUser(ratings, movies, k=i, metric='cosine')\n",
        "  mae,rmse=usertouser.evaluate(x_test, y_test)\n",
        "  num_list.append(i)\n",
        "  mae_list.append(mae)\n",
        "  rmse_list.append(rmse)"
      ]
    },
    {
      "cell_type": "code",
      "execution_count": null,
      "metadata": {
        "id": "fMvh8DYU1iVj",
        "colab": {
          "base_uri": "https://localhost:8080/",
          "height": 238
        },
        "outputId": "5f8cd4d6-e41f-4c68-a635-596dcff0c50a"
      },
      "outputs": [
        {
          "output_type": "execute_result",
          "data": {
            "text/plain": [
              "         MAE      RMSE\n",
              "k                     \n",
              "10  0.760147  0.978752\n",
              "20  0.732267  0.943096\n",
              "30  0.720316  0.927762\n",
              "40  0.714213  0.919470\n",
              "50  0.710226  0.913743"
            ],
            "text/html": [
              "\n",
              "  <div id=\"df-716d4984-90e3-4e1d-ad34-bd39b71c104a\">\n",
              "    <div class=\"colab-df-container\">\n",
              "      <div>\n",
              "<style scoped>\n",
              "    .dataframe tbody tr th:only-of-type {\n",
              "        vertical-align: middle;\n",
              "    }\n",
              "\n",
              "    .dataframe tbody tr th {\n",
              "        vertical-align: top;\n",
              "    }\n",
              "\n",
              "    .dataframe thead th {\n",
              "        text-align: right;\n",
              "    }\n",
              "</style>\n",
              "<table border=\"1\" class=\"dataframe\">\n",
              "  <thead>\n",
              "    <tr style=\"text-align: right;\">\n",
              "      <th></th>\n",
              "      <th>MAE</th>\n",
              "      <th>RMSE</th>\n",
              "    </tr>\n",
              "    <tr>\n",
              "      <th>k</th>\n",
              "      <th></th>\n",
              "      <th></th>\n",
              "    </tr>\n",
              "  </thead>\n",
              "  <tbody>\n",
              "    <tr>\n",
              "      <th>10</th>\n",
              "      <td>0.760147</td>\n",
              "      <td>0.978752</td>\n",
              "    </tr>\n",
              "    <tr>\n",
              "      <th>20</th>\n",
              "      <td>0.732267</td>\n",
              "      <td>0.943096</td>\n",
              "    </tr>\n",
              "    <tr>\n",
              "      <th>30</th>\n",
              "      <td>0.720316</td>\n",
              "      <td>0.927762</td>\n",
              "    </tr>\n",
              "    <tr>\n",
              "      <th>40</th>\n",
              "      <td>0.714213</td>\n",
              "      <td>0.919470</td>\n",
              "    </tr>\n",
              "    <tr>\n",
              "      <th>50</th>\n",
              "      <td>0.710226</td>\n",
              "      <td>0.913743</td>\n",
              "    </tr>\n",
              "  </tbody>\n",
              "</table>\n",
              "</div>\n",
              "      <button class=\"colab-df-convert\" onclick=\"convertToInteractive('df-716d4984-90e3-4e1d-ad34-bd39b71c104a')\"\n",
              "              title=\"Convert this dataframe to an interactive table.\"\n",
              "              style=\"display:none;\">\n",
              "        \n",
              "  <svg xmlns=\"http://www.w3.org/2000/svg\" height=\"24px\"viewBox=\"0 0 24 24\"\n",
              "       width=\"24px\">\n",
              "    <path d=\"M0 0h24v24H0V0z\" fill=\"none\"/>\n",
              "    <path d=\"M18.56 5.44l.94 2.06.94-2.06 2.06-.94-2.06-.94-.94-2.06-.94 2.06-2.06.94zm-11 1L8.5 8.5l.94-2.06 2.06-.94-2.06-.94L8.5 2.5l-.94 2.06-2.06.94zm10 10l.94 2.06.94-2.06 2.06-.94-2.06-.94-.94-2.06-.94 2.06-2.06.94z\"/><path d=\"M17.41 7.96l-1.37-1.37c-.4-.4-.92-.59-1.43-.59-.52 0-1.04.2-1.43.59L10.3 9.45l-7.72 7.72c-.78.78-.78 2.05 0 2.83L4 21.41c.39.39.9.59 1.41.59.51 0 1.02-.2 1.41-.59l7.78-7.78 2.81-2.81c.8-.78.8-2.07 0-2.86zM5.41 20L4 18.59l7.72-7.72 1.47 1.35L5.41 20z\"/>\n",
              "  </svg>\n",
              "      </button>\n",
              "      \n",
              "  <style>\n",
              "    .colab-df-container {\n",
              "      display:flex;\n",
              "      flex-wrap:wrap;\n",
              "      gap: 12px;\n",
              "    }\n",
              "\n",
              "    .colab-df-convert {\n",
              "      background-color: #E8F0FE;\n",
              "      border: none;\n",
              "      border-radius: 50%;\n",
              "      cursor: pointer;\n",
              "      display: none;\n",
              "      fill: #1967D2;\n",
              "      height: 32px;\n",
              "      padding: 0 0 0 0;\n",
              "      width: 32px;\n",
              "    }\n",
              "\n",
              "    .colab-df-convert:hover {\n",
              "      background-color: #E2EBFA;\n",
              "      box-shadow: 0px 1px 2px rgba(60, 64, 67, 0.3), 0px 1px 3px 1px rgba(60, 64, 67, 0.15);\n",
              "      fill: #174EA6;\n",
              "    }\n",
              "\n",
              "    [theme=dark] .colab-df-convert {\n",
              "      background-color: #3B4455;\n",
              "      fill: #D2E3FC;\n",
              "    }\n",
              "\n",
              "    [theme=dark] .colab-df-convert:hover {\n",
              "      background-color: #434B5C;\n",
              "      box-shadow: 0px 1px 3px 1px rgba(0, 0, 0, 0.15);\n",
              "      filter: drop-shadow(0px 1px 2px rgba(0, 0, 0, 0.3));\n",
              "      fill: #FFFFFF;\n",
              "    }\n",
              "  </style>\n",
              "\n",
              "      <script>\n",
              "        const buttonEl =\n",
              "          document.querySelector('#df-716d4984-90e3-4e1d-ad34-bd39b71c104a button.colab-df-convert');\n",
              "        buttonEl.style.display =\n",
              "          google.colab.kernel.accessAllowed ? 'block' : 'none';\n",
              "\n",
              "        async function convertToInteractive(key) {\n",
              "          const element = document.querySelector('#df-716d4984-90e3-4e1d-ad34-bd39b71c104a');\n",
              "          const dataTable =\n",
              "            await google.colab.kernel.invokeFunction('convertToInteractive',\n",
              "                                                     [key], {});\n",
              "          if (!dataTable) return;\n",
              "\n",
              "          const docLinkHtml = 'Like what you see? Visit the ' +\n",
              "            '<a target=\"_blank\" href=https://colab.research.google.com/notebooks/data_table.ipynb>data table notebook</a>'\n",
              "            + ' to learn more about interactive tables.';\n",
              "          element.innerHTML = '';\n",
              "          dataTable['output_type'] = 'display_data';\n",
              "          await google.colab.output.renderOutput(dataTable, element);\n",
              "          const docLink = document.createElement('div');\n",
              "          docLink.innerHTML = docLinkHtml;\n",
              "          element.appendChild(docLink);\n",
              "        }\n",
              "      </script>\n",
              "    </div>\n",
              "  </div>\n",
              "  "
            ]
          },
          "metadata": {},
          "execution_count": 37
        }
      ],
      "source": [
        "data_tuples = list(zip(num_list,mae_list,rmse_list))\n",
        "user_based_k=pd.DataFrame(data_tuples, columns=['k','MAE','RMSE']).set_index('k')\n",
        "user_based_k"
      ]
    },
    {
      "cell_type": "code",
      "execution_count": null,
      "metadata": {
        "id": "1WbXAypr1iSn"
      },
      "outputs": [],
      "source": [
        ""
      ]
    },
    {
      "cell_type": "code",
      "execution_count": null,
      "metadata": {
        "id": "eHBSp7OnJAla"
      },
      "outputs": [],
      "source": [
        ""
      ]
    },
    {
      "cell_type": "code",
      "execution_count": null,
      "metadata": {
        "id": "k0_NPsPF1iQK"
      },
      "outputs": [],
      "source": [
        ""
      ]
    },
    {
      "cell_type": "code",
      "execution_count": null,
      "metadata": {
        "id": "QFesvzBX1iNu"
      },
      "outputs": [],
      "source": [
        ""
      ]
    },
    {
      "cell_type": "code",
      "execution_count": null,
      "metadata": {
        "id": "9v37y3HN1iKP"
      },
      "outputs": [],
      "source": [
        ""
      ]
    },
    {
      "cell_type": "code",
      "execution_count": null,
      "metadata": {
        "id": "rOr1zZMn1iEy"
      },
      "outputs": [],
      "source": [
        ""
      ]
    },
    {
      "cell_type": "code",
      "execution_count": null,
      "metadata": {
        "id": "Ks3ohsHYWjj0"
      },
      "outputs": [],
      "source": [
        ""
      ]
    }
  ],
  "metadata": {
    "accelerator": "GPU",
    "colab": {
      "collapsed_sections": [],
      "name": "DSA4212_assignment2.ipynb",
      "provenance": []
    },
    "kernelspec": {
      "display_name": "Python 3",
      "name": "python3"
    },
    "language_info": {
      "name": "python"
    }
  },
  "nbformat": 4,
  "nbformat_minor": 0
}